{
 "cells": [
  {
   "cell_type": "code",
   "execution_count": 1,
   "metadata": {},
   "outputs": [
    {
     "name": "stderr",
     "output_type": "stream",
     "text": [
      "C:\\Apps\\HarshD\\lib\\site-packages\\IPython\\core\\interactiveshell.py:2785: DtypeWarning: Columns (18,20) have mixed types. Specify dtype option on import or set low_memory=False.\n",
      "  interactivity=interactivity, compiler=compiler, result=result)\n"
     ]
    }
   ],
   "source": [
    "import pandas as pd\n",
    "pd.set_option('display.max_columns', None)\n",
    "crime=pd.read_csv('NYPD_Complaint_Data_Historic.csv',error_bad_lines = False)"
   ]
  },
  {
   "cell_type": "code",
   "execution_count": 2,
   "metadata": {},
   "outputs": [
    {
     "data": {
      "text/html": [
       "<div>\n",
       "<style scoped>\n",
       "    .dataframe tbody tr th:only-of-type {\n",
       "        vertical-align: middle;\n",
       "    }\n",
       "\n",
       "    .dataframe tbody tr th {\n",
       "        vertical-align: top;\n",
       "    }\n",
       "\n",
       "    .dataframe thead th {\n",
       "        text-align: right;\n",
       "    }\n",
       "</style>\n",
       "<table border=\"1\" class=\"dataframe\">\n",
       "  <thead>\n",
       "    <tr style=\"text-align: right;\">\n",
       "      <th></th>\n",
       "      <th>CMPLNT_NUM</th>\n",
       "      <th>CMPLNT_FR_DT</th>\n",
       "      <th>CMPLNT_FR_TM</th>\n",
       "      <th>CMPLNT_TO_DT</th>\n",
       "      <th>CMPLNT_TO_TM</th>\n",
       "      <th>ADDR_PCT_CD</th>\n",
       "      <th>RPT_DT</th>\n",
       "      <th>KY_CD</th>\n",
       "      <th>OFNS_DESC</th>\n",
       "      <th>PD_CD</th>\n",
       "      <th>PD_DESC</th>\n",
       "      <th>CRM_ATPT_CPTD_CD</th>\n",
       "      <th>LAW_CAT_CD</th>\n",
       "      <th>BORO_NM</th>\n",
       "      <th>LOC_OF_OCCUR_DESC</th>\n",
       "      <th>PREM_TYP_DESC</th>\n",
       "      <th>JURIS_DESC</th>\n",
       "      <th>JURISDICTION_CODE</th>\n",
       "      <th>PARKS_NM</th>\n",
       "      <th>HADEVELOPT</th>\n",
       "      <th>HOUSING_PSA</th>\n",
       "      <th>X_COORD_CD</th>\n",
       "      <th>Y_COORD_CD</th>\n",
       "      <th>SUSP_AGE_GROUP</th>\n",
       "      <th>SUSP_RACE</th>\n",
       "      <th>SUSP_SEX</th>\n",
       "      <th>TRANSIT_DISTRICT</th>\n",
       "      <th>Latitude</th>\n",
       "      <th>Longitude</th>\n",
       "      <th>Lat_Lon</th>\n",
       "      <th>PATROL_BORO</th>\n",
       "      <th>STATION_NAME</th>\n",
       "      <th>VIC_AGE_GROUP</th>\n",
       "      <th>VIC_RACE</th>\n",
       "      <th>VIC_SEX</th>\n",
       "    </tr>\n",
       "  </thead>\n",
       "  <tbody>\n",
       "    <tr>\n",
       "      <th>0</th>\n",
       "      <td>876525802</td>\n",
       "      <td>04/10/2008</td>\n",
       "      <td>19:10:00</td>\n",
       "      <td>NaN</td>\n",
       "      <td>NaN</td>\n",
       "      <td>73.0</td>\n",
       "      <td>04/10/2008</td>\n",
       "      <td>341</td>\n",
       "      <td>PETIT LARCENY</td>\n",
       "      <td>321.0</td>\n",
       "      <td>LARCENY,PETIT FROM AUTO</td>\n",
       "      <td>COMPLETED</td>\n",
       "      <td>MISDEMEANOR</td>\n",
       "      <td>BROOKLYN</td>\n",
       "      <td>NaN</td>\n",
       "      <td>STREET</td>\n",
       "      <td>N.Y. POLICE DEPT</td>\n",
       "      <td>0.0</td>\n",
       "      <td>NaN</td>\n",
       "      <td>NaN</td>\n",
       "      <td>NaN</td>\n",
       "      <td>1008495.0</td>\n",
       "      <td>183171.0</td>\n",
       "      <td>NaN</td>\n",
       "      <td>NaN</td>\n",
       "      <td>NaN</td>\n",
       "      <td>NaN</td>\n",
       "      <td>40.669414</td>\n",
       "      <td>-73.912603</td>\n",
       "      <td>(40.669413836, -73.91260308)</td>\n",
       "      <td>PATROL BORO BKLYN NORTH</td>\n",
       "      <td>NaN</td>\n",
       "      <td>18-24</td>\n",
       "      <td>BLACK</td>\n",
       "      <td>M</td>\n",
       "    </tr>\n",
       "    <tr>\n",
       "      <th>1</th>\n",
       "      <td>402693528</td>\n",
       "      <td>06/03/2007</td>\n",
       "      <td>15:23:00</td>\n",
       "      <td>NaN</td>\n",
       "      <td>NaN</td>\n",
       "      <td>28.0</td>\n",
       "      <td>06/03/2007</td>\n",
       "      <td>236</td>\n",
       "      <td>DANGEROUS WEAPONS</td>\n",
       "      <td>782.0</td>\n",
       "      <td>WEAPONS, POSSESSION, ETC</td>\n",
       "      <td>COMPLETED</td>\n",
       "      <td>MISDEMEANOR</td>\n",
       "      <td>MANHATTAN</td>\n",
       "      <td>NaN</td>\n",
       "      <td>STREET</td>\n",
       "      <td>N.Y. POLICE DEPT</td>\n",
       "      <td>0.0</td>\n",
       "      <td>NaN</td>\n",
       "      <td>NaN</td>\n",
       "      <td>NaN</td>\n",
       "      <td>999336.0</td>\n",
       "      <td>231461.0</td>\n",
       "      <td>NaN</td>\n",
       "      <td>NaN</td>\n",
       "      <td>NaN</td>\n",
       "      <td>NaN</td>\n",
       "      <td>40.801978</td>\n",
       "      <td>-73.945511</td>\n",
       "      <td>(40.801978284, -73.945511151)</td>\n",
       "      <td>PATROL BORO MAN NORTH</td>\n",
       "      <td>NaN</td>\n",
       "      <td>NaN</td>\n",
       "      <td>UNKNOWN</td>\n",
       "      <td>E</td>\n",
       "    </tr>\n",
       "    <tr>\n",
       "      <th>2</th>\n",
       "      <td>832030069</td>\n",
       "      <td>02/16/2010</td>\n",
       "      <td>20:50:00</td>\n",
       "      <td>02/16/2010</td>\n",
       "      <td>20:50:00</td>\n",
       "      <td>102.0</td>\n",
       "      <td>02/16/2010</td>\n",
       "      <td>105</td>\n",
       "      <td>ROBBERY</td>\n",
       "      <td>375.0</td>\n",
       "      <td>ROBBERY,PHARMACY</td>\n",
       "      <td>COMPLETED</td>\n",
       "      <td>FELONY</td>\n",
       "      <td>QUEENS</td>\n",
       "      <td>INSIDE</td>\n",
       "      <td>GROCERY/BODEGA</td>\n",
       "      <td>N.Y. POLICE DEPT</td>\n",
       "      <td>0.0</td>\n",
       "      <td>NaN</td>\n",
       "      <td>NaN</td>\n",
       "      <td>NaN</td>\n",
       "      <td>1031117.0</td>\n",
       "      <td>194344.0</td>\n",
       "      <td>NaN</td>\n",
       "      <td>NaN</td>\n",
       "      <td>NaN</td>\n",
       "      <td>NaN</td>\n",
       "      <td>40.699990</td>\n",
       "      <td>-73.830978</td>\n",
       "      <td>(40.699990268, -73.830977746)</td>\n",
       "      <td>PATROL BORO QUEENS SOUTH</td>\n",
       "      <td>NaN</td>\n",
       "      <td>NaN</td>\n",
       "      <td>UNKNOWN</td>\n",
       "      <td>D</td>\n",
       "    </tr>\n",
       "    <tr>\n",
       "      <th>3</th>\n",
       "      <td>538308771</td>\n",
       "      <td>11/10/2009</td>\n",
       "      <td>16:35:00</td>\n",
       "      <td>11/10/2009</td>\n",
       "      <td>16:45:00</td>\n",
       "      <td>79.0</td>\n",
       "      <td>11/10/2009</td>\n",
       "      <td>341</td>\n",
       "      <td>PETIT LARCENY</td>\n",
       "      <td>333.0</td>\n",
       "      <td>LARCENY,PETIT FROM STORE-SHOPL</td>\n",
       "      <td>COMPLETED</td>\n",
       "      <td>MISDEMEANOR</td>\n",
       "      <td>BROOKLYN</td>\n",
       "      <td>INSIDE</td>\n",
       "      <td>FOOD SUPERMARKET</td>\n",
       "      <td>N.Y. POLICE DEPT</td>\n",
       "      <td>0.0</td>\n",
       "      <td>NaN</td>\n",
       "      <td>NaN</td>\n",
       "      <td>NaN</td>\n",
       "      <td>996722.0</td>\n",
       "      <td>187385.0</td>\n",
       "      <td>NaN</td>\n",
       "      <td>NaN</td>\n",
       "      <td>NaN</td>\n",
       "      <td>NaN</td>\n",
       "      <td>40.681005</td>\n",
       "      <td>-73.955035</td>\n",
       "      <td>(40.681004729, -73.955034577)</td>\n",
       "      <td>PATROL BORO BKLYN NORTH</td>\n",
       "      <td>NaN</td>\n",
       "      <td>NaN</td>\n",
       "      <td>UNKNOWN</td>\n",
       "      <td>D</td>\n",
       "    </tr>\n",
       "    <tr>\n",
       "      <th>4</th>\n",
       "      <td>965693192</td>\n",
       "      <td>04/11/2006</td>\n",
       "      <td>09:30:00</td>\n",
       "      <td>04/11/2006</td>\n",
       "      <td>10:00:00</td>\n",
       "      <td>123.0</td>\n",
       "      <td>04/25/2006</td>\n",
       "      <td>112</td>\n",
       "      <td>THEFT-FRAUD</td>\n",
       "      <td>739.0</td>\n",
       "      <td>FRAUD,UNCLASSIFIED-FELONY</td>\n",
       "      <td>COMPLETED</td>\n",
       "      <td>FELONY</td>\n",
       "      <td>STATEN ISLAND</td>\n",
       "      <td>NaN</td>\n",
       "      <td>COMMERCIAL BUILDING</td>\n",
       "      <td>N.Y. POLICE DEPT</td>\n",
       "      <td>0.0</td>\n",
       "      <td>NaN</td>\n",
       "      <td>NaN</td>\n",
       "      <td>NaN</td>\n",
       "      <td>NaN</td>\n",
       "      <td>NaN</td>\n",
       "      <td>NaN</td>\n",
       "      <td>NaN</td>\n",
       "      <td>NaN</td>\n",
       "      <td>NaN</td>\n",
       "      <td>NaN</td>\n",
       "      <td>NaN</td>\n",
       "      <td>NaN</td>\n",
       "      <td>PATROL BORO STATEN ISLAND</td>\n",
       "      <td>NaN</td>\n",
       "      <td>25-44</td>\n",
       "      <td>WHITE</td>\n",
       "      <td>M</td>\n",
       "    </tr>\n",
       "  </tbody>\n",
       "</table>\n",
       "</div>"
      ],
      "text/plain": [
       "   CMPLNT_NUM CMPLNT_FR_DT CMPLNT_FR_TM CMPLNT_TO_DT CMPLNT_TO_TM  \\\n",
       "0   876525802   04/10/2008     19:10:00          NaN          NaN   \n",
       "1   402693528   06/03/2007     15:23:00          NaN          NaN   \n",
       "2   832030069   02/16/2010     20:50:00   02/16/2010     20:50:00   \n",
       "3   538308771   11/10/2009     16:35:00   11/10/2009     16:45:00   \n",
       "4   965693192   04/11/2006     09:30:00   04/11/2006     10:00:00   \n",
       "\n",
       "   ADDR_PCT_CD      RPT_DT  KY_CD          OFNS_DESC  PD_CD  \\\n",
       "0         73.0  04/10/2008    341      PETIT LARCENY  321.0   \n",
       "1         28.0  06/03/2007    236  DANGEROUS WEAPONS  782.0   \n",
       "2        102.0  02/16/2010    105            ROBBERY  375.0   \n",
       "3         79.0  11/10/2009    341      PETIT LARCENY  333.0   \n",
       "4        123.0  04/25/2006    112        THEFT-FRAUD  739.0   \n",
       "\n",
       "                          PD_DESC CRM_ATPT_CPTD_CD   LAW_CAT_CD  \\\n",
       "0         LARCENY,PETIT FROM AUTO        COMPLETED  MISDEMEANOR   \n",
       "1        WEAPONS, POSSESSION, ETC        COMPLETED  MISDEMEANOR   \n",
       "2                ROBBERY,PHARMACY        COMPLETED       FELONY   \n",
       "3  LARCENY,PETIT FROM STORE-SHOPL        COMPLETED  MISDEMEANOR   \n",
       "4       FRAUD,UNCLASSIFIED-FELONY        COMPLETED       FELONY   \n",
       "\n",
       "         BORO_NM LOC_OF_OCCUR_DESC        PREM_TYP_DESC        JURIS_DESC  \\\n",
       "0       BROOKLYN               NaN               STREET  N.Y. POLICE DEPT   \n",
       "1      MANHATTAN               NaN               STREET  N.Y. POLICE DEPT   \n",
       "2         QUEENS            INSIDE       GROCERY/BODEGA  N.Y. POLICE DEPT   \n",
       "3       BROOKLYN            INSIDE     FOOD SUPERMARKET  N.Y. POLICE DEPT   \n",
       "4  STATEN ISLAND               NaN  COMMERCIAL BUILDING  N.Y. POLICE DEPT   \n",
       "\n",
       "   JURISDICTION_CODE PARKS_NM HADEVELOPT HOUSING_PSA  X_COORD_CD  Y_COORD_CD  \\\n",
       "0                0.0      NaN        NaN         NaN   1008495.0    183171.0   \n",
       "1                0.0      NaN        NaN         NaN    999336.0    231461.0   \n",
       "2                0.0      NaN        NaN         NaN   1031117.0    194344.0   \n",
       "3                0.0      NaN        NaN         NaN    996722.0    187385.0   \n",
       "4                0.0      NaN        NaN         NaN         NaN         NaN   \n",
       "\n",
       "  SUSP_AGE_GROUP SUSP_RACE SUSP_SEX  TRANSIT_DISTRICT   Latitude  Longitude  \\\n",
       "0            NaN       NaN      NaN               NaN  40.669414 -73.912603   \n",
       "1            NaN       NaN      NaN               NaN  40.801978 -73.945511   \n",
       "2            NaN       NaN      NaN               NaN  40.699990 -73.830978   \n",
       "3            NaN       NaN      NaN               NaN  40.681005 -73.955035   \n",
       "4            NaN       NaN      NaN               NaN        NaN        NaN   \n",
       "\n",
       "                         Lat_Lon                PATROL_BORO STATION_NAME  \\\n",
       "0   (40.669413836, -73.91260308)    PATROL BORO BKLYN NORTH          NaN   \n",
       "1  (40.801978284, -73.945511151)      PATROL BORO MAN NORTH          NaN   \n",
       "2  (40.699990268, -73.830977746)   PATROL BORO QUEENS SOUTH          NaN   \n",
       "3  (40.681004729, -73.955034577)    PATROL BORO BKLYN NORTH          NaN   \n",
       "4                            NaN  PATROL BORO STATEN ISLAND          NaN   \n",
       "\n",
       "  VIC_AGE_GROUP VIC_RACE VIC_SEX  \n",
       "0         18-24    BLACK       M  \n",
       "1           NaN  UNKNOWN       E  \n",
       "2           NaN  UNKNOWN       D  \n",
       "3           NaN  UNKNOWN       D  \n",
       "4         25-44    WHITE       M  "
      ]
     },
     "execution_count": 2,
     "metadata": {},
     "output_type": "execute_result"
    }
   ],
   "source": [
    "crime.head()"
   ]
  },
  {
   "cell_type": "code",
   "execution_count": 3,
   "metadata": {},
   "outputs": [
    {
     "data": {
      "text/plain": [
       "(6847944, 35)"
      ]
     },
     "execution_count": 3,
     "metadata": {},
     "output_type": "execute_result"
    }
   ],
   "source": [
    "crime.shape"
   ]
  },
  {
   "cell_type": "code",
   "execution_count": 4,
   "metadata": {},
   "outputs": [
    {
     "data": {
      "text/plain": [
       "BROOKLYN         2035004\n",
       "MANHATTAN        1645015\n",
       "BRONX            1484373\n",
       "QUEENS           1351400\n",
       "STATEN ISLAND     321394\n",
       "Name: BORO_NM, dtype: int64"
      ]
     },
     "execution_count": 4,
     "metadata": {},
     "output_type": "execute_result"
    }
   ],
   "source": [
    "crime.BORO_NM.value_counts()"
   ]
  },
  {
   "cell_type": "code",
   "execution_count": 5,
   "metadata": {},
   "outputs": [
    {
     "data": {
      "text/html": [
       "<div>\n",
       "<style scoped>\n",
       "    .dataframe tbody tr th:only-of-type {\n",
       "        vertical-align: middle;\n",
       "    }\n",
       "\n",
       "    .dataframe tbody tr th {\n",
       "        vertical-align: top;\n",
       "    }\n",
       "\n",
       "    .dataframe thead th {\n",
       "        text-align: right;\n",
       "    }\n",
       "</style>\n",
       "<table border=\"1\" class=\"dataframe\">\n",
       "  <thead>\n",
       "    <tr style=\"text-align: right;\">\n",
       "      <th></th>\n",
       "      <th>CMPLNT_NUM</th>\n",
       "      <th>CMPLNT_FR_DT</th>\n",
       "      <th>CMPLNT_FR_TM</th>\n",
       "      <th>CMPLNT_TO_DT</th>\n",
       "      <th>CMPLNT_TO_TM</th>\n",
       "      <th>ADDR_PCT_CD</th>\n",
       "      <th>RPT_DT</th>\n",
       "      <th>KY_CD</th>\n",
       "      <th>OFNS_DESC</th>\n",
       "      <th>PD_CD</th>\n",
       "      <th>PD_DESC</th>\n",
       "      <th>CRM_ATPT_CPTD_CD</th>\n",
       "      <th>LAW_CAT_CD</th>\n",
       "      <th>BORO_NM</th>\n",
       "      <th>LOC_OF_OCCUR_DESC</th>\n",
       "      <th>PREM_TYP_DESC</th>\n",
       "      <th>JURIS_DESC</th>\n",
       "      <th>JURISDICTION_CODE</th>\n",
       "      <th>PARKS_NM</th>\n",
       "      <th>HADEVELOPT</th>\n",
       "      <th>HOUSING_PSA</th>\n",
       "      <th>X_COORD_CD</th>\n",
       "      <th>Y_COORD_CD</th>\n",
       "      <th>SUSP_AGE_GROUP</th>\n",
       "      <th>SUSP_RACE</th>\n",
       "      <th>SUSP_SEX</th>\n",
       "      <th>TRANSIT_DISTRICT</th>\n",
       "      <th>Latitude</th>\n",
       "      <th>Longitude</th>\n",
       "      <th>Lat_Lon</th>\n",
       "      <th>PATROL_BORO</th>\n",
       "      <th>STATION_NAME</th>\n",
       "      <th>VIC_AGE_GROUP</th>\n",
       "      <th>VIC_RACE</th>\n",
       "      <th>VIC_SEX</th>\n",
       "    </tr>\n",
       "  </thead>\n",
       "  <tbody>\n",
       "    <tr>\n",
       "      <th>0</th>\n",
       "      <td>876525802</td>\n",
       "      <td>04/10/2008</td>\n",
       "      <td>19:10:00</td>\n",
       "      <td>NaN</td>\n",
       "      <td>NaN</td>\n",
       "      <td>73.0</td>\n",
       "      <td>04/10/2008</td>\n",
       "      <td>341</td>\n",
       "      <td>PETIT LARCENY</td>\n",
       "      <td>321.0</td>\n",
       "      <td>LARCENY,PETIT FROM AUTO</td>\n",
       "      <td>COMPLETED</td>\n",
       "      <td>MISDEMEANOR</td>\n",
       "      <td>BROOKLYN</td>\n",
       "      <td>NaN</td>\n",
       "      <td>STREET</td>\n",
       "      <td>N.Y. POLICE DEPT</td>\n",
       "      <td>0.0</td>\n",
       "      <td>NaN</td>\n",
       "      <td>NaN</td>\n",
       "      <td>NaN</td>\n",
       "      <td>1008495.0</td>\n",
       "      <td>183171.0</td>\n",
       "      <td>NaN</td>\n",
       "      <td>NaN</td>\n",
       "      <td>NaN</td>\n",
       "      <td>NaN</td>\n",
       "      <td>40.669414</td>\n",
       "      <td>-73.912603</td>\n",
       "      <td>(40.669413836, -73.91260308)</td>\n",
       "      <td>PATROL BORO BKLYN NORTH</td>\n",
       "      <td>NaN</td>\n",
       "      <td>18-24</td>\n",
       "      <td>BLACK</td>\n",
       "      <td>M</td>\n",
       "    </tr>\n",
       "  </tbody>\n",
       "</table>\n",
       "</div>"
      ],
      "text/plain": [
       "   CMPLNT_NUM CMPLNT_FR_DT CMPLNT_FR_TM CMPLNT_TO_DT CMPLNT_TO_TM  \\\n",
       "0   876525802   04/10/2008     19:10:00          NaN          NaN   \n",
       "\n",
       "   ADDR_PCT_CD      RPT_DT  KY_CD      OFNS_DESC  PD_CD  \\\n",
       "0         73.0  04/10/2008    341  PETIT LARCENY  321.0   \n",
       "\n",
       "                   PD_DESC CRM_ATPT_CPTD_CD   LAW_CAT_CD   BORO_NM  \\\n",
       "0  LARCENY,PETIT FROM AUTO        COMPLETED  MISDEMEANOR  BROOKLYN   \n",
       "\n",
       "  LOC_OF_OCCUR_DESC PREM_TYP_DESC        JURIS_DESC  JURISDICTION_CODE  \\\n",
       "0               NaN        STREET  N.Y. POLICE DEPT                0.0   \n",
       "\n",
       "  PARKS_NM HADEVELOPT HOUSING_PSA  X_COORD_CD  Y_COORD_CD SUSP_AGE_GROUP  \\\n",
       "0      NaN        NaN         NaN   1008495.0    183171.0            NaN   \n",
       "\n",
       "  SUSP_RACE SUSP_SEX  TRANSIT_DISTRICT   Latitude  Longitude  \\\n",
       "0       NaN      NaN               NaN  40.669414 -73.912603   \n",
       "\n",
       "                        Lat_Lon              PATROL_BORO STATION_NAME  \\\n",
       "0  (40.669413836, -73.91260308)  PATROL BORO BKLYN NORTH          NaN   \n",
       "\n",
       "  VIC_AGE_GROUP VIC_RACE VIC_SEX  \n",
       "0         18-24    BLACK       M  "
      ]
     },
     "execution_count": 5,
     "metadata": {},
     "output_type": "execute_result"
    }
   ],
   "source": [
    "crime[:1]"
   ]
  },
  {
   "cell_type": "code",
   "execution_count": 6,
   "metadata": {},
   "outputs": [
    {
     "data": {
      "text/plain": [
       "PATROL BORO BRONX            1485161\n",
       "PATROL BORO BKLYN SOUTH      1021109\n",
       "PATROL BORO BKLYN NORTH      1015393\n",
       "PATROL BORO MAN SOUTH         830904\n",
       "PATROL BORO MAN NORTH         813409\n",
       "PATROL BORO QUEENS NORTH      698941\n",
       "PATROL BORO QUEENS SOUTH      655319\n",
       "PATROL BORO STATEN ISLAND     321518\n",
       "Name: PATROL_BORO, dtype: int64"
      ]
     },
     "execution_count": 6,
     "metadata": {},
     "output_type": "execute_result"
    }
   ],
   "source": [
    "crime.PATROL_BORO.value_counts()"
   ]
  },
  {
   "cell_type": "code",
   "execution_count": 7,
   "metadata": {},
   "outputs": [
    {
     "data": {
      "text/plain": [
       "PETIT LARCENY                           1138792\n",
       "HARRASSMENT 2                            860614\n",
       "ASSAULT 3 & RELATED OFFENSES             718075\n",
       "CRIMINAL MISCHIEF & RELATED OF           686072\n",
       "GRAND LARCENY                            591834\n",
       "DANGEROUS DRUGS                          415704\n",
       "OFF. AGNST PUB ORD SENSBLTY &            363392\n",
       "FELONY ASSAULT                           260474\n",
       "ROBBERY                                  249554\n",
       "BURGLARY                                 235819\n",
       "MISCELLANEOUS PENAL LAW                  169609\n",
       "DANGEROUS WEAPONS                        155380\n",
       "OFFENSES AGAINST PUBLIC ADMINI           130258\n",
       "GRAND LARCENY OF MOTOR VEHICLE           123340\n",
       "INTOXICATED & IMPAIRED DRIVING            93044\n",
       "VEHICLE AND TRAFFIC LAWS                  83723\n",
       "SEX CRIMES                                81032\n",
       "CRIMINAL TRESPASS                         79297\n",
       "THEFT-FRAUD                               73153\n",
       "FORGERY                                   69611\n",
       "FRAUDS                                    42539\n",
       "POSSESSION OF STOLEN PROPERTY             35872\n",
       "OFFENSES INVOLVING FRAUD                  21982\n",
       "UNAUTHORIZED USE OF A VEHICLE             20134\n",
       "RAPE                                      19844\n",
       "OFFENSES AGAINST THE PERSON               17059\n",
       "ARSON                                     16633\n",
       "OTHER OFFENSES RELATED TO THEF            15314\n",
       "ADMINISTRATIVE CODE                       15074\n",
       "OTHER STATE LAWS (NON PENAL LA             6536\n",
       "                                         ...   \n",
       "DISORDERLY CONDUCT                         1005\n",
       "OFFENSES AGAINST PUBLIC SAFETY              996\n",
       "AGRICULTURE & MRKTS LAW-UNCLASSIFIED        584\n",
       "CHILD ABANDONMENT/NON SUPPORT               434\n",
       "JOSTLING                                    433\n",
       "OTHER STATE LAWS                            279\n",
       "ENDAN WELFARE INCOMP                        244\n",
       "LOITERING/GAMBLING (CARDS, DIC              242\n",
       "ESCAPE 3                                    201\n",
       "HOMICIDE-NEGLIGENT,UNCLASSIFIE              156\n",
       "ANTICIPATORY OFFENSES                       113\n",
       "HOMICIDE-NEGLIGENT-VEHICLE                  103\n",
       "NEW YORK CITY HEALTH CODE                    88\n",
       "UNLAWFUL POSS. WEAP. ON SCHOOL               68\n",
       "INTOXICATED/IMPAIRED DRIVING                 61\n",
       "NYS LAWS-UNCLASSIFIED VIOLATION              54\n",
       "DISRUPTION OF A RELIGIOUS SERV               52\n",
       "KIDNAPPING                                   39\n",
       "LOITERING                                    23\n",
       "LOITERING FOR DRUG PURPOSES                  23\n",
       "ADMINISTRATIVE CODES                         19\n",
       "LOITERING/DEVIATE SEX                        16\n",
       "OTHER TRAFFIC INFRACTION                     15\n",
       "OTHER STATE LAWS (NON PENAL LAW)             11\n",
       "FORTUNE TELLING                              11\n",
       "ABORTION                                      7\n",
       "FELONY SEX CRIMES                             4\n",
       "OFFENSES AGAINST MARRIAGE UNCL                4\n",
       "UNDER THE INFLUENCE OF DRUGS                  3\n",
       "KIDNAPPING AND RELATED OFFENSES               3\n",
       "Name: OFNS_DESC, Length: 71, dtype: int64"
      ]
     },
     "execution_count": 7,
     "metadata": {},
     "output_type": "execute_result"
    }
   ],
   "source": [
    "crime.OFNS_DESC.value_counts()"
   ]
  },
  {
   "cell_type": "code",
   "execution_count": 8,
   "metadata": {},
   "outputs": [],
   "source": [
    "crime=crime[['CMPLNT_NUM','BORO_NM','CMPLNT_FR_DT','LAW_CAT_CD','Latitude','Longitude']]"
   ]
  },
  {
   "cell_type": "code",
   "execution_count": 9,
   "metadata": {},
   "outputs": [
    {
     "data": {
      "text/html": [
       "<div>\n",
       "<style scoped>\n",
       "    .dataframe tbody tr th:only-of-type {\n",
       "        vertical-align: middle;\n",
       "    }\n",
       "\n",
       "    .dataframe tbody tr th {\n",
       "        vertical-align: top;\n",
       "    }\n",
       "\n",
       "    .dataframe thead th {\n",
       "        text-align: right;\n",
       "    }\n",
       "</style>\n",
       "<table border=\"1\" class=\"dataframe\">\n",
       "  <thead>\n",
       "    <tr style=\"text-align: right;\">\n",
       "      <th></th>\n",
       "      <th>CMPLNT_NUM</th>\n",
       "      <th>BORO_NM</th>\n",
       "      <th>CMPLNT_FR_DT</th>\n",
       "      <th>LAW_CAT_CD</th>\n",
       "      <th>Latitude</th>\n",
       "      <th>Longitude</th>\n",
       "    </tr>\n",
       "  </thead>\n",
       "  <tbody>\n",
       "    <tr>\n",
       "      <th>0</th>\n",
       "      <td>876525802</td>\n",
       "      <td>BROOKLYN</td>\n",
       "      <td>04/10/2008</td>\n",
       "      <td>MISDEMEANOR</td>\n",
       "      <td>40.669414</td>\n",
       "      <td>-73.912603</td>\n",
       "    </tr>\n",
       "    <tr>\n",
       "      <th>1</th>\n",
       "      <td>402693528</td>\n",
       "      <td>MANHATTAN</td>\n",
       "      <td>06/03/2007</td>\n",
       "      <td>MISDEMEANOR</td>\n",
       "      <td>40.801978</td>\n",
       "      <td>-73.945511</td>\n",
       "    </tr>\n",
       "    <tr>\n",
       "      <th>2</th>\n",
       "      <td>832030069</td>\n",
       "      <td>QUEENS</td>\n",
       "      <td>02/16/2010</td>\n",
       "      <td>FELONY</td>\n",
       "      <td>40.699990</td>\n",
       "      <td>-73.830978</td>\n",
       "    </tr>\n",
       "    <tr>\n",
       "      <th>3</th>\n",
       "      <td>538308771</td>\n",
       "      <td>BROOKLYN</td>\n",
       "      <td>11/10/2009</td>\n",
       "      <td>MISDEMEANOR</td>\n",
       "      <td>40.681005</td>\n",
       "      <td>-73.955035</td>\n",
       "    </tr>\n",
       "    <tr>\n",
       "      <th>4</th>\n",
       "      <td>965693192</td>\n",
       "      <td>STATEN ISLAND</td>\n",
       "      <td>04/11/2006</td>\n",
       "      <td>FELONY</td>\n",
       "      <td>NaN</td>\n",
       "      <td>NaN</td>\n",
       "    </tr>\n",
       "  </tbody>\n",
       "</table>\n",
       "</div>"
      ],
      "text/plain": [
       "   CMPLNT_NUM        BORO_NM CMPLNT_FR_DT   LAW_CAT_CD   Latitude  Longitude\n",
       "0   876525802       BROOKLYN   04/10/2008  MISDEMEANOR  40.669414 -73.912603\n",
       "1   402693528      MANHATTAN   06/03/2007  MISDEMEANOR  40.801978 -73.945511\n",
       "2   832030069         QUEENS   02/16/2010       FELONY  40.699990 -73.830978\n",
       "3   538308771       BROOKLYN   11/10/2009  MISDEMEANOR  40.681005 -73.955035\n",
       "4   965693192  STATEN ISLAND   04/11/2006       FELONY        NaN        NaN"
      ]
     },
     "execution_count": 9,
     "metadata": {},
     "output_type": "execute_result"
    }
   ],
   "source": [
    "crime.head()"
   ]
  },
  {
   "cell_type": "code",
   "execution_count": 10,
   "metadata": {},
   "outputs": [
    {
     "data": {
      "text/plain": [
       "CMPLNT_NUM           0\n",
       "BORO_NM          10758\n",
       "CMPLNT_FR_DT       655\n",
       "LAW_CAT_CD           0\n",
       "Latitude        339387\n",
       "Longitude       339387\n",
       "dtype: int64"
      ]
     },
     "execution_count": 10,
     "metadata": {},
     "output_type": "execute_result"
    }
   ],
   "source": [
    "crime.isnull().sum()"
   ]
  },
  {
   "cell_type": "code",
   "execution_count": 11,
   "metadata": {},
   "outputs": [],
   "source": [
    "crime.dropna(inplace=True)"
   ]
  },
  {
   "cell_type": "code",
   "execution_count": 12,
   "metadata": {},
   "outputs": [],
   "source": [
    "#crime.to_csv('final_crime.csv')"
   ]
  },
  {
   "cell_type": "code",
   "execution_count": 13,
   "metadata": {},
   "outputs": [
    {
     "data": {
      "text/plain": [
       "(6497826, 6)"
      ]
     },
     "execution_count": 13,
     "metadata": {},
     "output_type": "execute_result"
    }
   ],
   "source": [
    "crime.shape"
   ]
  },
  {
   "cell_type": "code",
   "execution_count": 14,
   "metadata": {},
   "outputs": [],
   "source": [
    "crime.to_csv('final_crime.csv')"
   ]
  },
  {
   "cell_type": "code",
   "execution_count": 14,
   "metadata": {},
   "outputs": [],
   "source": [
    "crime.Latitude = crime.Latitude.round(3)\n",
    "crime.Longitude = crime.Longitude.round(3)\n",
    "crime['Latitude'] = crime.Latitude.astype(str)\n",
    "crime['Longitude'] = crime.Longitude.astype(str)\n",
    "crime['Lat_Lon'] = crime['Latitude'] + ',' + crime['Longitude']    "
   ]
  },
  {
   "cell_type": "code",
   "execution_count": 15,
   "metadata": {},
   "outputs": [
    {
     "data": {
      "text/html": [
       "<div>\n",
       "<style scoped>\n",
       "    .dataframe tbody tr th:only-of-type {\n",
       "        vertical-align: middle;\n",
       "    }\n",
       "\n",
       "    .dataframe tbody tr th {\n",
       "        vertical-align: top;\n",
       "    }\n",
       "\n",
       "    .dataframe thead th {\n",
       "        text-align: right;\n",
       "    }\n",
       "</style>\n",
       "<table border=\"1\" class=\"dataframe\">\n",
       "  <thead>\n",
       "    <tr style=\"text-align: right;\">\n",
       "      <th></th>\n",
       "      <th>CMPLNT_NUM</th>\n",
       "      <th>BORO_NM</th>\n",
       "      <th>CMPLNT_FR_DT</th>\n",
       "      <th>LAW_CAT_CD</th>\n",
       "      <th>Latitude</th>\n",
       "      <th>Longitude</th>\n",
       "      <th>Lat_Lon</th>\n",
       "    </tr>\n",
       "  </thead>\n",
       "  <tbody>\n",
       "    <tr>\n",
       "      <th>0</th>\n",
       "      <td>876525802</td>\n",
       "      <td>BROOKLYN</td>\n",
       "      <td>04/10/2008</td>\n",
       "      <td>MISDEMEANOR</td>\n",
       "      <td>40.669</td>\n",
       "      <td>-73.913</td>\n",
       "      <td>40.669,-73.913</td>\n",
       "    </tr>\n",
       "    <tr>\n",
       "      <th>1</th>\n",
       "      <td>402693528</td>\n",
       "      <td>MANHATTAN</td>\n",
       "      <td>06/03/2007</td>\n",
       "      <td>MISDEMEANOR</td>\n",
       "      <td>40.802</td>\n",
       "      <td>-73.946</td>\n",
       "      <td>40.802,-73.946</td>\n",
       "    </tr>\n",
       "  </tbody>\n",
       "</table>\n",
       "</div>"
      ],
      "text/plain": [
       "   CMPLNT_NUM    BORO_NM CMPLNT_FR_DT   LAW_CAT_CD Latitude Longitude  \\\n",
       "0   876525802   BROOKLYN   04/10/2008  MISDEMEANOR   40.669   -73.913   \n",
       "1   402693528  MANHATTAN   06/03/2007  MISDEMEANOR   40.802   -73.946   \n",
       "\n",
       "          Lat_Lon  \n",
       "0  40.669,-73.913  \n",
       "1  40.802,-73.946  "
      ]
     },
     "execution_count": 15,
     "metadata": {},
     "output_type": "execute_result"
    }
   ],
   "source": [
    "crime.head(2)"
   ]
  },
  {
   "cell_type": "code",
   "execution_count": 16,
   "metadata": {},
   "outputs": [],
   "source": [
    "crime.dropna(inplace=True)"
   ]
  },
  {
   "cell_type": "code",
   "execution_count": 18,
   "metadata": {},
   "outputs": [],
   "source": [
    "crime_lat_lon = crime.dropna(subset=['Lat_Lon'])"
   ]
  },
  {
   "cell_type": "code",
   "execution_count": 21,
   "metadata": {},
   "outputs": [],
   "source": [
    "import numpy as np"
   ]
  },
  {
   "cell_type": "code",
   "execution_count": 22,
   "metadata": {},
   "outputs": [],
   "source": [
    "coordinates=np.sort(crime_lat_lon.Lat_Lon.unique())"
   ]
  },
  {
   "cell_type": "code",
   "execution_count": 23,
   "metadata": {},
   "outputs": [],
   "source": [
    "pd.DataFrame(coordinates, columns=[\"Lat_Lon\"]).to_csv(\"nyc_unique_loc.csv\", index=False)"
   ]
  },
  {
   "cell_type": "code",
   "execution_count": 24,
   "metadata": {},
   "outputs": [
    {
     "data": {
      "text/plain": [
       "(53441,)"
      ]
     },
     "execution_count": 24,
     "metadata": {},
     "output_type": "execute_result"
    }
   ],
   "source": [
    "coordinates.shape"
   ]
  },
  {
   "cell_type": "code",
   "execution_count": null,
   "metadata": {},
   "outputs": [],
   "source": []
  }
 ],
 "metadata": {
  "kernelspec": {
   "display_name": "Python 3",
   "language": "python",
   "name": "python3"
  },
  "language_info": {
   "codemirror_mode": {
    "name": "ipython",
    "version": 3
   },
   "file_extension": ".py",
   "mimetype": "text/x-python",
   "name": "python",
   "nbconvert_exporter": "python",
   "pygments_lexer": "ipython3",
   "version": "3.7.0"
  }
 },
 "nbformat": 4,
 "nbformat_minor": 2
}
