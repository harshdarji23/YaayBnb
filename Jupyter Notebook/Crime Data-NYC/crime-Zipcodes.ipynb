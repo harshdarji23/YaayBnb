{
 "cells": [
  {
   "cell_type": "code",
   "execution_count": 13,
   "metadata": {},
   "outputs": [],
   "source": [
    "import pandas as pd\n",
    "import numpy as np"
   ]
  },
  {
   "cell_type": "code",
   "execution_count": 44,
   "metadata": {},
   "outputs": [
    {
     "name": "stderr",
     "output_type": "stream",
     "text": [
      "C:\\Apps\\HarshD\\lib\\site-packages\\numpy\\lib\\arraysetops.py:522: FutureWarning: elementwise comparison failed; returning scalar instead, but in the future will perform elementwise comparison\n",
      "  mask |= (ar1 == a)\n"
     ]
    }
   ],
   "source": [
    "final_crime=pd.read_csv('final_crime.csv',index_col=0)"
   ]
  },
  {
   "cell_type": "code",
   "execution_count": 45,
   "metadata": {},
   "outputs": [
    {
     "data": {
      "text/html": [
       "<div>\n",
       "<style scoped>\n",
       "    .dataframe tbody tr th:only-of-type {\n",
       "        vertical-align: middle;\n",
       "    }\n",
       "\n",
       "    .dataframe tbody tr th {\n",
       "        vertical-align: top;\n",
       "    }\n",
       "\n",
       "    .dataframe thead th {\n",
       "        text-align: right;\n",
       "    }\n",
       "</style>\n",
       "<table border=\"1\" class=\"dataframe\">\n",
       "  <thead>\n",
       "    <tr style=\"text-align: right;\">\n",
       "      <th></th>\n",
       "      <th>CMPLNT_NUM</th>\n",
       "      <th>BORO_NM</th>\n",
       "      <th>CMPLNT_FR_DT</th>\n",
       "      <th>LAW_CAT_CD</th>\n",
       "      <th>Latitude</th>\n",
       "      <th>Longitude</th>\n",
       "    </tr>\n",
       "  </thead>\n",
       "  <tbody>\n",
       "    <tr>\n",
       "      <th>0</th>\n",
       "      <td>876525802</td>\n",
       "      <td>BROOKLYN</td>\n",
       "      <td>04/10/2008</td>\n",
       "      <td>MISDEMEANOR</td>\n",
       "      <td>40.669414</td>\n",
       "      <td>-73.912603</td>\n",
       "    </tr>\n",
       "    <tr>\n",
       "      <th>1</th>\n",
       "      <td>402693528</td>\n",
       "      <td>MANHATTAN</td>\n",
       "      <td>06/03/2007</td>\n",
       "      <td>MISDEMEANOR</td>\n",
       "      <td>40.801978</td>\n",
       "      <td>-73.945511</td>\n",
       "    </tr>\n",
       "    <tr>\n",
       "      <th>2</th>\n",
       "      <td>832030069</td>\n",
       "      <td>QUEENS</td>\n",
       "      <td>02/16/2010</td>\n",
       "      <td>FELONY</td>\n",
       "      <td>40.699990</td>\n",
       "      <td>-73.830978</td>\n",
       "    </tr>\n",
       "    <tr>\n",
       "      <th>3</th>\n",
       "      <td>538308771</td>\n",
       "      <td>BROOKLYN</td>\n",
       "      <td>11/10/2009</td>\n",
       "      <td>MISDEMEANOR</td>\n",
       "      <td>40.681005</td>\n",
       "      <td>-73.955035</td>\n",
       "    </tr>\n",
       "    <tr>\n",
       "      <th>5</th>\n",
       "      <td>141085517</td>\n",
       "      <td>BROOKLYN</td>\n",
       "      <td>06/23/2011</td>\n",
       "      <td>FELONY</td>\n",
       "      <td>40.678338</td>\n",
       "      <td>-73.925578</td>\n",
       "    </tr>\n",
       "  </tbody>\n",
       "</table>\n",
       "</div>"
      ],
      "text/plain": [
       "   CMPLNT_NUM    BORO_NM CMPLNT_FR_DT   LAW_CAT_CD   Latitude  Longitude\n",
       "0   876525802   BROOKLYN   04/10/2008  MISDEMEANOR  40.669414 -73.912603\n",
       "1   402693528  MANHATTAN   06/03/2007  MISDEMEANOR  40.801978 -73.945511\n",
       "2   832030069     QUEENS   02/16/2010       FELONY  40.699990 -73.830978\n",
       "3   538308771   BROOKLYN   11/10/2009  MISDEMEANOR  40.681005 -73.955035\n",
       "5   141085517   BROOKLYN   06/23/2011       FELONY  40.678338 -73.925578"
      ]
     },
     "execution_count": 45,
     "metadata": {},
     "output_type": "execute_result"
    }
   ],
   "source": [
    "final_crime.head()"
   ]
  },
  {
   "cell_type": "code",
   "execution_count": 46,
   "metadata": {},
   "outputs": [],
   "source": [
    "final_crime.Latitude = final_crime.Latitude.round(3)\n",
    "final_crime.Longitude = final_crime.Longitude.round(3)\n",
    "final_crime['Latitude'] = final_crime.Latitude.astype(str)\n",
    "final_crime['Longitude'] = final_crime.Longitude.astype(str)\n",
    "final_crime['Lat_Lon'] = final_crime['Latitude'] + ',' + final_crime['Longitude']  "
   ]
  },
  {
   "cell_type": "code",
   "execution_count": 47,
   "metadata": {},
   "outputs": [
    {
     "data": {
      "text/html": [
       "<div>\n",
       "<style scoped>\n",
       "    .dataframe tbody tr th:only-of-type {\n",
       "        vertical-align: middle;\n",
       "    }\n",
       "\n",
       "    .dataframe tbody tr th {\n",
       "        vertical-align: top;\n",
       "    }\n",
       "\n",
       "    .dataframe thead th {\n",
       "        text-align: right;\n",
       "    }\n",
       "</style>\n",
       "<table border=\"1\" class=\"dataframe\">\n",
       "  <thead>\n",
       "    <tr style=\"text-align: right;\">\n",
       "      <th></th>\n",
       "      <th>CMPLNT_NUM</th>\n",
       "      <th>BORO_NM</th>\n",
       "      <th>CMPLNT_FR_DT</th>\n",
       "      <th>LAW_CAT_CD</th>\n",
       "      <th>Latitude</th>\n",
       "      <th>Longitude</th>\n",
       "      <th>Lat_Lon</th>\n",
       "    </tr>\n",
       "  </thead>\n",
       "  <tbody>\n",
       "    <tr>\n",
       "      <th>0</th>\n",
       "      <td>876525802</td>\n",
       "      <td>BROOKLYN</td>\n",
       "      <td>04/10/2008</td>\n",
       "      <td>MISDEMEANOR</td>\n",
       "      <td>40.669</td>\n",
       "      <td>-73.913</td>\n",
       "      <td>40.669,-73.913</td>\n",
       "    </tr>\n",
       "    <tr>\n",
       "      <th>1</th>\n",
       "      <td>402693528</td>\n",
       "      <td>MANHATTAN</td>\n",
       "      <td>06/03/2007</td>\n",
       "      <td>MISDEMEANOR</td>\n",
       "      <td>40.802</td>\n",
       "      <td>-73.946</td>\n",
       "      <td>40.802,-73.946</td>\n",
       "    </tr>\n",
       "    <tr>\n",
       "      <th>2</th>\n",
       "      <td>832030069</td>\n",
       "      <td>QUEENS</td>\n",
       "      <td>02/16/2010</td>\n",
       "      <td>FELONY</td>\n",
       "      <td>40.7</td>\n",
       "      <td>-73.831</td>\n",
       "      <td>40.7,-73.831</td>\n",
       "    </tr>\n",
       "    <tr>\n",
       "      <th>3</th>\n",
       "      <td>538308771</td>\n",
       "      <td>BROOKLYN</td>\n",
       "      <td>11/10/2009</td>\n",
       "      <td>MISDEMEANOR</td>\n",
       "      <td>40.681</td>\n",
       "      <td>-73.955</td>\n",
       "      <td>40.681,-73.955</td>\n",
       "    </tr>\n",
       "    <tr>\n",
       "      <th>5</th>\n",
       "      <td>141085517</td>\n",
       "      <td>BROOKLYN</td>\n",
       "      <td>06/23/2011</td>\n",
       "      <td>FELONY</td>\n",
       "      <td>40.678</td>\n",
       "      <td>-73.926</td>\n",
       "      <td>40.678,-73.926</td>\n",
       "    </tr>\n",
       "  </tbody>\n",
       "</table>\n",
       "</div>"
      ],
      "text/plain": [
       "   CMPLNT_NUM    BORO_NM CMPLNT_FR_DT   LAW_CAT_CD Latitude Longitude  \\\n",
       "0   876525802   BROOKLYN   04/10/2008  MISDEMEANOR   40.669   -73.913   \n",
       "1   402693528  MANHATTAN   06/03/2007  MISDEMEANOR   40.802   -73.946   \n",
       "2   832030069     QUEENS   02/16/2010       FELONY     40.7   -73.831   \n",
       "3   538308771   BROOKLYN   11/10/2009  MISDEMEANOR   40.681   -73.955   \n",
       "5   141085517   BROOKLYN   06/23/2011       FELONY   40.678   -73.926   \n",
       "\n",
       "          Lat_Lon  \n",
       "0  40.669,-73.913  \n",
       "1  40.802,-73.946  \n",
       "2    40.7,-73.831  \n",
       "3  40.681,-73.955  \n",
       "5  40.678,-73.926  "
      ]
     },
     "execution_count": 47,
     "metadata": {},
     "output_type": "execute_result"
    }
   ],
   "source": [
    "final_crime.head()"
   ]
  },
  {
   "cell_type": "code",
   "execution_count": 48,
   "metadata": {},
   "outputs": [
    {
     "data": {
      "text/html": [
       "<div>\n",
       "<style scoped>\n",
       "    .dataframe tbody tr th:only-of-type {\n",
       "        vertical-align: middle;\n",
       "    }\n",
       "\n",
       "    .dataframe tbody tr th {\n",
       "        vertical-align: top;\n",
       "    }\n",
       "\n",
       "    .dataframe thead th {\n",
       "        text-align: right;\n",
       "    }\n",
       "</style>\n",
       "<table border=\"1\" class=\"dataframe\">\n",
       "  <thead>\n",
       "    <tr style=\"text-align: right;\">\n",
       "      <th></th>\n",
       "      <th>Lat_Lon</th>\n",
       "      <th>neighborhood</th>\n",
       "      <th>zipcode</th>\n",
       "    </tr>\n",
       "  </thead>\n",
       "  <tbody>\n",
       "    <tr>\n",
       "      <th>0</th>\n",
       "      <td>40.758,-74.001</td>\n",
       "      <td>Clinton</td>\n",
       "      <td>10001</td>\n",
       "    </tr>\n",
       "    <tr>\n",
       "      <th>1</th>\n",
       "      <td>40.757,-74.004</td>\n",
       "      <td>Clinton</td>\n",
       "      <td>10001</td>\n",
       "    </tr>\n",
       "    <tr>\n",
       "      <th>2</th>\n",
       "      <td>40.756,-74.002</td>\n",
       "      <td>Clinton</td>\n",
       "      <td>10001</td>\n",
       "    </tr>\n",
       "    <tr>\n",
       "      <th>3</th>\n",
       "      <td>40.756,-73.999</td>\n",
       "      <td>Clinton</td>\n",
       "      <td>10001</td>\n",
       "    </tr>\n",
       "    <tr>\n",
       "      <th>4</th>\n",
       "      <td>40.755,-74.002</td>\n",
       "      <td>Chelsea</td>\n",
       "      <td>10001</td>\n",
       "    </tr>\n",
       "  </tbody>\n",
       "</table>\n",
       "</div>"
      ],
      "text/plain": [
       "          Lat_Lon neighborhood  zipcode\n",
       "0  40.758,-74.001      Clinton    10001\n",
       "1  40.757,-74.004      Clinton    10001\n",
       "2  40.756,-74.002      Clinton    10001\n",
       "3  40.756,-73.999      Clinton    10001\n",
       "4  40.755,-74.002      Chelsea    10001"
      ]
     },
     "execution_count": 48,
     "metadata": {},
     "output_type": "execute_result"
    }
   ],
   "source": [
    "zip_to_lat.head()"
   ]
  },
  {
   "cell_type": "code",
   "execution_count": 49,
   "metadata": {},
   "outputs": [],
   "source": [
    "zip_to_lat = pd.read_csv('nyc_neighborhood.csv')\n",
    "zip_dict = dict(zip(zip_to_lat['Lat_Lon'],zip_to_lat['zipcode']))\n",
    "final_crime['zipcode'] = final_crime['Lat_Lon'].map(zip_dict)"
   ]
  },
  {
   "cell_type": "code",
   "execution_count": 50,
   "metadata": {},
   "outputs": [
    {
     "data": {
      "text/html": [
       "<div>\n",
       "<style scoped>\n",
       "    .dataframe tbody tr th:only-of-type {\n",
       "        vertical-align: middle;\n",
       "    }\n",
       "\n",
       "    .dataframe tbody tr th {\n",
       "        vertical-align: top;\n",
       "    }\n",
       "\n",
       "    .dataframe thead th {\n",
       "        text-align: right;\n",
       "    }\n",
       "</style>\n",
       "<table border=\"1\" class=\"dataframe\">\n",
       "  <thead>\n",
       "    <tr style=\"text-align: right;\">\n",
       "      <th></th>\n",
       "      <th>CMPLNT_NUM</th>\n",
       "      <th>BORO_NM</th>\n",
       "      <th>CMPLNT_FR_DT</th>\n",
       "      <th>LAW_CAT_CD</th>\n",
       "      <th>Latitude</th>\n",
       "      <th>Longitude</th>\n",
       "      <th>Lat_Lon</th>\n",
       "      <th>zipcode</th>\n",
       "    </tr>\n",
       "  </thead>\n",
       "  <tbody>\n",
       "    <tr>\n",
       "      <th>0</th>\n",
       "      <td>876525802</td>\n",
       "      <td>BROOKLYN</td>\n",
       "      <td>04/10/2008</td>\n",
       "      <td>MISDEMEANOR</td>\n",
       "      <td>40.669</td>\n",
       "      <td>-73.913</td>\n",
       "      <td>40.669,-73.913</td>\n",
       "      <td>11212.0</td>\n",
       "    </tr>\n",
       "    <tr>\n",
       "      <th>1</th>\n",
       "      <td>402693528</td>\n",
       "      <td>MANHATTAN</td>\n",
       "      <td>06/03/2007</td>\n",
       "      <td>MISDEMEANOR</td>\n",
       "      <td>40.802</td>\n",
       "      <td>-73.946</td>\n",
       "      <td>40.802,-73.946</td>\n",
       "      <td>10026.0</td>\n",
       "    </tr>\n",
       "    <tr>\n",
       "      <th>2</th>\n",
       "      <td>832030069</td>\n",
       "      <td>QUEENS</td>\n",
       "      <td>02/16/2010</td>\n",
       "      <td>FELONY</td>\n",
       "      <td>40.7</td>\n",
       "      <td>-73.831</td>\n",
       "      <td>40.7,-73.831</td>\n",
       "      <td>11418.0</td>\n",
       "    </tr>\n",
       "    <tr>\n",
       "      <th>3</th>\n",
       "      <td>538308771</td>\n",
       "      <td>BROOKLYN</td>\n",
       "      <td>11/10/2009</td>\n",
       "      <td>MISDEMEANOR</td>\n",
       "      <td>40.681</td>\n",
       "      <td>-73.955</td>\n",
       "      <td>40.681,-73.955</td>\n",
       "      <td>11216.0</td>\n",
       "    </tr>\n",
       "    <tr>\n",
       "      <th>5</th>\n",
       "      <td>141085517</td>\n",
       "      <td>BROOKLYN</td>\n",
       "      <td>06/23/2011</td>\n",
       "      <td>FELONY</td>\n",
       "      <td>40.678</td>\n",
       "      <td>-73.926</td>\n",
       "      <td>40.678,-73.926</td>\n",
       "      <td>11233.0</td>\n",
       "    </tr>\n",
       "  </tbody>\n",
       "</table>\n",
       "</div>"
      ],
      "text/plain": [
       "   CMPLNT_NUM    BORO_NM CMPLNT_FR_DT   LAW_CAT_CD Latitude Longitude  \\\n",
       "0   876525802   BROOKLYN   04/10/2008  MISDEMEANOR   40.669   -73.913   \n",
       "1   402693528  MANHATTAN   06/03/2007  MISDEMEANOR   40.802   -73.946   \n",
       "2   832030069     QUEENS   02/16/2010       FELONY     40.7   -73.831   \n",
       "3   538308771   BROOKLYN   11/10/2009  MISDEMEANOR   40.681   -73.955   \n",
       "5   141085517   BROOKLYN   06/23/2011       FELONY   40.678   -73.926   \n",
       "\n",
       "          Lat_Lon  zipcode  \n",
       "0  40.669,-73.913  11212.0  \n",
       "1  40.802,-73.946  10026.0  \n",
       "2    40.7,-73.831  11418.0  \n",
       "3  40.681,-73.955  11216.0  \n",
       "5  40.678,-73.926  11233.0  "
      ]
     },
     "execution_count": 50,
     "metadata": {},
     "output_type": "execute_result"
    }
   ],
   "source": [
    "final_crime.head()"
   ]
  },
  {
   "cell_type": "code",
   "execution_count": 51,
   "metadata": {},
   "outputs": [
    {
     "data": {
      "text/plain": [
       "CMPLNT_NUM         0\n",
       "BORO_NM            0\n",
       "CMPLNT_FR_DT       0\n",
       "LAW_CAT_CD         0\n",
       "Latitude           0\n",
       "Longitude          0\n",
       "Lat_Lon            0\n",
       "zipcode         9811\n",
       "dtype: int64"
      ]
     },
     "execution_count": 51,
     "metadata": {},
     "output_type": "execute_result"
    }
   ],
   "source": [
    "final_crime.isnull().sum()"
   ]
  },
  {
   "cell_type": "code",
   "execution_count": 52,
   "metadata": {},
   "outputs": [],
   "source": [
    "#final_crime.zipcode.value_counts()"
   ]
  },
  {
   "cell_type": "code",
   "execution_count": 53,
   "metadata": {},
   "outputs": [
    {
     "data": {
      "text/plain": [
       "CMPLNT_NUM      0.000000\n",
       "BORO_NM         0.000000\n",
       "CMPLNT_FR_DT    0.000000\n",
       "LAW_CAT_CD      0.000000\n",
       "Latitude        0.000000\n",
       "Longitude       0.000000\n",
       "Lat_Lon         0.000000\n",
       "zipcode         0.150989\n",
       "dtype: float64"
      ]
     },
     "execution_count": 53,
     "metadata": {},
     "output_type": "execute_result"
    }
   ],
   "source": [
    "(final_crime.isnull().sum()/len(final_crime))*100"
   ]
  },
  {
   "cell_type": "code",
   "execution_count": 54,
   "metadata": {},
   "outputs": [],
   "source": [
    "final_crime.dropna(inplace=True)"
   ]
  },
  {
   "cell_type": "code",
   "execution_count": 59,
   "metadata": {},
   "outputs": [],
   "source": [
    "zip_to_bor = pd.read_csv('neighborhood-NYC.csv')\n",
    "borough_dict = dict(zip(zip_to_bor['zipcode'], zip_to_bor['neighborhood']))\n",
    "final_crime['neighborhood'] = final_crime['zipcode'].map(borough_dict)"
   ]
  },
  {
   "cell_type": "code",
   "execution_count": 60,
   "metadata": {},
   "outputs": [
    {
     "data": {
      "text/plain": [
       "CMPLNT_NUM      0.000000\n",
       "BORO_NM         0.000000\n",
       "CMPLNT_FR_DT    0.000000\n",
       "LAW_CAT_CD      0.000000\n",
       "Latitude        0.000000\n",
       "Longitude       0.000000\n",
       "Lat_Lon         0.000000\n",
       "zipcode         0.000000\n",
       "neighborhood    0.131519\n",
       "dtype: float64"
      ]
     },
     "execution_count": 60,
     "metadata": {},
     "output_type": "execute_result"
    }
   ],
   "source": [
    "final_crime.isnull().sum()\n",
    "(final_crime.isnull().sum()/len(final_crime))*100"
   ]
  },
  {
   "cell_type": "code",
   "execution_count": 61,
   "metadata": {},
   "outputs": [],
   "source": [
    "missing= final_crime[final_crime.isna().any(axis=1)]"
   ]
  },
  {
   "cell_type": "code",
   "execution_count": 62,
   "metadata": {},
   "outputs": [
    {
     "data": {
      "text/plain": [
       "11040.0    836\n",
       "10112.0    770\n",
       "10165.0    743\n",
       "11451.0    702\n",
       "11371.0    633\n",
       "10155.0    514\n",
       "10110.0    452\n",
       "10199.0    438\n",
       "11247.0    417\n",
       "10169.0    407\n",
       "10278.0    349\n",
       "10103.0    292\n",
       "10174.0    283\n",
       "10154.0    230\n",
       "10279.0    223\n",
       "11424.0    159\n",
       "10115.0    156\n",
       "10172.0    139\n",
       "10167.0    137\n",
       "10271.0    117\n",
       "10177.0    101\n",
       "10171.0     76\n",
       "10281.0     66\n",
       "10168.0     62\n",
       "11580.0     59\n",
       "11096.0     45\n",
       "11020.0     32\n",
       "11252.0     30\n",
       "10701.0     24\n",
       "11351.0     14\n",
       "11425.0     13\n",
       "10152.0     10\n",
       "11021.0      4\n",
       "Name: zipcode, dtype: int64"
      ]
     },
     "execution_count": 62,
     "metadata": {},
     "output_type": "execute_result"
    }
   ],
   "source": [
    "missing.zipcode.value_counts()"
   ]
  },
  {
   "cell_type": "code",
   "execution_count": 63,
   "metadata": {},
   "outputs": [],
   "source": [
    "final_crime.to_csv('crime_w_zipcodes.csv')"
   ]
  },
  {
   "cell_type": "code",
   "execution_count": null,
   "metadata": {},
   "outputs": [],
   "source": []
  }
 ],
 "metadata": {
  "kernelspec": {
   "display_name": "Python 3",
   "language": "python",
   "name": "python3"
  },
  "language_info": {
   "codemirror_mode": {
    "name": "ipython",
    "version": 3
   },
   "file_extension": ".py",
   "mimetype": "text/x-python",
   "name": "python",
   "nbconvert_exporter": "python",
   "pygments_lexer": "ipython3",
   "version": "3.7.0"
  }
 },
 "nbformat": 4,
 "nbformat_minor": 2
}
