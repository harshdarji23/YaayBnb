{
 "cells": [
  {
   "cell_type": "code",
   "execution_count": 6,
   "metadata": {},
   "outputs": [],
   "source": [
    "import numpy as np\n",
    "import pandas as pd\n",
    "from ast import literal_eval\n",
    "import requests \n",
    "import time\n",
    "from requests.exceptions import ConnectionError"
   ]
  },
  {
   "cell_type": "code",
   "execution_count": 32,
   "metadata": {},
   "outputs": [],
   "source": [
    "df = pd.read_csv('nyc_unique_loc.csv')"
   ]
  },
  {
   "cell_type": "code",
   "execution_count": 33,
   "metadata": {},
   "outputs": [
    {
     "data": {
      "text/plain": [
       "Lat_Lon    0\n",
       "dtype: int64"
      ]
     },
     "execution_count": 33,
     "metadata": {},
     "output_type": "execute_result"
    }
   ],
   "source": [
    "df.isnull().sum()"
   ]
  },
  {
   "cell_type": "code",
   "execution_count": 9,
   "metadata": {},
   "outputs": [
    {
     "data": {
      "text/html": [
       "<div>\n",
       "<style scoped>\n",
       "    .dataframe tbody tr th:only-of-type {\n",
       "        vertical-align: middle;\n",
       "    }\n",
       "\n",
       "    .dataframe tbody tr th {\n",
       "        vertical-align: top;\n",
       "    }\n",
       "\n",
       "    .dataframe thead th {\n",
       "        text-align: right;\n",
       "    }\n",
       "</style>\n",
       "<table border=\"1\" class=\"dataframe\">\n",
       "  <thead>\n",
       "    <tr style=\"text-align: right;\">\n",
       "      <th></th>\n",
       "      <th>Lat_Lon</th>\n",
       "    </tr>\n",
       "  </thead>\n",
       "  <tbody>\n",
       "    <tr>\n",
       "      <th>0</th>\n",
       "      <td>40.719,-76.782</td>\n",
       "    </tr>\n",
       "    <tr>\n",
       "      <th>1</th>\n",
       "      <td>40.72,-73.729</td>\n",
       "    </tr>\n",
       "    <tr>\n",
       "      <th>2</th>\n",
       "      <td>40.72,-73.73</td>\n",
       "    </tr>\n",
       "    <tr>\n",
       "      <th>3</th>\n",
       "      <td>40.72,-73.731</td>\n",
       "    </tr>\n",
       "    <tr>\n",
       "      <th>4</th>\n",
       "      <td>40.72,-73.732</td>\n",
       "    </tr>\n",
       "  </tbody>\n",
       "</table>\n",
       "</div>"
      ],
      "text/plain": [
       "          Lat_Lon\n",
       "0  40.719,-76.782\n",
       "1   40.72,-73.729\n",
       "2    40.72,-73.73\n",
       "3   40.72,-73.731\n",
       "4   40.72,-73.732"
      ]
     },
     "execution_count": 9,
     "metadata": {},
     "output_type": "execute_result"
    }
   ],
   "source": [
    "df.head()"
   ]
  },
  {
   "cell_type": "code",
   "execution_count": null,
   "metadata": {},
   "outputs": [],
   "source": [
    "start_time = time.time()\n",
    "\n",
    "df = pd.read_csv('nyc_unique_loc.csv')\n",
    "#df = df[df['Lat_Lon'].notnull()]\n",
    "#df = df.reset_index(drop=True)\n",
    "\n",
    "access_token = 'access_token=pk.eyJ1IjoiaGFoYXJzaCIsImEiOiJjazdxbnhpNzEwNXdjM2xydnUxaXNrcTdnIn0.uZiMrrxWM2Air6bzCUaT0Q'\n",
    "urlInit = 'https://api.mapbox.com/geocoding/v5/'\n",
    "mode = 'mapbox.places/'\n",
    "qtype = '&types=neighborhood'\n",
    "counter = 0\n",
    "\n",
    "for i in range(len(df)):\n",
    "    if(True): #Manually select rows if code fails\n",
    "        coordinates = literal_eval(df['Lat_Lon'][i])\n",
    "        lonlat = str(coordinates[1]) + ',' + str(coordinates[0]) + '.json'\n",
    "        url = urlInit + mode + lonlat + access_token + qtype;\n",
    "        try: \n",
    "            r = requests.get(url = url)\n",
    "        except requests.exceptions.RequestException as e:\n",
    "                print(i, \": \", \"CONNECTION ERROR\")\n",
    "                break\n",
    "        if(r.status_code == 200):\n",
    "            data = r.json()\n",
    "            try:\n",
    "                df.at[i,'neighborhood'] = data.get('features')[0].get('text')\n",
    "                df.at[i,'zipcode'] = data.get('features')[0].get('context')[1].get('text')\n",
    "                if i % 100 == 0:\n",
    "                    print(i, \": \", coordinates, data.get('features')[0].get('text'), data.get('features')[0].get('context')[1].get('text'))\n",
    "                    time.sleep(20)\n",
    "            except IndexError: # Catch Index Error when API returns No Result\n",
    "                print(i, \": \", \"INDEX ERROR\")\n",
    "                continue\n",
    "        else:\n",
    "            counter += 1 # Break the code when it keeps getting request error\n",
    "            print(i, \": \", r.status_code, \"REQUEST ERROR\")\n",
    "            time.sleep(60)\n",
    "            if(counter <= 3):\n",
    "                continue\n",
    "            else:\n",
    "                break\n",
    "    \n",
    "df.to_csv(\"nyc_neighborhood.csv\", index=False)  \n",
    "print (\"Finished: {} seconds elapsed.\" \\\n",
    "            .format(time.time() - start_time))   "
   ]
  },
  {
   "cell_type": "code",
   "execution_count": null,
   "metadata": {},
   "outputs": [],
   "source": []
  }
 ],
 "metadata": {
  "kernelspec": {
   "display_name": "Python 3",
   "language": "python",
   "name": "python3"
  },
  "language_info": {
   "codemirror_mode": {
    "name": "ipython",
    "version": 3
   },
   "file_extension": ".py",
   "mimetype": "text/x-python",
   "name": "python",
   "nbconvert_exporter": "python",
   "pygments_lexer": "ipython3",
   "version": "3.7.0"
  }
 },
 "nbformat": 4,
 "nbformat_minor": 2
}
