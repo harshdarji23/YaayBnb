{
 "cells": [
  {
   "cell_type": "code",
   "execution_count": 232,
   "metadata": {},
   "outputs": [],
   "source": [
    "import pandas as pd"
   ]
  },
  {
   "cell_type": "code",
   "execution_count": 233,
   "metadata": {},
   "outputs": [],
   "source": [
    "import numpy as np"
   ]
  },
  {
   "cell_type": "code",
   "execution_count": 234,
   "metadata": {},
   "outputs": [
    {
     "name": "stderr",
     "output_type": "stream",
     "text": [
      "C:\\Apps\\HarshD\\lib\\site-packages\\numpy\\lib\\arraysetops.py:522: FutureWarning: elementwise comparison failed; returning scalar instead, but in the future will perform elementwise comparison\n",
      "  mask |= (ar1 == a)\n"
     ]
    }
   ],
   "source": [
    "crime=pd.read_csv('crime_w_zipcodes.csv',index_col=0)"
   ]
  },
  {
   "cell_type": "code",
   "execution_count": 235,
   "metadata": {},
   "outputs": [
    {
     "data": {
      "text/html": [
       "<div>\n",
       "<style scoped>\n",
       "    .dataframe tbody tr th:only-of-type {\n",
       "        vertical-align: middle;\n",
       "    }\n",
       "\n",
       "    .dataframe tbody tr th {\n",
       "        vertical-align: top;\n",
       "    }\n",
       "\n",
       "    .dataframe thead th {\n",
       "        text-align: right;\n",
       "    }\n",
       "</style>\n",
       "<table border=\"1\" class=\"dataframe\">\n",
       "  <thead>\n",
       "    <tr style=\"text-align: right;\">\n",
       "      <th></th>\n",
       "      <th>CMPLNT_NUM</th>\n",
       "      <th>BORO_NM</th>\n",
       "      <th>CMPLNT_FR_DT</th>\n",
       "      <th>LAW_CAT_CD</th>\n",
       "      <th>Latitude</th>\n",
       "      <th>Longitude</th>\n",
       "      <th>Lat_Lon</th>\n",
       "      <th>zipcode</th>\n",
       "      <th>neighborhood</th>\n",
       "    </tr>\n",
       "  </thead>\n",
       "  <tbody>\n",
       "    <tr>\n",
       "      <th>0</th>\n",
       "      <td>876525802</td>\n",
       "      <td>BROOKLYN</td>\n",
       "      <td>04/10/2008</td>\n",
       "      <td>MISDEMEANOR</td>\n",
       "      <td>40.669</td>\n",
       "      <td>-73.913</td>\n",
       "      <td>40.669,-73.913</td>\n",
       "      <td>11212.0</td>\n",
       "      <td>Central Brooklyn</td>\n",
       "    </tr>\n",
       "    <tr>\n",
       "      <th>1</th>\n",
       "      <td>402693528</td>\n",
       "      <td>MANHATTAN</td>\n",
       "      <td>06/03/2007</td>\n",
       "      <td>MISDEMEANOR</td>\n",
       "      <td>40.802</td>\n",
       "      <td>-73.946</td>\n",
       "      <td>40.802,-73.946</td>\n",
       "      <td>10026.0</td>\n",
       "      <td>Central Harlem</td>\n",
       "    </tr>\n",
       "    <tr>\n",
       "      <th>2</th>\n",
       "      <td>832030069</td>\n",
       "      <td>QUEENS</td>\n",
       "      <td>02/16/2010</td>\n",
       "      <td>FELONY</td>\n",
       "      <td>40.700</td>\n",
       "      <td>-73.831</td>\n",
       "      <td>40.7,-73.831</td>\n",
       "      <td>11418.0</td>\n",
       "      <td>Southwest Queens</td>\n",
       "    </tr>\n",
       "    <tr>\n",
       "      <th>3</th>\n",
       "      <td>538308771</td>\n",
       "      <td>BROOKLYN</td>\n",
       "      <td>11/10/2009</td>\n",
       "      <td>MISDEMEANOR</td>\n",
       "      <td>40.681</td>\n",
       "      <td>-73.955</td>\n",
       "      <td>40.681,-73.955</td>\n",
       "      <td>11216.0</td>\n",
       "      <td>Central Brooklyn</td>\n",
       "    </tr>\n",
       "    <tr>\n",
       "      <th>5</th>\n",
       "      <td>141085517</td>\n",
       "      <td>BROOKLYN</td>\n",
       "      <td>06/23/2011</td>\n",
       "      <td>FELONY</td>\n",
       "      <td>40.678</td>\n",
       "      <td>-73.926</td>\n",
       "      <td>40.678,-73.926</td>\n",
       "      <td>11233.0</td>\n",
       "      <td>Central Brooklyn</td>\n",
       "    </tr>\n",
       "  </tbody>\n",
       "</table>\n",
       "</div>"
      ],
      "text/plain": [
       "   CMPLNT_NUM    BORO_NM CMPLNT_FR_DT   LAW_CAT_CD  Latitude  Longitude  \\\n",
       "0   876525802   BROOKLYN   04/10/2008  MISDEMEANOR    40.669    -73.913   \n",
       "1   402693528  MANHATTAN   06/03/2007  MISDEMEANOR    40.802    -73.946   \n",
       "2   832030069     QUEENS   02/16/2010       FELONY    40.700    -73.831   \n",
       "3   538308771   BROOKLYN   11/10/2009  MISDEMEANOR    40.681    -73.955   \n",
       "5   141085517   BROOKLYN   06/23/2011       FELONY    40.678    -73.926   \n",
       "\n",
       "          Lat_Lon  zipcode      neighborhood  \n",
       "0  40.669,-73.913  11212.0  Central Brooklyn  \n",
       "1  40.802,-73.946  10026.0    Central Harlem  \n",
       "2    40.7,-73.831  11418.0  Southwest Queens  \n",
       "3  40.681,-73.955  11216.0  Central Brooklyn  \n",
       "5  40.678,-73.926  11233.0  Central Brooklyn  "
      ]
     },
     "execution_count": 235,
     "metadata": {},
     "output_type": "execute_result"
    }
   ],
   "source": [
    "crime.head()"
   ]
  },
  {
   "cell_type": "code",
   "execution_count": 236,
   "metadata": {},
   "outputs": [
    {
     "data": {
      "text/plain": [
       "MISDEMEANOR    3678454\n",
       "FELONY         1989376\n",
       "VIOLATION       820185\n",
       "Name: LAW_CAT_CD, dtype: int64"
      ]
     },
     "execution_count": 236,
     "metadata": {},
     "output_type": "execute_result"
    }
   ],
   "source": [
    "crime.LAW_CAT_CD.value_counts()"
   ]
  },
  {
   "cell_type": "code",
   "execution_count": 231,
   "metadata": {},
   "outputs": [],
   "source": [
    "# crime['crime_type']=crime['LAW_CAT_CD']\n",
    "#mapping = {'VIOLATION ': 1, 'MISDEMEANOR': 2,'FELONY':3}\n",
    "#crime.replace({'crime_type': mapping},inplace=True)"
   ]
  },
  {
   "cell_type": "code",
   "execution_count": 237,
   "metadata": {},
   "outputs": [
    {
     "data": {
      "text/plain": [
       "CMPLNT_NUM         0\n",
       "BORO_NM            0\n",
       "CMPLNT_FR_DT       0\n",
       "LAW_CAT_CD         0\n",
       "Latitude           0\n",
       "Longitude          0\n",
       "Lat_Lon            0\n",
       "zipcode            0\n",
       "neighborhood    8533\n",
       "dtype: int64"
      ]
     },
     "execution_count": 237,
     "metadata": {},
     "output_type": "execute_result"
    }
   ],
   "source": [
    "crime.isnull().sum()"
   ]
  },
  {
   "cell_type": "code",
   "execution_count": 239,
   "metadata": {},
   "outputs": [],
   "source": [
    "#crime.dropna(inplace=true)"
   ]
  },
  {
   "cell_type": "code",
   "execution_count": 238,
   "metadata": {},
   "outputs": [
    {
     "data": {
      "text/plain": [
       "CMPLNT_NUM        int64\n",
       "BORO_NM          object\n",
       "CMPLNT_FR_DT     object\n",
       "LAW_CAT_CD       object\n",
       "Latitude        float64\n",
       "Longitude       float64\n",
       "Lat_Lon          object\n",
       "zipcode         float64\n",
       "neighborhood     object\n",
       "dtype: object"
      ]
     },
     "execution_count": 238,
     "metadata": {},
     "output_type": "execute_result"
    }
   ],
   "source": [
    "crime.dtypes"
   ]
  },
  {
   "cell_type": "code",
   "execution_count": 240,
   "metadata": {},
   "outputs": [],
   "source": [
    "airbnb=pd.read_csv('Airbnb_yelp_subway.csv',index_col=0)"
   ]
  },
  {
   "cell_type": "code",
   "execution_count": 241,
   "metadata": {},
   "outputs": [
    {
     "data": {
      "text/html": [
       "<div>\n",
       "<style scoped>\n",
       "    .dataframe tbody tr th:only-of-type {\n",
       "        vertical-align: middle;\n",
       "    }\n",
       "\n",
       "    .dataframe tbody tr th {\n",
       "        vertical-align: top;\n",
       "    }\n",
       "\n",
       "    .dataframe thead th {\n",
       "        text-align: right;\n",
       "    }\n",
       "</style>\n",
       "<table border=\"1\" class=\"dataframe\">\n",
       "  <thead>\n",
       "    <tr style=\"text-align: right;\">\n",
       "      <th></th>\n",
       "      <th>id_airbnb</th>\n",
       "      <th>host_id</th>\n",
       "      <th>borough</th>\n",
       "      <th>neighbourhood_group</th>\n",
       "      <th>latitude</th>\n",
       "      <th>longitude</th>\n",
       "      <th>room_type</th>\n",
       "      <th>price</th>\n",
       "      <th>minimum_nights</th>\n",
       "      <th>number_of_reviews</th>\n",
       "      <th>...</th>\n",
       "      <th>total_restaurants_reviews_5</th>\n",
       "      <th>restaurants_avg_rating_5</th>\n",
       "      <th>total_bars_1</th>\n",
       "      <th>total_bars_reviews_1</th>\n",
       "      <th>bars_avg_rating_1</th>\n",
       "      <th>bars_yelp_5</th>\n",
       "      <th>total_bars_reviews_5</th>\n",
       "      <th>bars_avg_rating_5</th>\n",
       "      <th>nearest_station</th>\n",
       "      <th>distance_to_station</th>\n",
       "    </tr>\n",
       "  </thead>\n",
       "  <tbody>\n",
       "    <tr>\n",
       "      <th>0</th>\n",
       "      <td>2595</td>\n",
       "      <td>2845</td>\n",
       "      <td>Manhattan</td>\n",
       "      <td>Midtown</td>\n",
       "      <td>40.75362</td>\n",
       "      <td>-73.98377</td>\n",
       "      <td>Entire home/apt</td>\n",
       "      <td>225</td>\n",
       "      <td>10</td>\n",
       "      <td>48</td>\n",
       "      <td>...</td>\n",
       "      <td>40022.0</td>\n",
       "      <td>4.057692</td>\n",
       "      <td>1.0</td>\n",
       "      <td>10.0</td>\n",
       "      <td>4.5</td>\n",
       "      <td>21.0</td>\n",
       "      <td>8701.0</td>\n",
       "      <td>4.000000</td>\n",
       "      <td>42nd St - Bryant Pk</td>\n",
       "      <td>0.093386</td>\n",
       "    </tr>\n",
       "    <tr>\n",
       "      <th>1</th>\n",
       "      <td>3831</td>\n",
       "      <td>4869</td>\n",
       "      <td>Brooklyn</td>\n",
       "      <td>Clinton Hill</td>\n",
       "      <td>40.68514</td>\n",
       "      <td>-73.95976</td>\n",
       "      <td>Entire home/apt</td>\n",
       "      <td>89</td>\n",
       "      <td>1</td>\n",
       "      <td>295</td>\n",
       "      <td>...</td>\n",
       "      <td>4086.0</td>\n",
       "      <td>4.240741</td>\n",
       "      <td>NaN</td>\n",
       "      <td>NaN</td>\n",
       "      <td>NaN</td>\n",
       "      <td>12.0</td>\n",
       "      <td>790.0</td>\n",
       "      <td>4.208333</td>\n",
       "      <td>Classon Ave</td>\n",
       "      <td>0.417452</td>\n",
       "    </tr>\n",
       "  </tbody>\n",
       "</table>\n",
       "<p>2 rows × 31 columns</p>\n",
       "</div>"
      ],
      "text/plain": [
       "   id_airbnb  host_id    borough neighbourhood_group  latitude  longitude  \\\n",
       "0       2595     2845  Manhattan             Midtown  40.75362  -73.98377   \n",
       "1       3831     4869   Brooklyn        Clinton Hill  40.68514  -73.95976   \n",
       "\n",
       "         room_type  price  minimum_nights  number_of_reviews  \\\n",
       "0  Entire home/apt    225              10                 48   \n",
       "1  Entire home/apt     89               1                295   \n",
       "\n",
       "          ...           total_restaurants_reviews_5  restaurants_avg_rating_5  \\\n",
       "0         ...                               40022.0                  4.057692   \n",
       "1         ...                                4086.0                  4.240741   \n",
       "\n",
       "   total_bars_1 total_bars_reviews_1  bars_avg_rating_1  bars_yelp_5  \\\n",
       "0           1.0                 10.0                4.5         21.0   \n",
       "1           NaN                  NaN                NaN         12.0   \n",
       "\n",
       "  total_bars_reviews_5  bars_avg_rating_5      nearest_station  \\\n",
       "0               8701.0           4.000000  42nd St - Bryant Pk   \n",
       "1                790.0           4.208333          Classon Ave   \n",
       "\n",
       "   distance_to_station  \n",
       "0             0.093386  \n",
       "1             0.417452  \n",
       "\n",
       "[2 rows x 31 columns]"
      ]
     },
     "execution_count": 241,
     "metadata": {},
     "output_type": "execute_result"
    }
   ],
   "source": [
    "airbnb.head(2)"
   ]
  },
  {
   "cell_type": "code",
   "execution_count": 248,
   "metadata": {},
   "outputs": [],
   "source": [
    "airbnb_nhood=pd.DataFrame(airbnb['neighborhood'].value_counts().reset_index())"
   ]
  },
  {
   "cell_type": "code",
   "execution_count": 249,
   "metadata": {},
   "outputs": [
    {
     "data": {
      "text/html": [
       "<div>\n",
       "<style scoped>\n",
       "    .dataframe tbody tr th:only-of-type {\n",
       "        vertical-align: middle;\n",
       "    }\n",
       "\n",
       "    .dataframe tbody tr th {\n",
       "        vertical-align: top;\n",
       "    }\n",
       "\n",
       "    .dataframe thead th {\n",
       "        text-align: right;\n",
       "    }\n",
       "</style>\n",
       "<table border=\"1\" class=\"dataframe\">\n",
       "  <thead>\n",
       "    <tr style=\"text-align: right;\">\n",
       "      <th></th>\n",
       "      <th>index</th>\n",
       "      <th>neighborhood</th>\n",
       "    </tr>\n",
       "  </thead>\n",
       "  <tbody>\n",
       "    <tr>\n",
       "      <th>0</th>\n",
       "      <td>Bushwick and Williamsburg</td>\n",
       "      <td>4483</td>\n",
       "    </tr>\n",
       "    <tr>\n",
       "      <th>1</th>\n",
       "      <td>Central Brooklyn</td>\n",
       "      <td>4158</td>\n",
       "    </tr>\n",
       "  </tbody>\n",
       "</table>\n",
       "</div>"
      ],
      "text/plain": [
       "                       index  neighborhood\n",
       "0  Bushwick and Williamsburg          4483\n",
       "1           Central Brooklyn          4158"
      ]
     },
     "execution_count": 249,
     "metadata": {},
     "output_type": "execute_result"
    }
   ],
   "source": [
    "airbnb_nhood.head(2)"
   ]
  },
  {
   "cell_type": "code",
   "execution_count": 250,
   "metadata": {},
   "outputs": [],
   "source": [
    "crime_nhood = pd.DataFrame(crime['neighborhood'].value_counts().reset_index())"
   ]
  },
  {
   "cell_type": "code",
   "execution_count": 251,
   "metadata": {},
   "outputs": [
    {
     "data": {
      "text/html": [
       "<div>\n",
       "<style scoped>\n",
       "    .dataframe tbody tr th:only-of-type {\n",
       "        vertical-align: middle;\n",
       "    }\n",
       "\n",
       "    .dataframe tbody tr th {\n",
       "        vertical-align: top;\n",
       "    }\n",
       "\n",
       "    .dataframe thead th {\n",
       "        text-align: right;\n",
       "    }\n",
       "</style>\n",
       "<table border=\"1\" class=\"dataframe\">\n",
       "  <thead>\n",
       "    <tr style=\"text-align: right;\">\n",
       "      <th></th>\n",
       "      <th>index</th>\n",
       "      <th>neighborhood</th>\n",
       "    </tr>\n",
       "  </thead>\n",
       "  <tbody>\n",
       "    <tr>\n",
       "      <th>0</th>\n",
       "      <td>Central Brooklyn</td>\n",
       "      <td>367261</td>\n",
       "    </tr>\n",
       "    <tr>\n",
       "      <th>1</th>\n",
       "      <td>Chelsea and Clinton</td>\n",
       "      <td>295523</td>\n",
       "    </tr>\n",
       "  </tbody>\n",
       "</table>\n",
       "</div>"
      ],
      "text/plain": [
       "                 index  neighborhood\n",
       "0     Central Brooklyn        367261\n",
       "1  Chelsea and Clinton        295523"
      ]
     },
     "execution_count": 251,
     "metadata": {},
     "output_type": "execute_result"
    }
   ],
   "source": [
    "crime_nhood.head(2)"
   ]
  },
  {
   "cell_type": "code",
   "execution_count": 252,
   "metadata": {},
   "outputs": [
    {
     "name": "stdout",
     "output_type": "stream",
     "text": [
      "(51, 2)\n",
      "(51, 2)\n"
     ]
    }
   ],
   "source": [
    "print(crime_nhood.shape)\n",
    "print(airbnb_nhood.shape)"
   ]
  },
  {
   "cell_type": "code",
   "execution_count": 253,
   "metadata": {},
   "outputs": [],
   "source": [
    "match_hoods = pd.merge(airbnb_nhood, crime_nhood,on=['index'], how='outer',suffixes=('_airbnb', '_crime'))"
   ]
  },
  {
   "cell_type": "code",
   "execution_count": 254,
   "metadata": {},
   "outputs": [
    {
     "data": {
      "text/html": [
       "<div>\n",
       "<style scoped>\n",
       "    .dataframe tbody tr th:only-of-type {\n",
       "        vertical-align: middle;\n",
       "    }\n",
       "\n",
       "    .dataframe tbody tr th {\n",
       "        vertical-align: top;\n",
       "    }\n",
       "\n",
       "    .dataframe thead th {\n",
       "        text-align: right;\n",
       "    }\n",
       "</style>\n",
       "<table border=\"1\" class=\"dataframe\">\n",
       "  <thead>\n",
       "    <tr style=\"text-align: right;\">\n",
       "      <th></th>\n",
       "      <th>index</th>\n",
       "      <th>neighborhood_airbnb</th>\n",
       "      <th>neighborhood_crime</th>\n",
       "    </tr>\n",
       "  </thead>\n",
       "  <tbody>\n",
       "    <tr>\n",
       "      <th>0</th>\n",
       "      <td>Bushwick and Williamsburg</td>\n",
       "      <td>4483.0</td>\n",
       "      <td>211233.0</td>\n",
       "    </tr>\n",
       "    <tr>\n",
       "      <th>1</th>\n",
       "      <td>Central Brooklyn</td>\n",
       "      <td>4158.0</td>\n",
       "      <td>367261.0</td>\n",
       "    </tr>\n",
       "  </tbody>\n",
       "</table>\n",
       "</div>"
      ],
      "text/plain": [
       "                       index  neighborhood_airbnb  neighborhood_crime\n",
       "0  Bushwick and Williamsburg               4483.0            211233.0\n",
       "1           Central Brooklyn               4158.0            367261.0"
      ]
     },
     "execution_count": 254,
     "metadata": {},
     "output_type": "execute_result"
    }
   ],
   "source": [
    "match_hoods .head(2)"
   ]
  },
  {
   "cell_type": "code",
   "execution_count": 255,
   "metadata": {},
   "outputs": [
    {
     "name": "stdout",
     "output_type": "stream",
     "text": [
      "There are 12.0 AirBnB listings with no match in the crime data.\n",
      "There are 1192.0 Crime listings with no match in the AirBnB data.\n"
     ]
    }
   ],
   "source": [
    "#Count records where there is no match on each side.\n",
    "airbnb_nomatch = match_hoods.neighborhood_airbnb[match_hoods.neighborhood_crime.isnull()]\n",
    "print('There are ' + str(airbnb_nomatch.sum()) + ' AirBnB listings with no match in the crime data.')\n",
    "\n",
    "crime_nomatch = match_hoods.neighborhood_crime[match_hoods.neighborhood_airbnb.isnull()]\n",
    "print('There are ' + str(crime_nomatch.sum()) + ' Crime listings with no match in the AirBnB data.')"
   ]
  },
  {
   "cell_type": "code",
   "execution_count": 256,
   "metadata": {},
   "outputs": [
    {
     "name": "stdout",
     "output_type": "stream",
     "text": [
      "                            index  neighborhood_airbnb  neighborhood_crime\n",
      "20                   Borough Park                589.0            120253.0\n",
      "48                          Bronx                  2.0                 NaN\n",
      "50                         Bronx                   2.0               499.0\n",
      "34         Bronx Park and Fordham                181.0            237765.0\n",
      "49                       Brooklyn                  2.0                 NaN\n",
      "0       Bushwick and Williamsburg               4483.0            211233.0\n",
      "28         Canarsie and Flatlands                254.0            141466.0\n",
      "36                  Central Bronx                120.0            236762.0\n",
      "1                Central Brooklyn               4158.0            367261.0\n",
      "7                  Central Harlem               2066.0            204376.0\n",
      "37                 Central Queens                105.0             38781.0\n",
      "2             Chelsea and Clinton               4079.0            295523.0\n",
      "15                    East Harlem               1056.0            155731.0\n",
      "19     East New York and New Lots                755.0            214361.0\n",
      "13                       Flatbush               1689.0            245550.0\n",
      "51                    Floral Park                  NaN              1188.0\n",
      "6   Gramercy Park and Murray Hill               2187.0            115017.0\n",
      "4                      Greenpoint               3289.0             68465.0\n",
      "11     Greenwich Village and Soho               1914.0            120070.0\n",
      "32     High Bridge and Morrisania                202.0            247370.0\n",
      "35     Hunts Point and Mott Haven                152.0            217496.0\n",
      "9   Inwood and Washington Heights               2008.0            186709.0\n",
      "21                        Jamaica                499.0            238555.0\n",
      "38      Kingsbridge and Riverdale                 85.0             56050.0\n",
      "45                    Long Island                  9.0               534.0\n",
      "3                 Lower East Side               3467.0            187207.0\n",
      "16                Lower Manhattan                874.0             50745.0\n",
      "42                      Manhattan                 26.0              1703.0\n",
      "44      Manhattan Cruise Terminal                 19.0               660.0\n",
      "43                     Mid-Island                 20.0             47604.0\n",
      "47              Midtown Manhattan                  3.0             11812.0\n",
      "52                   New Rochelle                  NaN                 3.0\n",
      "22                   North Queens                491.0            109558.0\n",
      "33                Northeast Bronx                185.0            147574.0\n",
      "41               Northeast Queens                 55.0             31933.0\n",
      "5              Northwest Brooklyn               3154.0            214075.0\n",
      "10               Northwest Queens               1946.0            143648.0\n",
      "40                  Port Richmond                 61.0             63224.0\n",
      "46                         Queens                  8.0                 NaN\n",
      "31                      Rockaways                222.0             90599.0\n",
      "39                    South Shore                 65.0             88548.0\n",
      "29                Southeast Bronx                232.0            254711.0\n",
      "27               Southeast Queens                255.0             95901.0\n",
      "24              Southern Brooklyn                362.0            170028.0\n",
      "26             Southwest Brooklyn                264.0            100177.0\n",
      "25               Southwest Queens                347.0            161292.0\n",
      "30       Stapleton and St. George                224.0            104405.0\n",
      "23                    Sunset Park                375.0             76271.0\n",
      "12                Upper East Side               1772.0             82910.0\n",
      "8                 Upper West Side               2031.0            128422.0\n",
      "18            West Central Queens                757.0            122107.0\n",
      "14                    West Queens               1244.0            254966.0\n",
      "17                   Williamsburg                765.0             18383.0\n",
      "53                        Yonkers                  NaN                 1.0\n"
     ]
    }
   ],
   "source": [
    "print(match_hoods.sort_values('index'))"
   ]
  },
  {
   "cell_type": "code",
   "execution_count": 257,
   "metadata": {},
   "outputs": [],
   "source": [
    "##to_drop=['Yonkers','New Rochelle']\n",
    "#match_hoods[~match_hoods['neighborhood_yelp'].isin(to_drop)]\n",
    "# We are going to recommend listings based of rest,safety.. but if there are no listings in that area we cannot reommend it..\n",
    "# so here I am just going to drop Yonkers and New Rochelle,Floral Park from crime ..\n",
    "match_hoods=match_hoods.dropna()"
   ]
  },
  {
   "cell_type": "code",
   "execution_count": 258,
   "metadata": {},
   "outputs": [
    {
     "name": "stdout",
     "output_type": "stream",
     "text": [
      "There are 0.0 AirBnB listings with no match in the crime data.\n",
      "There are 0.0 Crime listings with no match in the AirBnB data.\n"
     ]
    }
   ],
   "source": [
    "#Count records where there is no match on each side.\n",
    "airbnb_nomatch = match_hoods.neighborhood_airbnb[match_hoods.neighborhood_crime.isnull()]\n",
    "print('There are ' + str(airbnb_nomatch.sum()) + ' AirBnB listings with no match in the crime data.')\n",
    "\n",
    "crime_nomatch = match_hoods.neighborhood_crime[match_hoods.neighborhood_airbnb.isnull()]\n",
    "print('There are ' + str(crime_nomatch.sum()) + ' Crime listings with no match in the AirBnB data.')"
   ]
  },
  {
   "cell_type": "code",
   "execution_count": 259,
   "metadata": {},
   "outputs": [],
   "source": [
    "crime=crime[~(crime.neighborhood.isin([\"Yonkers\", \"New Rochelle\",'Floral Park ']))]"
   ]
  },
  {
   "cell_type": "code",
   "execution_count": 260,
   "metadata": {},
   "outputs": [],
   "source": [
    "airbnb=airbnb[~(airbnb.neighborhood.isin([\"Queens\", \"Bronx\",'Brooklyn']))]"
   ]
  },
  {
   "cell_type": "code",
   "execution_count": 261,
   "metadata": {},
   "outputs": [
    {
     "data": {
      "text/plain": [
       "48"
      ]
     },
     "execution_count": 261,
     "metadata": {},
     "output_type": "execute_result"
    }
   ],
   "source": [
    "airbnb.neighborhood.nunique()"
   ]
  },
  {
   "cell_type": "code",
   "execution_count": 262,
   "metadata": {},
   "outputs": [],
   "source": [
    "#crime_nhoods=crime[['CMPLNT_NUM','zipcode','Latitude','Longitude','crime_type']]"
   ]
  },
  {
   "cell_type": "code",
   "execution_count": 263,
   "metadata": {},
   "outputs": [],
   "source": [
    "#crime_nhoods.dtypes"
   ]
  },
  {
   "cell_type": "code",
   "execution_count": 264,
   "metadata": {},
   "outputs": [],
   "source": [
    "#crime_nhoods.head(2)"
   ]
  },
  {
   "cell_type": "code",
   "execution_count": 266,
   "metadata": {},
   "outputs": [],
   "source": [
    "#a_hoods = airbnb_copy[['id_airbnb', 'latitude', 'longitude','zipcode']]\n",
    "#a_hoods.head()"
   ]
  },
  {
   "cell_type": "code",
   "execution_count": 83,
   "metadata": {},
   "outputs": [],
   "source": [
    "#my_airbnb=pd.merge(a_hoods,crime_nhoods,how='inner',on='neighborhood',suffixes = ('_airbnb', '_crime'))\n",
    "# getting memory error when trying to merge on neighborhood lets try zipcode"
   ]
  },
  {
   "cell_type": "code",
   "execution_count": 37,
   "metadata": {},
   "outputs": [],
   "source": [
    "# https://forums.fast.ai/t/memory-error-on-python-pandas-merge-for-large-databases/8407/2"
   ]
  },
  {
   "cell_type": "code",
   "execution_count": 267,
   "metadata": {},
   "outputs": [
    {
     "data": {
      "text/plain": [
       "1635"
      ]
     },
     "execution_count": 267,
     "metadata": {},
     "output_type": "execute_result"
    }
   ],
   "source": [
    "import gc\n",
    "gc.collect()"
   ]
  },
  {
   "cell_type": "code",
   "execution_count": 268,
   "metadata": {},
   "outputs": [],
   "source": [
    "#crime_nhoods.to_csv('crime_nhoods.csv')\n"
   ]
  },
  {
   "cell_type": "code",
   "execution_count": 271,
   "metadata": {},
   "outputs": [],
   "source": [
    "#crime_nhoods.dtypes"
   ]
  },
  {
   "cell_type": "code",
   "execution_count": 272,
   "metadata": {},
   "outputs": [],
   "source": [
    "#a_hoods.to_csv('a_hoods.csv')"
   ]
  },
  {
   "cell_type": "code",
   "execution_count": 273,
   "metadata": {},
   "outputs": [
    {
     "data": {
      "text/plain": [
       "\"\\ntypes_dict = {'CMPLNT_NUM': 'int8',\\n             'zipcode': 'int8',\\n             'Latitude': 'float16',\\n              'Longitude':'float16',\\n              'crime_type':'object'\\n             }\""
      ]
     },
     "execution_count": 273,
     "metadata": {},
     "output_type": "execute_result"
    }
   ],
   "source": [
    "'''\n",
    "types_dict = {'CMPLNT_NUM': 'int8',\n",
    "             'zipcode': 'int8',\n",
    "             'Latitude': 'float16',\n",
    "              'Longitude':'float16',\n",
    "              'crime_type':'object'\n",
    "             }'''"
   ]
  },
  {
   "cell_type": "code",
   "execution_count": 274,
   "metadata": {},
   "outputs": [],
   "source": [
    "#crime_nhoods=pd.read_csv('crime_nhoods.csv',low_memory=True,index_col=0,dtype=types_dict)"
   ]
  },
  {
   "cell_type": "code",
   "execution_count": 114,
   "metadata": {
    "scrolled": true
   },
   "outputs": [],
   "source": [
    "#crime_nhoods.dtypes"
   ]
  },
  {
   "cell_type": "code",
   "execution_count": 66,
   "metadata": {},
   "outputs": [],
   "source": [
    "#crime_nhoods['zipcode']=crime_nhoods['zipcode'].astype(np.int64)"
   ]
  },
  {
   "cell_type": "code",
   "execution_count": 275,
   "metadata": {},
   "outputs": [],
   "source": [
    "\n",
    "#types_dict1 = {'id_airbnb':'int8','latitude':'float16','longitude':'float16','zipcode':'int8'}\n",
    "             "
   ]
  },
  {
   "cell_type": "code",
   "execution_count": 276,
   "metadata": {},
   "outputs": [],
   "source": [
    "#a_hoods=pd.read_csv('a_hoods.csv',low_memory=True,index_col=0,dtype=types_dict1)"
   ]
  },
  {
   "cell_type": "code",
   "execution_count": 133,
   "metadata": {},
   "outputs": [],
   "source": [
    "#a_hoods.head()"
   ]
  },
  {
   "cell_type": "code",
   "execution_count": 277,
   "metadata": {},
   "outputs": [],
   "source": [
    "#a_hoods.dtypes"
   ]
  },
  {
   "cell_type": "code",
   "execution_count": 162,
   "metadata": {},
   "outputs": [],
   "source": [
    "#my_airbnb=pd.merge(a_hoods,crime_nhoods,on='zipcode')"
   ]
  },
  {
   "cell_type": "code",
   "execution_count": 278,
   "metadata": {},
   "outputs": [
    {
     "name": "stdout",
     "output_type": "stream",
     "text": [
      "crime dataset uses  494.99595642089844  MB\n",
      "airbnb dataset uses  11.98681640625  MB\n"
     ]
    }
   ],
   "source": [
    "# https://www.kaggle.com/jagangupta/memory-optimization-and-eda-on-entire-dataset\n",
    "mem_test=crime.memory_usage(index=True).sum()\n",
    "print(\"crime dataset uses \",mem_test/ 1024**2,\" MB\")\n",
    "mem_test1=airbnb.memory_usage(index=True).sum()\n",
    "print(\"airbnb dataset uses \",mem_test1/ 1024**2,\" MB\")\n",
    "\n"
   ]
  },
  {
   "cell_type": "code",
   "execution_count": 279,
   "metadata": {},
   "outputs": [
    {
     "data": {
      "text/plain": [
       "183"
      ]
     },
     "execution_count": 279,
     "metadata": {},
     "output_type": "execute_result"
    }
   ],
   "source": [
    "a_hoods.zipcode.nunique()"
   ]
  },
  {
   "cell_type": "code",
   "execution_count": 170,
   "metadata": {},
   "outputs": [],
   "source": [
    "# lets try something else"
   ]
  },
  {
   "cell_type": "code",
   "execution_count": 280,
   "metadata": {},
   "outputs": [
    {
     "data": {
      "text/html": [
       "<div>\n",
       "<style scoped>\n",
       "    .dataframe tbody tr th:only-of-type {\n",
       "        vertical-align: middle;\n",
       "    }\n",
       "\n",
       "    .dataframe tbody tr th {\n",
       "        vertical-align: top;\n",
       "    }\n",
       "\n",
       "    .dataframe thead th {\n",
       "        text-align: right;\n",
       "    }\n",
       "</style>\n",
       "<table border=\"1\" class=\"dataframe\">\n",
       "  <thead>\n",
       "    <tr style=\"text-align: right;\">\n",
       "      <th></th>\n",
       "      <th>CMPLNT_NUM</th>\n",
       "      <th>BORO_NM</th>\n",
       "      <th>CMPLNT_FR_DT</th>\n",
       "      <th>LAW_CAT_CD</th>\n",
       "      <th>Latitude</th>\n",
       "      <th>Longitude</th>\n",
       "      <th>Lat_Lon</th>\n",
       "      <th>zipcode</th>\n",
       "      <th>neighborhood</th>\n",
       "    </tr>\n",
       "  </thead>\n",
       "  <tbody>\n",
       "    <tr>\n",
       "      <th>0</th>\n",
       "      <td>876525802</td>\n",
       "      <td>BROOKLYN</td>\n",
       "      <td>04/10/2008</td>\n",
       "      <td>MISDEMEANOR</td>\n",
       "      <td>40.669</td>\n",
       "      <td>-73.913</td>\n",
       "      <td>40.669,-73.913</td>\n",
       "      <td>11212.0</td>\n",
       "      <td>Central Brooklyn</td>\n",
       "    </tr>\n",
       "    <tr>\n",
       "      <th>1</th>\n",
       "      <td>402693528</td>\n",
       "      <td>MANHATTAN</td>\n",
       "      <td>06/03/2007</td>\n",
       "      <td>MISDEMEANOR</td>\n",
       "      <td>40.802</td>\n",
       "      <td>-73.946</td>\n",
       "      <td>40.802,-73.946</td>\n",
       "      <td>10026.0</td>\n",
       "      <td>Central Harlem</td>\n",
       "    </tr>\n",
       "  </tbody>\n",
       "</table>\n",
       "</div>"
      ],
      "text/plain": [
       "   CMPLNT_NUM    BORO_NM CMPLNT_FR_DT   LAW_CAT_CD  Latitude  Longitude  \\\n",
       "0   876525802   BROOKLYN   04/10/2008  MISDEMEANOR    40.669    -73.913   \n",
       "1   402693528  MANHATTAN   06/03/2007  MISDEMEANOR    40.802    -73.946   \n",
       "\n",
       "          Lat_Lon  zipcode      neighborhood  \n",
       "0  40.669,-73.913  11212.0  Central Brooklyn  \n",
       "1  40.802,-73.946  10026.0    Central Harlem  "
      ]
     },
     "execution_count": 280,
     "metadata": {},
     "output_type": "execute_result"
    }
   ],
   "source": [
    "crime.head(2)"
   ]
  },
  {
   "cell_type": "code",
   "execution_count": 281,
   "metadata": {},
   "outputs": [],
   "source": [
    "#crime['crime_type']=crime['crime_type'].astype(int)"
   ]
  },
  {
   "cell_type": "code",
   "execution_count": 282,
   "metadata": {},
   "outputs": [],
   "source": [
    "#pd.to_numeric(crime['crime_type'],errors='coerce')"
   ]
  },
  {
   "cell_type": "code",
   "execution_count": 283,
   "metadata": {},
   "outputs": [],
   "source": [
    "crime = pd.get_dummies(crime, columns=['LAW_CAT_CD'])"
   ]
  },
  {
   "cell_type": "code",
   "execution_count": 284,
   "metadata": {},
   "outputs": [
    {
     "data": {
      "text/html": [
       "<div>\n",
       "<style scoped>\n",
       "    .dataframe tbody tr th:only-of-type {\n",
       "        vertical-align: middle;\n",
       "    }\n",
       "\n",
       "    .dataframe tbody tr th {\n",
       "        vertical-align: top;\n",
       "    }\n",
       "\n",
       "    .dataframe thead th {\n",
       "        text-align: right;\n",
       "    }\n",
       "</style>\n",
       "<table border=\"1\" class=\"dataframe\">\n",
       "  <thead>\n",
       "    <tr style=\"text-align: right;\">\n",
       "      <th></th>\n",
       "      <th>CMPLNT_NUM</th>\n",
       "      <th>BORO_NM</th>\n",
       "      <th>CMPLNT_FR_DT</th>\n",
       "      <th>Latitude</th>\n",
       "      <th>Longitude</th>\n",
       "      <th>Lat_Lon</th>\n",
       "      <th>zipcode</th>\n",
       "      <th>neighborhood</th>\n",
       "      <th>LAW_CAT_CD_FELONY</th>\n",
       "      <th>LAW_CAT_CD_MISDEMEANOR</th>\n",
       "      <th>LAW_CAT_CD_VIOLATION</th>\n",
       "    </tr>\n",
       "  </thead>\n",
       "  <tbody>\n",
       "    <tr>\n",
       "      <th>0</th>\n",
       "      <td>876525802</td>\n",
       "      <td>BROOKLYN</td>\n",
       "      <td>04/10/2008</td>\n",
       "      <td>40.669</td>\n",
       "      <td>-73.913</td>\n",
       "      <td>40.669,-73.913</td>\n",
       "      <td>11212.0</td>\n",
       "      <td>Central Brooklyn</td>\n",
       "      <td>0</td>\n",
       "      <td>1</td>\n",
       "      <td>0</td>\n",
       "    </tr>\n",
       "    <tr>\n",
       "      <th>1</th>\n",
       "      <td>402693528</td>\n",
       "      <td>MANHATTAN</td>\n",
       "      <td>06/03/2007</td>\n",
       "      <td>40.802</td>\n",
       "      <td>-73.946</td>\n",
       "      <td>40.802,-73.946</td>\n",
       "      <td>10026.0</td>\n",
       "      <td>Central Harlem</td>\n",
       "      <td>0</td>\n",
       "      <td>1</td>\n",
       "      <td>0</td>\n",
       "    </tr>\n",
       "    <tr>\n",
       "      <th>2</th>\n",
       "      <td>832030069</td>\n",
       "      <td>QUEENS</td>\n",
       "      <td>02/16/2010</td>\n",
       "      <td>40.700</td>\n",
       "      <td>-73.831</td>\n",
       "      <td>40.7,-73.831</td>\n",
       "      <td>11418.0</td>\n",
       "      <td>Southwest Queens</td>\n",
       "      <td>1</td>\n",
       "      <td>0</td>\n",
       "      <td>0</td>\n",
       "    </tr>\n",
       "    <tr>\n",
       "      <th>3</th>\n",
       "      <td>538308771</td>\n",
       "      <td>BROOKLYN</td>\n",
       "      <td>11/10/2009</td>\n",
       "      <td>40.681</td>\n",
       "      <td>-73.955</td>\n",
       "      <td>40.681,-73.955</td>\n",
       "      <td>11216.0</td>\n",
       "      <td>Central Brooklyn</td>\n",
       "      <td>0</td>\n",
       "      <td>1</td>\n",
       "      <td>0</td>\n",
       "    </tr>\n",
       "    <tr>\n",
       "      <th>5</th>\n",
       "      <td>141085517</td>\n",
       "      <td>BROOKLYN</td>\n",
       "      <td>06/23/2011</td>\n",
       "      <td>40.678</td>\n",
       "      <td>-73.926</td>\n",
       "      <td>40.678,-73.926</td>\n",
       "      <td>11233.0</td>\n",
       "      <td>Central Brooklyn</td>\n",
       "      <td>1</td>\n",
       "      <td>0</td>\n",
       "      <td>0</td>\n",
       "    </tr>\n",
       "  </tbody>\n",
       "</table>\n",
       "</div>"
      ],
      "text/plain": [
       "   CMPLNT_NUM    BORO_NM CMPLNT_FR_DT  Latitude  Longitude         Lat_Lon  \\\n",
       "0   876525802   BROOKLYN   04/10/2008    40.669    -73.913  40.669,-73.913   \n",
       "1   402693528  MANHATTAN   06/03/2007    40.802    -73.946  40.802,-73.946   \n",
       "2   832030069     QUEENS   02/16/2010    40.700    -73.831    40.7,-73.831   \n",
       "3   538308771   BROOKLYN   11/10/2009    40.681    -73.955  40.681,-73.955   \n",
       "5   141085517   BROOKLYN   06/23/2011    40.678    -73.926  40.678,-73.926   \n",
       "\n",
       "   zipcode      neighborhood  LAW_CAT_CD_FELONY  LAW_CAT_CD_MISDEMEANOR  \\\n",
       "0  11212.0  Central Brooklyn                  0                       1   \n",
       "1  10026.0    Central Harlem                  0                       1   \n",
       "2  11418.0  Southwest Queens                  1                       0   \n",
       "3  11216.0  Central Brooklyn                  0                       1   \n",
       "5  11233.0  Central Brooklyn                  1                       0   \n",
       "\n",
       "   LAW_CAT_CD_VIOLATION  \n",
       "0                     0  \n",
       "1                     0  \n",
       "2                     0  \n",
       "3                     0  \n",
       "5                     0  "
      ]
     },
     "execution_count": 284,
     "metadata": {},
     "output_type": "execute_result"
    }
   ],
   "source": [
    "crime.head()"
   ]
  },
  {
   "cell_type": "code",
   "execution_count": 285,
   "metadata": {},
   "outputs": [],
   "source": [
    "crime['score']=5*crime['LAW_CAT_CD_FELONY']+3*crime['LAW_CAT_CD_MISDEMEANOR']+2*crime['LAW_CAT_CD_VIOLATION']"
   ]
  },
  {
   "cell_type": "code",
   "execution_count": 286,
   "metadata": {},
   "outputs": [],
   "source": [
    "df=crime.groupby('zipcode')['score'].mean().reset_index(name ='crime_score')"
   ]
  },
  {
   "cell_type": "code",
   "execution_count": 287,
   "metadata": {},
   "outputs": [
    {
     "data": {
      "text/html": [
       "<div>\n",
       "<style scoped>\n",
       "    .dataframe tbody tr th:only-of-type {\n",
       "        vertical-align: middle;\n",
       "    }\n",
       "\n",
       "    .dataframe tbody tr th {\n",
       "        vertical-align: top;\n",
       "    }\n",
       "\n",
       "    .dataframe thead th {\n",
       "        text-align: right;\n",
       "    }\n",
       "</style>\n",
       "<table border=\"1\" class=\"dataframe\">\n",
       "  <thead>\n",
       "    <tr style=\"text-align: right;\">\n",
       "      <th></th>\n",
       "      <th>zipcode</th>\n",
       "      <th>crime_score</th>\n",
       "    </tr>\n",
       "  </thead>\n",
       "  <tbody>\n",
       "    <tr>\n",
       "      <th>115</th>\n",
       "      <td>11021.0</td>\n",
       "      <td>5.000000</td>\n",
       "    </tr>\n",
       "    <tr>\n",
       "      <th>117</th>\n",
       "      <td>11096.0</td>\n",
       "      <td>4.311111</td>\n",
       "    </tr>\n",
       "    <tr>\n",
       "      <th>50</th>\n",
       "      <td>10152.0</td>\n",
       "      <td>4.000000</td>\n",
       "    </tr>\n",
       "    <tr>\n",
       "      <th>55</th>\n",
       "      <td>10165.0</td>\n",
       "      <td>3.934051</td>\n",
       "    </tr>\n",
       "    <tr>\n",
       "      <th>110</th>\n",
       "      <td>10701.0</td>\n",
       "      <td>3.916667</td>\n",
       "    </tr>\n",
       "  </tbody>\n",
       "</table>\n",
       "</div>"
      ],
      "text/plain": [
       "     zipcode  crime_score\n",
       "115  11021.0     5.000000\n",
       "117  11096.0     4.311111\n",
       "50   10152.0     4.000000\n",
       "55   10165.0     3.934051\n",
       "110  10701.0     3.916667"
      ]
     },
     "execution_count": 287,
     "metadata": {},
     "output_type": "execute_result"
    }
   ],
   "source": [
    "df.nlargest(columns='crime_score',n=5)"
   ]
  },
  {
   "cell_type": "code",
   "execution_count": 288,
   "metadata": {},
   "outputs": [],
   "source": [
    "df.to_csv('zipcodes_crime_score.csv')"
   ]
  },
  {
   "cell_type": "code",
   "execution_count": 289,
   "metadata": {},
   "outputs": [],
   "source": [
    "my_dict = dict(zip(df['zipcode'], df['crime_score']))\n",
    "airbnb['crime_score'] = airbnb['zipcode'].map(my_dict)"
   ]
  },
  {
   "cell_type": "code",
   "execution_count": 290,
   "metadata": {},
   "outputs": [
    {
     "data": {
      "text/html": [
       "<div>\n",
       "<style scoped>\n",
       "    .dataframe tbody tr th:only-of-type {\n",
       "        vertical-align: middle;\n",
       "    }\n",
       "\n",
       "    .dataframe tbody tr th {\n",
       "        vertical-align: top;\n",
       "    }\n",
       "\n",
       "    .dataframe thead th {\n",
       "        text-align: right;\n",
       "    }\n",
       "</style>\n",
       "<table border=\"1\" class=\"dataframe\">\n",
       "  <thead>\n",
       "    <tr style=\"text-align: right;\">\n",
       "      <th></th>\n",
       "      <th>id_airbnb</th>\n",
       "      <th>host_id</th>\n",
       "      <th>borough</th>\n",
       "      <th>neighbourhood_group</th>\n",
       "      <th>latitude</th>\n",
       "      <th>longitude</th>\n",
       "      <th>room_type</th>\n",
       "      <th>price</th>\n",
       "      <th>minimum_nights</th>\n",
       "      <th>number_of_reviews</th>\n",
       "      <th>...</th>\n",
       "      <th>restaurants_avg_rating_5</th>\n",
       "      <th>total_bars_1</th>\n",
       "      <th>total_bars_reviews_1</th>\n",
       "      <th>bars_avg_rating_1</th>\n",
       "      <th>bars_yelp_5</th>\n",
       "      <th>total_bars_reviews_5</th>\n",
       "      <th>bars_avg_rating_5</th>\n",
       "      <th>nearest_station</th>\n",
       "      <th>distance_to_station</th>\n",
       "      <th>crime_score</th>\n",
       "    </tr>\n",
       "  </thead>\n",
       "  <tbody>\n",
       "    <tr>\n",
       "      <th>0</th>\n",
       "      <td>2595</td>\n",
       "      <td>2845</td>\n",
       "      <td>Manhattan</td>\n",
       "      <td>Midtown</td>\n",
       "      <td>40.75362</td>\n",
       "      <td>-73.98377</td>\n",
       "      <td>Entire home/apt</td>\n",
       "      <td>225</td>\n",
       "      <td>10</td>\n",
       "      <td>48</td>\n",
       "      <td>...</td>\n",
       "      <td>4.057692</td>\n",
       "      <td>1.0</td>\n",
       "      <td>10.0</td>\n",
       "      <td>4.5</td>\n",
       "      <td>21.0</td>\n",
       "      <td>8701.0</td>\n",
       "      <td>4.000000</td>\n",
       "      <td>42nd St - Bryant Pk</td>\n",
       "      <td>0.093386</td>\n",
       "      <td>3.666079</td>\n",
       "    </tr>\n",
       "    <tr>\n",
       "      <th>1</th>\n",
       "      <td>3831</td>\n",
       "      <td>4869</td>\n",
       "      <td>Brooklyn</td>\n",
       "      <td>Clinton Hill</td>\n",
       "      <td>40.68514</td>\n",
       "      <td>-73.95976</td>\n",
       "      <td>Entire home/apt</td>\n",
       "      <td>89</td>\n",
       "      <td>1</td>\n",
       "      <td>295</td>\n",
       "      <td>...</td>\n",
       "      <td>4.240741</td>\n",
       "      <td>NaN</td>\n",
       "      <td>NaN</td>\n",
       "      <td>NaN</td>\n",
       "      <td>12.0</td>\n",
       "      <td>790.0</td>\n",
       "      <td>4.208333</td>\n",
       "      <td>Classon Ave</td>\n",
       "      <td>0.417452</td>\n",
       "      <td>3.554833</td>\n",
       "    </tr>\n",
       "  </tbody>\n",
       "</table>\n",
       "<p>2 rows × 32 columns</p>\n",
       "</div>"
      ],
      "text/plain": [
       "   id_airbnb  host_id    borough neighbourhood_group  latitude  longitude  \\\n",
       "0       2595     2845  Manhattan             Midtown  40.75362  -73.98377   \n",
       "1       3831     4869   Brooklyn        Clinton Hill  40.68514  -73.95976   \n",
       "\n",
       "         room_type  price  minimum_nights  number_of_reviews     ...       \\\n",
       "0  Entire home/apt    225              10                 48     ...        \n",
       "1  Entire home/apt     89               1                295     ...        \n",
       "\n",
       "   restaurants_avg_rating_5  total_bars_1  total_bars_reviews_1  \\\n",
       "0                  4.057692           1.0                  10.0   \n",
       "1                  4.240741           NaN                   NaN   \n",
       "\n",
       "  bars_avg_rating_1  bars_yelp_5  total_bars_reviews_5 bars_avg_rating_5  \\\n",
       "0               4.5         21.0                8701.0          4.000000   \n",
       "1               NaN         12.0                 790.0          4.208333   \n",
       "\n",
       "       nearest_station  distance_to_station  crime_score  \n",
       "0  42nd St - Bryant Pk             0.093386     3.666079  \n",
       "1          Classon Ave             0.417452     3.554833  \n",
       "\n",
       "[2 rows x 32 columns]"
      ]
     },
     "execution_count": 290,
     "metadata": {},
     "output_type": "execute_result"
    }
   ],
   "source": [
    "airbnb.head(2)"
   ]
  },
  {
   "cell_type": "code",
   "execution_count": 291,
   "metadata": {},
   "outputs": [],
   "source": [
    "airbnb.to_csv('Airbnb_Final_Merge.to_csv')"
   ]
  },
  {
   "cell_type": "code",
   "execution_count": 292,
   "metadata": {},
   "outputs": [
    {
     "data": {
      "text/plain": [
       "3.533510761851535"
      ]
     },
     "execution_count": 292,
     "metadata": {},
     "output_type": "execute_result"
    }
   ],
   "source": [
    "airbnb.crime_score.mean()"
   ]
  },
  {
   "cell_type": "code",
   "execution_count": 293,
   "metadata": {},
   "outputs": [],
   "source": [
    "# the problem with this method is that it all the listings in the same zipcode will have same crime score!!"
   ]
  },
  {
   "cell_type": "code",
   "execution_count": 294,
   "metadata": {},
   "outputs": [],
   "source": [
    "airbnb.zipcode.value_counts()"
   ]
  },
  {
   "cell_type": "code",
   "execution_count": 295,
   "metadata": {},
   "outputs": [
    {
     "data": {
      "text/plain": [
       "id_airbnb                             0\n",
       "host_id                               0\n",
       "borough                               0\n",
       "neighbourhood_group                   0\n",
       "latitude                              0\n",
       "longitude                             0\n",
       "room_type                             0\n",
       "price                                 0\n",
       "minimum_nights                        0\n",
       "number_of_reviews                     0\n",
       "reviews_per_month                     0\n",
       "calculated_host_listings_count        0\n",
       "availability_365                      0\n",
       "description                           0\n",
       "accommodates                          0\n",
       "zipcode                               0\n",
       "neighborhood                          0\n",
       "total_restaurants_1               24795\n",
       "total_restaurants_reviews_1       24795\n",
       "restaurants_avg_rating_1          24795\n",
       "restaurants_yelp_5                 2823\n",
       "total_restaurants_reviews_5        2823\n",
       "restaurants_avg_rating_5           2823\n",
       "total_bars_1                      36531\n",
       "total_bars_reviews_1              36531\n",
       "bars_avg_rating_1                 36531\n",
       "bars_yelp_5                        7775\n",
       "total_bars_reviews_5               7775\n",
       "bars_avg_rating_5                  7775\n",
       "nearest_station                       0\n",
       "distance_to_station                   0\n",
       "crime_score                           7\n",
       "dtype: int64"
      ]
     },
     "execution_count": 295,
     "metadata": {},
     "output_type": "execute_result"
    }
   ],
   "source": [
    "airbnb.isnull().sum()"
   ]
  },
  {
   "cell_type": "code",
   "execution_count": null,
   "metadata": {},
   "outputs": [],
   "source": []
  }
 ],
 "metadata": {
  "kernelspec": {
   "display_name": "Python 3",
   "language": "python",
   "name": "python3"
  },
  "language_info": {
   "codemirror_mode": {
    "name": "ipython",
    "version": 3
   },
   "file_extension": ".py",
   "mimetype": "text/x-python",
   "name": "python",
   "nbconvert_exporter": "python",
   "pygments_lexer": "ipython3",
   "version": "3.7.0"
  }
 },
 "nbformat": 4,
 "nbformat_minor": 2
}
