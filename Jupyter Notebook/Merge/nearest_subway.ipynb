{
  "nbformat": 4,
  "nbformat_minor": 0,
  "metadata": {
    "kernelspec": {
      "display_name": "Python 3",
      "language": "python",
      "name": "python3"
    },
    "language_info": {
      "codemirror_mode": {
        "name": "ipython",
        "version": 3
      },
      "file_extension": ".py",
      "mimetype": "text/x-python",
      "name": "python",
      "nbconvert_exporter": "python",
      "pygments_lexer": "ipython3",
      "version": "3.6.3"
    },
    "colab": {
      "name": "nearest_subway.ipynb",
      "provenance": [],
      "toc_visible": true
    }
  },
  "cells": [
    {
      "cell_type": "code",
      "metadata": {
        "id": "gzbK00BbXIXi",
        "colab_type": "code",
        "outputId": "f59e0434-7005-43e0-c4e8-26476967c469",
        "colab": {}
      },
      "source": [
        "!python --version"
      ],
      "execution_count": 0,
      "outputs": [
        {
          "output_type": "stream",
          "text": [
            "Python 3.7.3\r\n"
          ],
          "name": "stdout"
        }
      ]
    },
    {
      "cell_type": "code",
      "metadata": {
        "id": "J4juk48vXIXm",
        "colab_type": "code",
        "colab": {}
      },
      "source": [
        "# Start writing your code here..."
      ],
      "execution_count": 0,
      "outputs": []
    },
    {
      "cell_type": "code",
      "metadata": {
        "id": "wjEE4e2vXPS0",
        "colab_type": "code",
        "outputId": "a19fde46-58f3-4371-f5a0-5c38df75aa19",
        "colab": {
          "resources": {
            "http://localhost:8080/nbextensions/google.colab/files.js": {
              "data": "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",
              "ok": true,
              "headers": [
                [
                  "content-type",
                  "application/javascript"
                ]
              ],
              "status": 200,
              "status_text": ""
            }
          },
          "base_uri": "https://localhost:8080/",
          "height": 75
        }
      },
      "source": [
        "from google.colab import files\n",
        "uploaded = files.upload()"
      ],
      "execution_count": 0,
      "outputs": [
        {
          "output_type": "display_data",
          "data": {
            "text/html": [
              "\n",
              "     <input type=\"file\" id=\"files-f370002d-3e0f-443c-98a4-4f0ee39e5f1a\" name=\"files[]\" multiple disabled />\n",
              "     <output id=\"result-f370002d-3e0f-443c-98a4-4f0ee39e5f1a\">\n",
              "      Upload widget is only available when the cell has been executed in the\n",
              "      current browser session. Please rerun this cell to enable.\n",
              "      </output>\n",
              "      <script src=\"/nbextensions/google.colab/files.js\"></script> "
            ],
            "text/plain": [
              "<IPython.core.display.HTML object>"
            ]
          },
          "metadata": {
            "tags": []
          }
        },
        {
          "output_type": "stream",
          "text": [
            "Saving DOITT_SUBWAY_STATION_01_13SEPT2010.csv to DOITT_SUBWAY_STATION_01_13SEPT2010.csv\n"
          ],
          "name": "stdout"
        }
      ]
    },
    {
      "cell_type": "code",
      "metadata": {
        "tags": [],
        "id": "dIianZgoXIXo",
        "colab_type": "code",
        "colab": {}
      },
      "source": [
        "import pandas as pd"
      ],
      "execution_count": 0,
      "outputs": []
    },
    {
      "cell_type": "code",
      "metadata": {
        "tags": [],
        "id": "bvTFXOQjXIXr",
        "colab_type": "code",
        "colab": {}
      },
      "source": [
        "stations=pd.read_csv('DOITT_SUBWAY_STATION_01_13SEPT2010.csv')"
      ],
      "execution_count": 0,
      "outputs": []
    },
    {
      "cell_type": "code",
      "metadata": {
        "tags": [],
        "id": "kE1tWKlGXIXu",
        "colab_type": "code",
        "outputId": "cf2ff137-9dbc-43b4-b6f1-79b64975e1cf",
        "colab": {
          "base_uri": "https://localhost:8080/",
          "height": 77
        }
      },
      "source": [
        "stations.head(1)"
      ],
      "execution_count": 0,
      "outputs": [
        {
          "output_type": "execute_result",
          "data": {
            "text/html": [
              "<div>\n",
              "<style scoped>\n",
              "    .dataframe tbody tr th:only-of-type {\n",
              "        vertical-align: middle;\n",
              "    }\n",
              "\n",
              "    .dataframe tbody tr th {\n",
              "        vertical-align: top;\n",
              "    }\n",
              "\n",
              "    .dataframe thead th {\n",
              "        text-align: right;\n",
              "    }\n",
              "</style>\n",
              "<table border=\"1\" class=\"dataframe\">\n",
              "  <thead>\n",
              "    <tr style=\"text-align: right;\">\n",
              "      <th></th>\n",
              "      <th>URL</th>\n",
              "      <th>OBJECTID</th>\n",
              "      <th>NAME</th>\n",
              "      <th>long</th>\n",
              "      <th>lat</th>\n",
              "    </tr>\n",
              "  </thead>\n",
              "  <tbody>\n",
              "    <tr>\n",
              "      <th>0</th>\n",
              "      <td>http://web.mta.info/nyct/service/</td>\n",
              "      <td>1</td>\n",
              "      <td>Astor Pl</td>\n",
              "      <td>-73.99107</td>\n",
              "      <td>40.730054</td>\n",
              "    </tr>\n",
              "  </tbody>\n",
              "</table>\n",
              "</div>"
            ],
            "text/plain": [
              "                                 URL  OBJECTID      NAME      long        lat\n",
              "0  http://web.mta.info/nyct/service/         1  Astor Pl -73.99107  40.730054"
            ]
          },
          "metadata": {
            "tags": []
          },
          "execution_count": 5
        }
      ]
    },
    {
      "cell_type": "code",
      "metadata": {
        "id": "e0W0ucIYXa8V",
        "colab_type": "code",
        "colab": {}
      },
      "source": [
        "airbnb=pd.read_csv('airbnb_merge.csv')"
      ],
      "execution_count": 0,
      "outputs": []
    },
    {
      "cell_type": "code",
      "metadata": {
        "tags": [],
        "id": "jV4h-s55XIXx",
        "colab_type": "code",
        "outputId": "f66c45d4-c631-456f-89cb-119ad9d3b4a8",
        "colab": {
          "base_uri": "https://localhost:8080/",
          "height": 210
        }
      },
      "source": [
        "pip install folium\r\n"
      ],
      "execution_count": 0,
      "outputs": [
        {
          "output_type": "stream",
          "text": [
            "Requirement already satisfied: folium in /usr/local/lib/python3.6/dist-packages (0.8.3)\n",
            "Requirement already satisfied: requests in /usr/local/lib/python3.6/dist-packages (from folium) (2.21.0)\n",
            "Requirement already satisfied: jinja2 in /usr/local/lib/python3.6/dist-packages (from folium) (2.11.1)\n",
            "Requirement already satisfied: branca>=0.3.0 in /usr/local/lib/python3.6/dist-packages (from folium) (0.3.1)\n",
            "Requirement already satisfied: six in /usr/local/lib/python3.6/dist-packages (from folium) (1.12.0)\n",
            "Requirement already satisfied: numpy in /usr/local/lib/python3.6/dist-packages (from folium) (1.17.5)\n",
            "Requirement already satisfied: urllib3<1.25,>=1.21.1 in /usr/local/lib/python3.6/dist-packages (from requests->folium) (1.24.3)\n",
            "Requirement already satisfied: chardet<3.1.0,>=3.0.2 in /usr/local/lib/python3.6/dist-packages (from requests->folium) (3.0.4)\n",
            "Requirement already satisfied: certifi>=2017.4.17 in /usr/local/lib/python3.6/dist-packages (from requests->folium) (2019.11.28)\n",
            "Requirement already satisfied: idna<2.9,>=2.5 in /usr/local/lib/python3.6/dist-packages (from requests->folium) (2.8)\n",
            "Requirement already satisfied: MarkupSafe>=0.23 in /usr/local/lib/python3.6/dist-packages (from jinja2->folium) (1.1.1)\n"
          ],
          "name": "stdout"
        }
      ]
    },
    {
      "cell_type": "code",
      "metadata": {
        "tags": [],
        "id": "n9YPDD-4XIX0",
        "colab_type": "code",
        "outputId": "8e8f9621-13e4-46c3-9744-782de7074d25",
        "colab": {
          "base_uri": "https://localhost:8080/",
          "height": 477
        }
      },
      "source": [
        "!pip install geopandas"
      ],
      "execution_count": 0,
      "outputs": [
        {
          "output_type": "stream",
          "text": [
            "Collecting geopandas\n",
            "\u001b[?25l  Downloading https://files.pythonhosted.org/packages/83/c5/3cf9cdc39a6f2552922f79915f36b45a95b71fd343cfc51170a5b6ddb6e8/geopandas-0.7.0-py2.py3-none-any.whl (928kB)\n",
            "\r\u001b[K     |▍                               | 10kB 24.0MB/s eta 0:00:01\r\u001b[K     |▊                               | 20kB 1.8MB/s eta 0:00:01\r\u001b[K     |█                               | 30kB 2.3MB/s eta 0:00:01\r\u001b[K     |█▍                              | 40kB 1.7MB/s eta 0:00:01\r\u001b[K     |█▊                              | 51kB 1.9MB/s eta 0:00:01\r\u001b[K     |██▏                             | 61kB 2.3MB/s eta 0:00:01\r\u001b[K     |██▌                             | 71kB 2.5MB/s eta 0:00:01\r\u001b[K     |██▉                             | 81kB 2.7MB/s eta 0:00:01\r\u001b[K     |███▏                            | 92kB 3.0MB/s eta 0:00:01\r\u001b[K     |███▌                            | 102kB 2.8MB/s eta 0:00:01\r\u001b[K     |███▉                            | 112kB 2.8MB/s eta 0:00:01\r\u001b[K     |████▎                           | 122kB 2.8MB/s eta 0:00:01\r\u001b[K     |████▋                           | 133kB 2.8MB/s eta 0:00:01\r\u001b[K     |█████                           | 143kB 2.8MB/s eta 0:00:01\r\u001b[K     |█████▎                          | 153kB 2.8MB/s eta 0:00:01\r\u001b[K     |█████▋                          | 163kB 2.8MB/s eta 0:00:01\r\u001b[K     |██████                          | 174kB 2.8MB/s eta 0:00:01\r\u001b[K     |██████▍                         | 184kB 2.8MB/s eta 0:00:01\r\u001b[K     |██████▊                         | 194kB 2.8MB/s eta 0:00:01\r\u001b[K     |███████                         | 204kB 2.8MB/s eta 0:00:01\r\u001b[K     |███████▍                        | 215kB 2.8MB/s eta 0:00:01\r\u001b[K     |███████▊                        | 225kB 2.8MB/s eta 0:00:01\r\u001b[K     |████████▏                       | 235kB 2.8MB/s eta 0:00:01\r\u001b[K     |████████▌                       | 245kB 2.8MB/s eta 0:00:01\r\u001b[K     |████████▉                       | 256kB 2.8MB/s eta 0:00:01\r\u001b[K     |█████████▏                      | 266kB 2.8MB/s eta 0:00:01\r\u001b[K     |█████████▌                      | 276kB 2.8MB/s eta 0:00:01\r\u001b[K     |█████████▉                      | 286kB 2.8MB/s eta 0:00:01\r\u001b[K     |██████████▎                     | 296kB 2.8MB/s eta 0:00:01\r\u001b[K     |██████████▋                     | 307kB 2.8MB/s eta 0:00:01\r\u001b[K     |███████████                     | 317kB 2.8MB/s eta 0:00:01\r\u001b[K     |███████████▎                    | 327kB 2.8MB/s eta 0:00:01\r\u001b[K     |███████████▋                    | 337kB 2.8MB/s eta 0:00:01\r\u001b[K     |████████████                    | 348kB 2.8MB/s eta 0:00:01\r\u001b[K     |████████████▍                   | 358kB 2.8MB/s eta 0:00:01\r\u001b[K     |████████████▊                   | 368kB 2.8MB/s eta 0:00:01\r\u001b[K     |█████████████                   | 378kB 2.8MB/s eta 0:00:01\r\u001b[K     |█████████████▍                  | 389kB 2.8MB/s eta 0:00:01\r\u001b[K     |█████████████▊                  | 399kB 2.8MB/s eta 0:00:01\r\u001b[K     |██████████████▏                 | 409kB 2.8MB/s eta 0:00:01\r\u001b[K     |██████████████▌                 | 419kB 2.8MB/s eta 0:00:01\r\u001b[K     |██████████████▉                 | 430kB 2.8MB/s eta 0:00:01\r\u001b[K     |███████████████▏                | 440kB 2.8MB/s eta 0:00:01\r\u001b[K     |███████████████▌                | 450kB 2.8MB/s eta 0:00:01\r\u001b[K     |███████████████▉                | 460kB 2.8MB/s eta 0:00:01\r\u001b[K     |████████████████▎               | 471kB 2.8MB/s eta 0:00:01\r\u001b[K     |████████████████▋               | 481kB 2.8MB/s eta 0:00:01\r\u001b[K     |█████████████████               | 491kB 2.8MB/s eta 0:00:01\r\u001b[K     |█████████████████▎              | 501kB 2.8MB/s eta 0:00:01\r\u001b[K     |█████████████████▋              | 512kB 2.8MB/s eta 0:00:01\r\u001b[K     |██████████████████              | 522kB 2.8MB/s eta 0:00:01\r\u001b[K     |██████████████████▍             | 532kB 2.8MB/s eta 0:00:01\r\u001b[K     |██████████████████▊             | 542kB 2.8MB/s eta 0:00:01\r\u001b[K     |███████████████████             | 552kB 2.8MB/s eta 0:00:01\r\u001b[K     |███████████████████▍            | 563kB 2.8MB/s eta 0:00:01\r\u001b[K     |███████████████████▊            | 573kB 2.8MB/s eta 0:00:01\r\u001b[K     |████████████████████▏           | 583kB 2.8MB/s eta 0:00:01\r\u001b[K     |████████████████████▌           | 593kB 2.8MB/s eta 0:00:01\r\u001b[K     |████████████████████▉           | 604kB 2.8MB/s eta 0:00:01\r\u001b[K     |█████████████████████▏          | 614kB 2.8MB/s eta 0:00:01\r\u001b[K     |█████████████████████▌          | 624kB 2.8MB/s eta 0:00:01\r\u001b[K     |██████████████████████          | 634kB 2.8MB/s eta 0:00:01\r\u001b[K     |██████████████████████▎         | 645kB 2.8MB/s eta 0:00:01\r\u001b[K     |██████████████████████▋         | 655kB 2.8MB/s eta 0:00:01\r\u001b[K     |███████████████████████         | 665kB 2.8MB/s eta 0:00:01\r\u001b[K     |███████████████████████▎        | 675kB 2.8MB/s eta 0:00:01\r\u001b[K     |███████████████████████▋        | 686kB 2.8MB/s eta 0:00:01\r\u001b[K     |████████████████████████        | 696kB 2.8MB/s eta 0:00:01\r\u001b[K     |████████████████████████▍       | 706kB 2.8MB/s eta 0:00:01\r\u001b[K     |████████████████████████▊       | 716kB 2.8MB/s eta 0:00:01\r\u001b[K     |█████████████████████████       | 727kB 2.8MB/s eta 0:00:01\r\u001b[K     |█████████████████████████▍      | 737kB 2.8MB/s eta 0:00:01\r\u001b[K     |█████████████████████████▊      | 747kB 2.8MB/s eta 0:00:01\r\u001b[K     |██████████████████████████▏     | 757kB 2.8MB/s eta 0:00:01\r\u001b[K     |██████████████████████████▌     | 768kB 2.8MB/s eta 0:00:01\r\u001b[K     |██████████████████████████▉     | 778kB 2.8MB/s eta 0:00:01\r\u001b[K     |███████████████████████████▏    | 788kB 2.8MB/s eta 0:00:01\r\u001b[K     |███████████████████████████▌    | 798kB 2.8MB/s eta 0:00:01\r\u001b[K     |████████████████████████████    | 808kB 2.8MB/s eta 0:00:01\r\u001b[K     |████████████████████████████▎   | 819kB 2.8MB/s eta 0:00:01\r\u001b[K     |████████████████████████████▋   | 829kB 2.8MB/s eta 0:00:01\r\u001b[K     |█████████████████████████████   | 839kB 2.8MB/s eta 0:00:01\r\u001b[K     |█████████████████████████████▎  | 849kB 2.8MB/s eta 0:00:01\r\u001b[K     |█████████████████████████████▋  | 860kB 2.8MB/s eta 0:00:01\r\u001b[K     |██████████████████████████████  | 870kB 2.8MB/s eta 0:00:01\r\u001b[K     |██████████████████████████████▍ | 880kB 2.8MB/s eta 0:00:01\r\u001b[K     |██████████████████████████████▊ | 890kB 2.8MB/s eta 0:00:01\r\u001b[K     |███████████████████████████████ | 901kB 2.8MB/s eta 0:00:01\r\u001b[K     |███████████████████████████████▍| 911kB 2.8MB/s eta 0:00:01\r\u001b[K     |███████████████████████████████▊| 921kB 2.8MB/s eta 0:00:01\r\u001b[K     |████████████████████████████████| 931kB 2.8MB/s \n",
            "\u001b[?25hRequirement already satisfied: pandas>=0.23.0 in /usr/local/lib/python3.6/dist-packages (from geopandas) (0.25.3)\n",
            "Requirement already satisfied: shapely in /usr/local/lib/python3.6/dist-packages (from geopandas) (1.7.0)\n",
            "Collecting pyproj>=2.2.0\n",
            "\u001b[?25l  Downloading https://files.pythonhosted.org/packages/77/15/d93f446d253d26b91553f86cf21049183e9b0f51f8c8e6cb2cff081bcc02/pyproj-2.5.0-cp36-cp36m-manylinux2010_x86_64.whl (10.4MB)\n",
            "\u001b[K     |████████████████████████████████| 10.4MB 6.3MB/s \n",
            "\u001b[?25hCollecting fiona\n",
            "\u001b[?25l  Downloading https://files.pythonhosted.org/packages/ec/20/4e63bc5c6e62df889297b382c3ccd4a7a488b00946aaaf81a118158c6f09/Fiona-1.8.13.post1-cp36-cp36m-manylinux1_x86_64.whl (14.7MB)\n",
            "\u001b[K     |████████████████████████████████| 14.7MB 64.1MB/s \n",
            "\u001b[?25hRequirement already satisfied: pytz>=2017.2 in /usr/local/lib/python3.6/dist-packages (from pandas>=0.23.0->geopandas) (2018.9)\n",
            "Requirement already satisfied: numpy>=1.13.3 in /usr/local/lib/python3.6/dist-packages (from pandas>=0.23.0->geopandas) (1.17.5)\n",
            "Requirement already satisfied: python-dateutil>=2.6.1 in /usr/local/lib/python3.6/dist-packages (from pandas>=0.23.0->geopandas) (2.6.1)\n",
            "Collecting click-plugins>=1.0\n",
            "  Downloading https://files.pythonhosted.org/packages/e9/da/824b92d9942f4e472702488857914bdd50f73021efea15b4cad9aca8ecef/click_plugins-1.1.1-py2.py3-none-any.whl\n",
            "Requirement already satisfied: attrs>=17 in /usr/local/lib/python3.6/dist-packages (from fiona->geopandas) (19.3.0)\n",
            "Collecting cligj>=0.5\n",
            "  Downloading https://files.pythonhosted.org/packages/e4/be/30a58b4b0733850280d01f8bd132591b4668ed5c7046761098d665ac2174/cligj-0.5.0-py3-none-any.whl\n",
            "Requirement already satisfied: click<8,>=4.0 in /usr/local/lib/python3.6/dist-packages (from fiona->geopandas) (7.0)\n",
            "Collecting munch\n",
            "  Downloading https://files.pythonhosted.org/packages/cc/ab/85d8da5c9a45e072301beb37ad7f833cd344e04c817d97e0cc75681d248f/munch-2.5.0-py2.py3-none-any.whl\n",
            "Requirement already satisfied: six>=1.7 in /usr/local/lib/python3.6/dist-packages (from fiona->geopandas) (1.12.0)\n",
            "Installing collected packages: pyproj, click-plugins, cligj, munch, fiona, geopandas\n",
            "Successfully installed click-plugins-1.1.1 cligj-0.5.0 fiona-1.8.13.post1 geopandas-0.7.0 munch-2.5.0 pyproj-2.5.0\n"
          ],
          "name": "stdout"
        }
      ]
    },
    {
      "cell_type": "code",
      "metadata": {
        "tags": [],
        "id": "0rgmzrtwXIX3",
        "colab_type": "code",
        "colab": {}
      },
      "source": [
        "import pandas as pd\r\n",
        "import geopandas as gpd \r\n",
        "import matplotlib.pyplot as plt"
      ],
      "execution_count": 0,
      "outputs": []
    },
    {
      "cell_type": "code",
      "metadata": {
        "tags": [],
        "id": "Cq5tu8moXIX6",
        "colab_type": "code",
        "outputId": "b9ce642c-05ff-40a9-f2e9-9672fa6f9ffd",
        "colab": {
          "base_uri": "https://localhost:8080/",
          "height": 34
        }
      },
      "source": [
        "\n",
        "!pip install shapely"
      ],
      "execution_count": 0,
      "outputs": [
        {
          "output_type": "stream",
          "text": [
            "Requirement already satisfied: shapely in /usr/local/lib/python3.6/dist-packages (1.7.0)\n"
          ],
          "name": "stdout"
        }
      ]
    },
    {
      "cell_type": "code",
      "metadata": {
        "tags": [],
        "id": "ct_ks_0JXIX8",
        "colab_type": "code",
        "colab": {}
      },
      "source": [
        "import folium \r\n",
        "from shapely.ops import nearest_points\r\n",
        "from shapely.geometry import LineString"
      ],
      "execution_count": 0,
      "outputs": []
    },
    {
      "cell_type": "code",
      "metadata": {
        "tags": [],
        "id": "RpHdqII6XIX_",
        "colab_type": "code",
        "colab": {}
      },
      "source": [
        "def create_gdf(df, x=\"long\", y=\"lat\"):\r\n",
        "    return gpd.GeoDataFrame(df, geometry=gpd.points_from_xy(df[x], df[y]), crs={\"init\":\"epsg:4326\"})"
      ],
      "execution_count": 0,
      "outputs": []
    },
    {
      "cell_type": "code",
      "metadata": {
        "id": "-EgMq5OlaBKR",
        "colab_type": "code",
        "colab": {}
      },
      "source": [
        "def create_gd(df, x=\"longitude\", y=\"latitude\"):\n",
        "    return gpd.GeoDataFrame(df, geometry=gpd.points_from_xy(df[x], df[y]), crs={\"init\":\"epsg:4326\"})"
      ],
      "execution_count": 0,
      "outputs": []
    },
    {
      "cell_type": "code",
      "metadata": {
        "tags": [],
        "id": "hmHwuHm9XIYB",
        "colab_type": "code",
        "outputId": "1a75cf97-6ddb-4f13-c65b-bd4dd1cda8d0",
        "colab": {
          "base_uri": "https://localhost:8080/",
          "height": 72
        }
      },
      "source": [
        "stations_gdf = create_gdf(stations)"
      ],
      "execution_count": 0,
      "outputs": [
        {
          "output_type": "stream",
          "text": [
            "/usr/local/lib/python3.6/dist-packages/pyproj/crs/crs.py:55: FutureWarning: '+init=<authority>:<code>' syntax is deprecated. '<authority>:<code>' is the preferred initialization method. When making the change, be mindful of axis order changes: https://pyproj4.github.io/pyproj/stable/gotchas.html#axis-order-changes-in-proj-6\n",
            "  return _prepare_from_string(\" \".join(pjargs))\n"
          ],
          "name": "stderr"
        }
      ]
    },
    {
      "cell_type": "code",
      "metadata": {
        "id": "y6Gx0FNrZ5Is",
        "colab_type": "code",
        "outputId": "cf46283f-9750-440a-b7d2-55155a2d8440",
        "colab": {
          "base_uri": "https://localhost:8080/",
          "height": 72
        }
      },
      "source": [
        "airbnb_gdf = create_gd(airbnb)"
      ],
      "execution_count": 0,
      "outputs": [
        {
          "output_type": "stream",
          "text": [
            "/usr/local/lib/python3.6/dist-packages/pyproj/crs/crs.py:55: FutureWarning: '+init=<authority>:<code>' syntax is deprecated. '<authority>:<code>' is the preferred initialization method. When making the change, be mindful of axis order changes: https://pyproj4.github.io/pyproj/stable/gotchas.html#axis-order-changes-in-proj-6\n",
            "  return _prepare_from_string(\" \".join(pjargs))\n"
          ],
          "name": "stderr"
        }
      ]
    },
    {
      "cell_type": "code",
      "metadata": {
        "id": "uwxX2w0kZsH-",
        "colab_type": "code",
        "outputId": "1ad526bd-4621-45fa-d164-46ba1352d35c",
        "colab": {
          "base_uri": "https://localhost:8080/",
          "height": 402
        }
      },
      "source": [
        "stations_gdf"
      ],
      "execution_count": 0,
      "outputs": [
        {
          "output_type": "execute_result",
          "data": {
            "text/html": [
              "<div>\n",
              "<style scoped>\n",
              "    .dataframe tbody tr th:only-of-type {\n",
              "        vertical-align: middle;\n",
              "    }\n",
              "\n",
              "    .dataframe tbody tr th {\n",
              "        vertical-align: top;\n",
              "    }\n",
              "\n",
              "    .dataframe thead th {\n",
              "        text-align: right;\n",
              "    }\n",
              "</style>\n",
              "<table border=\"1\" class=\"dataframe\">\n",
              "  <thead>\n",
              "    <tr style=\"text-align: right;\">\n",
              "      <th></th>\n",
              "      <th>URL</th>\n",
              "      <th>OBJECTID</th>\n",
              "      <th>NAME</th>\n",
              "      <th>long</th>\n",
              "      <th>lat</th>\n",
              "      <th>geometry</th>\n",
              "    </tr>\n",
              "  </thead>\n",
              "  <tbody>\n",
              "    <tr>\n",
              "      <th>0</th>\n",
              "      <td>http://web.mta.info/nyct/service/</td>\n",
              "      <td>1</td>\n",
              "      <td>Astor Pl</td>\n",
              "      <td>-73.991070</td>\n",
              "      <td>40.730054</td>\n",
              "      <td>POINT (-73.99107 40.73005)</td>\n",
              "    </tr>\n",
              "    <tr>\n",
              "      <th>1</th>\n",
              "      <td>http://web.mta.info/nyct/service/</td>\n",
              "      <td>2</td>\n",
              "      <td>Canal St</td>\n",
              "      <td>-74.000193</td>\n",
              "      <td>40.718803</td>\n",
              "      <td>POINT (-74.00019 40.71880)</td>\n",
              "    </tr>\n",
              "    <tr>\n",
              "      <th>2</th>\n",
              "      <td>http://web.mta.info/nyct/service/</td>\n",
              "      <td>3</td>\n",
              "      <td>50th St</td>\n",
              "      <td>-73.983849</td>\n",
              "      <td>40.761728</td>\n",
              "      <td>POINT (-73.98385 40.76173)</td>\n",
              "    </tr>\n",
              "    <tr>\n",
              "      <th>3</th>\n",
              "      <td>http://web.mta.info/nyct/service/</td>\n",
              "      <td>4</td>\n",
              "      <td>Bergen St</td>\n",
              "      <td>-73.974999</td>\n",
              "      <td>40.680862</td>\n",
              "      <td>POINT (-73.97500 40.68086)</td>\n",
              "    </tr>\n",
              "    <tr>\n",
              "      <th>4</th>\n",
              "      <td>http://web.mta.info/nyct/service/</td>\n",
              "      <td>5</td>\n",
              "      <td>Pennsylvania Ave</td>\n",
              "      <td>-73.894886</td>\n",
              "      <td>40.664714</td>\n",
              "      <td>POINT (-73.89489 40.66471)</td>\n",
              "    </tr>\n",
              "    <tr>\n",
              "      <th>...</th>\n",
              "      <td>...</td>\n",
              "      <td>...</td>\n",
              "      <td>...</td>\n",
              "      <td>...</td>\n",
              "      <td>...</td>\n",
              "      <td>...</td>\n",
              "    </tr>\n",
              "    <tr>\n",
              "      <th>468</th>\n",
              "      <td>http://web.mta.info/nyct/service/</td>\n",
              "      <td>469</td>\n",
              "      <td>Coney Island - Stillwell Av</td>\n",
              "      <td>-73.981236</td>\n",
              "      <td>40.577281</td>\n",
              "      <td>POINT (-73.98124 40.57728)</td>\n",
              "    </tr>\n",
              "    <tr>\n",
              "      <th>469</th>\n",
              "      <td>http://web.mta.info/nyct/service/</td>\n",
              "      <td>470</td>\n",
              "      <td>34th St - Hudson Yards</td>\n",
              "      <td>-74.002197</td>\n",
              "      <td>40.755446</td>\n",
              "      <td>POINT (-74.00220 40.75545)</td>\n",
              "    </tr>\n",
              "    <tr>\n",
              "      <th>470</th>\n",
              "      <td>http://web.mta.info/nyct/service/</td>\n",
              "      <td>641</td>\n",
              "      <td>72nd St</td>\n",
              "      <td>-73.958362</td>\n",
              "      <td>40.768803</td>\n",
              "      <td>POINT (-73.95836 40.76880)</td>\n",
              "    </tr>\n",
              "    <tr>\n",
              "      <th>471</th>\n",
              "      <td>http://web.mta.info/nyct/service/</td>\n",
              "      <td>642</td>\n",
              "      <td>86th St</td>\n",
              "      <td>-73.951771</td>\n",
              "      <td>40.777861</td>\n",
              "      <td>POINT (-73.95177 40.77786)</td>\n",
              "    </tr>\n",
              "    <tr>\n",
              "      <th>472</th>\n",
              "      <td>http://web.mta.info/nyct/service/</td>\n",
              "      <td>643</td>\n",
              "      <td>96th St</td>\n",
              "      <td>-73.947066</td>\n",
              "      <td>40.784237</td>\n",
              "      <td>POINT (-73.94707 40.78424)</td>\n",
              "    </tr>\n",
              "  </tbody>\n",
              "</table>\n",
              "<p>473 rows × 6 columns</p>\n",
              "</div>"
            ],
            "text/plain": [
              "                                   URL  ...                    geometry\n",
              "0    http://web.mta.info/nyct/service/  ...  POINT (-73.99107 40.73005)\n",
              "1    http://web.mta.info/nyct/service/  ...  POINT (-74.00019 40.71880)\n",
              "2    http://web.mta.info/nyct/service/  ...  POINT (-73.98385 40.76173)\n",
              "3    http://web.mta.info/nyct/service/  ...  POINT (-73.97500 40.68086)\n",
              "4    http://web.mta.info/nyct/service/  ...  POINT (-73.89489 40.66471)\n",
              "..                                 ...  ...                         ...\n",
              "468  http://web.mta.info/nyct/service/  ...  POINT (-73.98124 40.57728)\n",
              "469  http://web.mta.info/nyct/service/  ...  POINT (-74.00220 40.75545)\n",
              "470  http://web.mta.info/nyct/service/  ...  POINT (-73.95836 40.76880)\n",
              "471  http://web.mta.info/nyct/service/  ...  POINT (-73.95177 40.77786)\n",
              "472  http://web.mta.info/nyct/service/  ...  POINT (-73.94707 40.78424)\n",
              "\n",
              "[473 rows x 6 columns]"
            ]
          },
          "metadata": {
            "tags": []
          },
          "execution_count": 17
        }
      ]
    },
    {
      "cell_type": "code",
      "metadata": {
        "tags": [],
        "id": "eb4LMg0QXIYD",
        "colab_type": "code",
        "colab": {}
      },
      "source": [
        "m = folium.Map([40.7128,-74.0060], tiles='CartoDb dark_matter')\r\n",
        "locs_stations = zip(stations_gdf.lat, stations_gdf.long)\r\n",
        "locs_points = zip(airbnb_gdf.latitude, airbnb_gdf.longitude)\r\n",
        "for location in locs_stations:\r\n",
        "    folium.CircleMarker(location=location, \r\n",
        "        color='red',   radius=4).add_to(m)\r\n",
        "for location in locs_points:\r\n",
        "    folium.CircleMarker(location=location, \r\n",
        "        color='white', radius=2).add_to(m)\r\n",
        "m"
      ],
      "execution_count": 0,
      "outputs": []
    },
    {
      "cell_type": "code",
      "metadata": {
        "tags": [],
        "id": "tv86xRyoXIYG",
        "colab_type": "code",
        "colab": {}
      },
      "source": [
        "def calculate_nearest(row, destination, val, col=\"geometry\"):\n",
        "    dest_unary = destination[\"geometry\"].unary_union\n",
        "    nearest_geom = nearest_points(row[col], dest_unary)\n",
        "    match_geom = destination.loc[destination.geometry == nearest_geom[1]]\n",
        "    match_value = match_geom[val].to_numpy()[0]\n",
        "    return match_value"
      ],
      "execution_count": 0,
      "outputs": []
    },
    {
      "cell_type": "code",
      "metadata": {
        "id": "wPvbtupUajQb",
        "colab_type": "code",
        "colab": {}
      },
      "source": [
        "airbnb_gdf[\"nearest_geom\"] = airbnb_gdf.apply(calculate_nearest, destination=stations_gdf, val=\"geometry\", axis=1)"
      ],
      "execution_count": 0,
      "outputs": []
    },
    {
      "cell_type": "code",
      "metadata": {
        "id": "Ps-7Kw5Xauae",
        "colab_type": "code",
        "outputId": "ae24da4c-3b86-4602-a2e1-27f9481c202c",
        "colab": {
          "base_uri": "https://localhost:8080/",
          "height": 244
        }
      },
      "source": [
        "airbnb_gdf.head(2)"
      ],
      "execution_count": 0,
      "outputs": [
        {
          "output_type": "execute_result",
          "data": {
            "text/html": [
              "<div>\n",
              "<style scoped>\n",
              "    .dataframe tbody tr th:only-of-type {\n",
              "        vertical-align: middle;\n",
              "    }\n",
              "\n",
              "    .dataframe tbody tr th {\n",
              "        vertical-align: top;\n",
              "    }\n",
              "\n",
              "    .dataframe thead th {\n",
              "        text-align: right;\n",
              "    }\n",
              "</style>\n",
              "<table border=\"1\" class=\"dataframe\">\n",
              "  <thead>\n",
              "    <tr style=\"text-align: right;\">\n",
              "      <th></th>\n",
              "      <th>Unnamed: 0</th>\n",
              "      <th>id_airbnb</th>\n",
              "      <th>host_id</th>\n",
              "      <th>borough</th>\n",
              "      <th>neighbourhood_group</th>\n",
              "      <th>latitude</th>\n",
              "      <th>longitude</th>\n",
              "      <th>room_type</th>\n",
              "      <th>price</th>\n",
              "      <th>minimum_nights</th>\n",
              "      <th>number_of_reviews</th>\n",
              "      <th>reviews_per_month</th>\n",
              "      <th>calculated_host_listings_count</th>\n",
              "      <th>availability_365</th>\n",
              "      <th>description</th>\n",
              "      <th>accommodates</th>\n",
              "      <th>zipcode</th>\n",
              "      <th>neighborhood</th>\n",
              "      <th>total_yelp_1</th>\n",
              "      <th>yelp_total_reviews_1</th>\n",
              "      <th>yelp_avg_rating_1</th>\n",
              "      <th>total_yelp_5</th>\n",
              "      <th>yelp_total_reviews_5</th>\n",
              "      <th>yelp_avg_rating_5</th>\n",
              "      <th>geometry</th>\n",
              "      <th>nearest_geom</th>\n",
              "    </tr>\n",
              "  </thead>\n",
              "  <tbody>\n",
              "    <tr>\n",
              "      <th>0</th>\n",
              "      <td>0</td>\n",
              "      <td>2595</td>\n",
              "      <td>2845</td>\n",
              "      <td>Manhattan</td>\n",
              "      <td>Midtown</td>\n",
              "      <td>40.75362</td>\n",
              "      <td>-73.98377</td>\n",
              "      <td>Entire home/apt</td>\n",
              "      <td>225</td>\n",
              "      <td>10</td>\n",
              "      <td>48</td>\n",
              "      <td>0.39</td>\n",
              "      <td>1</td>\n",
              "      <td>1</td>\n",
              "      <td>Beautiful, spacious skylit studio in the heart...</td>\n",
              "      <td>1</td>\n",
              "      <td>10018</td>\n",
              "      <td>Chelsea and Clinton</td>\n",
              "      <td>5.0</td>\n",
              "      <td>974.0</td>\n",
              "      <td>4.0</td>\n",
              "      <td>99.0</td>\n",
              "      <td>48723.0</td>\n",
              "      <td>4.045455</td>\n",
              "      <td>POINT (-73.98377 40.75362)</td>\n",
              "      <td>POINT (-73.98459100000001 40.754184)</td>\n",
              "    </tr>\n",
              "    <tr>\n",
              "      <th>1</th>\n",
              "      <td>1</td>\n",
              "      <td>3831</td>\n",
              "      <td>4869</td>\n",
              "      <td>Brooklyn</td>\n",
              "      <td>Clinton Hill</td>\n",
              "      <td>40.68514</td>\n",
              "      <td>-73.95976</td>\n",
              "      <td>Entire home/apt</td>\n",
              "      <td>89</td>\n",
              "      <td>1</td>\n",
              "      <td>295</td>\n",
              "      <td>4.67</td>\n",
              "      <td>1</td>\n",
              "      <td>1</td>\n",
              "      <td>Urban retreat: enjoy 500 s.f. floor in 1899 br...</td>\n",
              "      <td>3</td>\n",
              "      <td>11238</td>\n",
              "      <td>Central Brooklyn</td>\n",
              "      <td>NaN</td>\n",
              "      <td>NaN</td>\n",
              "      <td>NaN</td>\n",
              "      <td>39.0</td>\n",
              "      <td>4876.0</td>\n",
              "      <td>4.230769</td>\n",
              "      <td>POINT (-73.95976 40.68514)</td>\n",
              "      <td>POINT (-73.95999 40.688889)</td>\n",
              "    </tr>\n",
              "  </tbody>\n",
              "</table>\n",
              "</div>"
            ],
            "text/plain": [
              "   Unnamed: 0  ...                          nearest_geom\n",
              "0           0  ...  POINT (-73.98459100000001 40.754184)\n",
              "1           1  ...           POINT (-73.95999 40.688889)\n",
              "\n",
              "[2 rows x 26 columns]"
            ]
          },
          "metadata": {
            "tags": []
          },
          "execution_count": 20
        }
      ]
    },
    {
      "cell_type": "code",
      "metadata": {
        "id": "VQjq8bPMfK67",
        "colab_type": "code",
        "colab": {}
      },
      "source": [
        "airbnb_gdf[\"nearest_station\"] = airbnb_gdf.apply(calculate_nearest, destination=stations_gdf, val=\"NAME\", axis=1)"
      ],
      "execution_count": 0,
      "outputs": []
    },
    {
      "cell_type": "code",
      "metadata": {
        "id": "s45-h99wgTRQ",
        "colab_type": "code",
        "outputId": "2938f73f-edd8-4825-9630-74bdb466cb06",
        "colab": {
          "base_uri": "https://localhost:8080/",
          "height": 244
        }
      },
      "source": [
        "airbnb_gdf.head(2)"
      ],
      "execution_count": 0,
      "outputs": [
        {
          "output_type": "execute_result",
          "data": {
            "text/html": [
              "<div>\n",
              "<style scoped>\n",
              "    .dataframe tbody tr th:only-of-type {\n",
              "        vertical-align: middle;\n",
              "    }\n",
              "\n",
              "    .dataframe tbody tr th {\n",
              "        vertical-align: top;\n",
              "    }\n",
              "\n",
              "    .dataframe thead th {\n",
              "        text-align: right;\n",
              "    }\n",
              "</style>\n",
              "<table border=\"1\" class=\"dataframe\">\n",
              "  <thead>\n",
              "    <tr style=\"text-align: right;\">\n",
              "      <th></th>\n",
              "      <th>Unnamed: 0</th>\n",
              "      <th>id_airbnb</th>\n",
              "      <th>host_id</th>\n",
              "      <th>borough</th>\n",
              "      <th>neighbourhood_group</th>\n",
              "      <th>latitude</th>\n",
              "      <th>longitude</th>\n",
              "      <th>room_type</th>\n",
              "      <th>price</th>\n",
              "      <th>minimum_nights</th>\n",
              "      <th>number_of_reviews</th>\n",
              "      <th>reviews_per_month</th>\n",
              "      <th>calculated_host_listings_count</th>\n",
              "      <th>availability_365</th>\n",
              "      <th>description</th>\n",
              "      <th>accommodates</th>\n",
              "      <th>zipcode</th>\n",
              "      <th>neighborhood</th>\n",
              "      <th>total_yelp_1</th>\n",
              "      <th>yelp_total_reviews_1</th>\n",
              "      <th>yelp_avg_rating_1</th>\n",
              "      <th>total_yelp_5</th>\n",
              "      <th>yelp_total_reviews_5</th>\n",
              "      <th>yelp_avg_rating_5</th>\n",
              "      <th>geometry</th>\n",
              "      <th>nearest_geom</th>\n",
              "      <th>nearest_station</th>\n",
              "      <th>lat</th>\n",
              "      <th>lon</th>\n",
              "    </tr>\n",
              "  </thead>\n",
              "  <tbody>\n",
              "    <tr>\n",
              "      <th>0</th>\n",
              "      <td>0</td>\n",
              "      <td>2595</td>\n",
              "      <td>2845</td>\n",
              "      <td>Manhattan</td>\n",
              "      <td>Midtown</td>\n",
              "      <td>40.75362</td>\n",
              "      <td>-73.98377</td>\n",
              "      <td>Entire home/apt</td>\n",
              "      <td>225</td>\n",
              "      <td>10</td>\n",
              "      <td>48</td>\n",
              "      <td>0.39</td>\n",
              "      <td>1</td>\n",
              "      <td>1</td>\n",
              "      <td>Beautiful, spacious skylit studio in the heart...</td>\n",
              "      <td>1</td>\n",
              "      <td>10018</td>\n",
              "      <td>Chelsea and Clinton</td>\n",
              "      <td>5.0</td>\n",
              "      <td>974.0</td>\n",
              "      <td>4.0</td>\n",
              "      <td>99.0</td>\n",
              "      <td>48723.0</td>\n",
              "      <td>4.045455</td>\n",
              "      <td>POINT (-73.98377 40.75362)</td>\n",
              "      <td>POINT (-73.98459100000001 40.754184)</td>\n",
              "      <td>42nd St - Bryant Pk</td>\n",
              "      <td>40.754184</td>\n",
              "      <td>-73.984591</td>\n",
              "    </tr>\n",
              "    <tr>\n",
              "      <th>1</th>\n",
              "      <td>1</td>\n",
              "      <td>3831</td>\n",
              "      <td>4869</td>\n",
              "      <td>Brooklyn</td>\n",
              "      <td>Clinton Hill</td>\n",
              "      <td>40.68514</td>\n",
              "      <td>-73.95976</td>\n",
              "      <td>Entire home/apt</td>\n",
              "      <td>89</td>\n",
              "      <td>1</td>\n",
              "      <td>295</td>\n",
              "      <td>4.67</td>\n",
              "      <td>1</td>\n",
              "      <td>1</td>\n",
              "      <td>Urban retreat: enjoy 500 s.f. floor in 1899 br...</td>\n",
              "      <td>3</td>\n",
              "      <td>11238</td>\n",
              "      <td>Central Brooklyn</td>\n",
              "      <td>NaN</td>\n",
              "      <td>NaN</td>\n",
              "      <td>NaN</td>\n",
              "      <td>39.0</td>\n",
              "      <td>4876.0</td>\n",
              "      <td>4.230769</td>\n",
              "      <td>POINT (-73.95976 40.68514)</td>\n",
              "      <td>POINT (-73.95999 40.688889)</td>\n",
              "      <td>Classon Ave</td>\n",
              "      <td>40.688889</td>\n",
              "      <td>-73.959990</td>\n",
              "    </tr>\n",
              "  </tbody>\n",
              "</table>\n",
              "</div>"
            ],
            "text/plain": [
              "   Unnamed: 0  id_airbnb  host_id  ...      nearest_station        lat        lon\n",
              "0           0       2595     2845  ...  42nd St - Bryant Pk  40.754184 -73.984591\n",
              "1           1       3831     4869  ...          Classon Ave  40.688889 -73.959990\n",
              "\n",
              "[2 rows x 29 columns]"
            ]
          },
          "metadata": {
            "tags": []
          },
          "execution_count": 33
        }
      ]
    },
    {
      "cell_type": "code",
      "metadata": {
        "id": "Vjjhc1oNhzu1",
        "colab_type": "code",
        "colab": {}
      },
      "source": [
        "airbnb_gdf['lat']=airbnb_gdf.nearest_geom.apply(lambda p: p.y)"
      ],
      "execution_count": 0,
      "outputs": []
    },
    {
      "cell_type": "code",
      "metadata": {
        "id": "Wr2_00uCmHcN",
        "colab_type": "code",
        "colab": {}
      },
      "source": [
        "airbnb_gdf['lon']=airbnb_gdf.nearest_geom.apply(lambda p: p.x)"
      ],
      "execution_count": 0,
      "outputs": []
    },
    {
      "cell_type": "code",
      "metadata": {
        "id": "tpNSFW6RmTNH",
        "colab_type": "code",
        "colab": {}
      },
      "source": [
        "from math import sin, cos, sqrt, atan2, radians\n",
        "\n",
        "def compute_distance(lat1, lon1, lat2, lon2):\n",
        "\n",
        "    # approximate radius of earth in km\n",
        "    R = 6373.0\n",
        "\n",
        "    lat1 = radians(lat1)\n",
        "    lon1 = radians(lon1)\n",
        "    lat2 = radians(lat2)\n",
        "    lon2 = radians(lon2)\n",
        "\n",
        "    dlon = lon2 - lon1\n",
        "    dlat = lat2 - lat1\n",
        "\n",
        "    a = sin(dlat / 2)**2 + cos(lat1) * cos(lat2) * sin(dlon / 2)**2\n",
        "    c = 2 * atan2(sqrt(a), sqrt(1 - a))\n",
        "\n",
        "    distance = R * c\n",
        "    \n",
        "    return distance"
      ],
      "execution_count": 0,
      "outputs": []
    },
    {
      "cell_type": "code",
      "metadata": {
        "id": "G06-71W1mT04",
        "colab_type": "code",
        "colab": {}
      },
      "source": [
        "airbnb_gdf['distance_to_station'] = list(map(compute_distance, airbnb_gdf['latitude'], \n",
        "                            airbnb_gdf['longitude'], airbnb_gdf['lat'],\n",
        "                           airbnb_gdf['lon']))"
      ],
      "execution_count": 0,
      "outputs": []
    },
    {
      "cell_type": "code",
      "metadata": {
        "id": "4R_1cBUVm1qG",
        "colab_type": "code",
        "outputId": "62cc7dbd-17e6-4e42-db78-2b38c265cbae",
        "colab": {
          "base_uri": "https://localhost:8080/",
          "height": 341
        }
      },
      "source": [
        "airbnb_gdf.head(3)"
      ],
      "execution_count": 0,
      "outputs": [
        {
          "output_type": "execute_result",
          "data": {
            "text/html": [
              "<div>\n",
              "<style scoped>\n",
              "    .dataframe tbody tr th:only-of-type {\n",
              "        vertical-align: middle;\n",
              "    }\n",
              "\n",
              "    .dataframe tbody tr th {\n",
              "        vertical-align: top;\n",
              "    }\n",
              "\n",
              "    .dataframe thead th {\n",
              "        text-align: right;\n",
              "    }\n",
              "</style>\n",
              "<table border=\"1\" class=\"dataframe\">\n",
              "  <thead>\n",
              "    <tr style=\"text-align: right;\">\n",
              "      <th></th>\n",
              "      <th>Unnamed: 0</th>\n",
              "      <th>id_airbnb</th>\n",
              "      <th>host_id</th>\n",
              "      <th>borough</th>\n",
              "      <th>neighbourhood_group</th>\n",
              "      <th>latitude</th>\n",
              "      <th>longitude</th>\n",
              "      <th>room_type</th>\n",
              "      <th>price</th>\n",
              "      <th>minimum_nights</th>\n",
              "      <th>number_of_reviews</th>\n",
              "      <th>reviews_per_month</th>\n",
              "      <th>calculated_host_listings_count</th>\n",
              "      <th>availability_365</th>\n",
              "      <th>description</th>\n",
              "      <th>accommodates</th>\n",
              "      <th>zipcode</th>\n",
              "      <th>neighborhood</th>\n",
              "      <th>total_yelp_1</th>\n",
              "      <th>yelp_total_reviews_1</th>\n",
              "      <th>yelp_avg_rating_1</th>\n",
              "      <th>total_yelp_5</th>\n",
              "      <th>yelp_total_reviews_5</th>\n",
              "      <th>yelp_avg_rating_5</th>\n",
              "      <th>geometry</th>\n",
              "      <th>nearest_geom</th>\n",
              "      <th>nearest_station</th>\n",
              "      <th>lat</th>\n",
              "      <th>lon</th>\n",
              "      <th>distance_to_station</th>\n",
              "    </tr>\n",
              "  </thead>\n",
              "  <tbody>\n",
              "    <tr>\n",
              "      <th>0</th>\n",
              "      <td>0</td>\n",
              "      <td>2595</td>\n",
              "      <td>2845</td>\n",
              "      <td>Manhattan</td>\n",
              "      <td>Midtown</td>\n",
              "      <td>40.75362</td>\n",
              "      <td>-73.98377</td>\n",
              "      <td>Entire home/apt</td>\n",
              "      <td>225</td>\n",
              "      <td>10</td>\n",
              "      <td>48</td>\n",
              "      <td>0.39</td>\n",
              "      <td>1</td>\n",
              "      <td>1</td>\n",
              "      <td>Beautiful, spacious skylit studio in the heart...</td>\n",
              "      <td>1</td>\n",
              "      <td>10018</td>\n",
              "      <td>Chelsea and Clinton</td>\n",
              "      <td>5.0</td>\n",
              "      <td>974.0</td>\n",
              "      <td>4.0</td>\n",
              "      <td>99.0</td>\n",
              "      <td>48723.0</td>\n",
              "      <td>4.045455</td>\n",
              "      <td>POINT (-73.98377 40.75362)</td>\n",
              "      <td>POINT (-73.98459100000001 40.754184)</td>\n",
              "      <td>42nd St - Bryant Pk</td>\n",
              "      <td>40.754184</td>\n",
              "      <td>-73.984591</td>\n",
              "      <td>0.093386</td>\n",
              "    </tr>\n",
              "    <tr>\n",
              "      <th>1</th>\n",
              "      <td>1</td>\n",
              "      <td>3831</td>\n",
              "      <td>4869</td>\n",
              "      <td>Brooklyn</td>\n",
              "      <td>Clinton Hill</td>\n",
              "      <td>40.68514</td>\n",
              "      <td>-73.95976</td>\n",
              "      <td>Entire home/apt</td>\n",
              "      <td>89</td>\n",
              "      <td>1</td>\n",
              "      <td>295</td>\n",
              "      <td>4.67</td>\n",
              "      <td>1</td>\n",
              "      <td>1</td>\n",
              "      <td>Urban retreat: enjoy 500 s.f. floor in 1899 br...</td>\n",
              "      <td>3</td>\n",
              "      <td>11238</td>\n",
              "      <td>Central Brooklyn</td>\n",
              "      <td>NaN</td>\n",
              "      <td>NaN</td>\n",
              "      <td>NaN</td>\n",
              "      <td>39.0</td>\n",
              "      <td>4876.0</td>\n",
              "      <td>4.230769</td>\n",
              "      <td>POINT (-73.95976 40.68514)</td>\n",
              "      <td>POINT (-73.95999 40.688889)</td>\n",
              "      <td>Classon Ave</td>\n",
              "      <td>40.688889</td>\n",
              "      <td>-73.959990</td>\n",
              "      <td>0.417452</td>\n",
              "    </tr>\n",
              "    <tr>\n",
              "      <th>2</th>\n",
              "      <td>2</td>\n",
              "      <td>5099</td>\n",
              "      <td>7322</td>\n",
              "      <td>Manhattan</td>\n",
              "      <td>Murray Hill</td>\n",
              "      <td>40.74767</td>\n",
              "      <td>-73.97500</td>\n",
              "      <td>Entire home/apt</td>\n",
              "      <td>200</td>\n",
              "      <td>3</td>\n",
              "      <td>78</td>\n",
              "      <td>0.60</td>\n",
              "      <td>1</td>\n",
              "      <td>19</td>\n",
              "      <td>My large 1 bedroom apartment has a true New Yo...</td>\n",
              "      <td>2</td>\n",
              "      <td>10016</td>\n",
              "      <td>Gramercy Park and Murray Hill</td>\n",
              "      <td>1.0</td>\n",
              "      <td>759.0</td>\n",
              "      <td>4.5</td>\n",
              "      <td>48.0</td>\n",
              "      <td>18016.0</td>\n",
              "      <td>4.156250</td>\n",
              "      <td>POINT (-73.97500 40.74767)</td>\n",
              "      <td>POINT (-73.97604100000001 40.751431)</td>\n",
              "      <td>Grand Central - 42nd St</td>\n",
              "      <td>40.751431</td>\n",
              "      <td>-73.976041</td>\n",
              "      <td>0.427433</td>\n",
              "    </tr>\n",
              "  </tbody>\n",
              "</table>\n",
              "</div>"
            ],
            "text/plain": [
              "   Unnamed: 0  id_airbnb  host_id  ...        lat        lon  distance_to_station\n",
              "0           0       2595     2845  ...  40.754184 -73.984591             0.093386\n",
              "1           1       3831     4869  ...  40.688889 -73.959990             0.417452\n",
              "2           2       5099     7322  ...  40.751431 -73.976041             0.427433\n",
              "\n",
              "[3 rows x 30 columns]"
            ]
          },
          "metadata": {
            "tags": []
          },
          "execution_count": 38
        }
      ]
    },
    {
      "cell_type": "code",
      "metadata": {
        "id": "Eailg6unom-9",
        "colab_type": "code",
        "colab": {}
      },
      "source": [
        "airbnb_gdf.drop(['geometry','nearest_geom'], axis=1,inplace=True)"
      ],
      "execution_count": 0,
      "outputs": []
    },
    {
      "cell_type": "code",
      "metadata": {
        "id": "GThSF6WZqsJL",
        "colab_type": "code",
        "colab": {}
      },
      "source": [
        "airbnb_gdf.to_csv('airbnb_w_station.csv')"
      ],
      "execution_count": 0,
      "outputs": []
    },
    {
      "cell_type": "code",
      "metadata": {
        "id": "dfd21jGanLW-",
        "colab_type": "code",
        "colab": {}
      },
      "source": [
        ""
      ],
      "execution_count": 0,
      "outputs": []
    }
  ]
}