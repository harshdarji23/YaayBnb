{
 "cells": [
  {
   "cell_type": "code",
   "execution_count": 156,
   "metadata": {},
   "outputs": [],
   "source": [
    "# package imports\n",
    "#basics\n",
    "import numpy as np\n",
    "import pandas as pd\n",
    "\n",
    "#viz\n",
    "import matplotlib.pyplot as plt\n",
    "import seaborn as sns \n",
    "import matplotlib.gridspec as gridspec \n",
    "import matplotlib.gridspec as gridspec \n",
    "\n",
    "\n",
    "#settings\n",
    "\n",
    "color = sns.color_palette()\n",
    "sns.set_style(\"dark\")\n",
    "pd.set_option('display.max_columns', None)\n",
    "\n",
    "%matplotlib inline"
   ]
  },
  {
   "cell_type": "code",
   "execution_count": 157,
   "metadata": {},
   "outputs": [],
   "source": [
    "yelp=pd.read_csv('final_yelp.csv')"
   ]
  },
  {
   "cell_type": "code",
   "execution_count": 158,
   "metadata": {},
   "outputs": [
    {
     "data": {
      "text/html": [
       "<div>\n",
       "<style scoped>\n",
       "    .dataframe tbody tr th:only-of-type {\n",
       "        vertical-align: middle;\n",
       "    }\n",
       "\n",
       "    .dataframe tbody tr th {\n",
       "        vertical-align: top;\n",
       "    }\n",
       "\n",
       "    .dataframe thead th {\n",
       "        text-align: right;\n",
       "    }\n",
       "</style>\n",
       "<table border=\"1\" class=\"dataframe\">\n",
       "  <thead>\n",
       "    <tr style=\"text-align: right;\">\n",
       "      <th></th>\n",
       "      <th>id</th>\n",
       "      <th>alias</th>\n",
       "      <th>name</th>\n",
       "      <th>image_url</th>\n",
       "      <th>is_closed</th>\n",
       "      <th>url</th>\n",
       "      <th>review_count</th>\n",
       "      <th>category alias</th>\n",
       "      <th>category title</th>\n",
       "      <th>rating</th>\n",
       "      <th>coordinates</th>\n",
       "      <th>latitude</th>\n",
       "      <th>longitude</th>\n",
       "      <th>street</th>\n",
       "      <th>apt</th>\n",
       "      <th>area</th>\n",
       "      <th>city</th>\n",
       "      <th>pincode</th>\n",
       "      <th>country</th>\n",
       "      <th>state</th>\n",
       "      <th>address1</th>\n",
       "      <th>address2</th>\n",
       "      <th>phone</th>\n",
       "      <th>display_phone</th>\n",
       "      <th>distance</th>\n",
       "      <th>price</th>\n",
       "    </tr>\n",
       "  </thead>\n",
       "  <tbody>\n",
       "    <tr>\n",
       "      <th>0</th>\n",
       "      <td>33tYNCEBSlDaQOgRq8-L9g</td>\n",
       "      <td>muse-bar-new-york</td>\n",
       "      <td>Muse Bar</td>\n",
       "      <td>https://s3-media2.fl.yelpcdn.com/bphoto/JXlRGp...</td>\n",
       "      <td>False</td>\n",
       "      <td>https://www.yelp.com/biz/muse-bar-new-york?adj...</td>\n",
       "      <td>6</td>\n",
       "      <td>cocktailbars</td>\n",
       "      <td>Cocktail Bars</td>\n",
       "      <td>5.0</td>\n",
       "      <td>40.757920</td>\n",
       "      <td>-73.983750</td>\n",
       "      <td>NaN</td>\n",
       "      <td>130 W 46th St</td>\n",
       "      <td>NaN</td>\n",
       "      <td>None</td>\n",
       "      <td>New York</td>\n",
       "      <td>10036.00</td>\n",
       "      <td>US</td>\n",
       "      <td>NY</td>\n",
       "      <td>130 W 46th St-New York</td>\n",
       "      <td>NY 10036</td>\n",
       "      <td>12124852999</td>\n",
       "      <td>(212) 485-2999</td>\n",
       "      <td>520.1101292</td>\n",
       "      <td></td>\n",
       "    </tr>\n",
       "    <tr>\n",
       "      <th>1</th>\n",
       "      <td>rVwQcrogYw-O2SsAk51iYA</td>\n",
       "      <td>bemelmans-bar-new-york</td>\n",
       "      <td>Bemelmans Bar</td>\n",
       "      <td>https://s3-media2.fl.yelpcdn.com/bphoto/rllg-W...</td>\n",
       "      <td>False</td>\n",
       "      <td>https://www.yelp.com/biz/bemelmans-bar-new-yor...</td>\n",
       "      <td>302</td>\n",
       "      <td>bars</td>\n",
       "      <td>Bars</td>\n",
       "      <td>4.0</td>\n",
       "      <td>40.774379</td>\n",
       "      <td>-73.963308</td>\n",
       "      <td>NaN</td>\n",
       "      <td>35 E 76th St</td>\n",
       "      <td>NaN</td>\n",
       "      <td>Carlyle Hotel</td>\n",
       "      <td>New York</td>\n",
       "      <td>10021.00</td>\n",
       "      <td>US</td>\n",
       "      <td>NY</td>\n",
       "      <td>35 E 76th St-Carlyle Hotel-New York</td>\n",
       "      <td>NY 10021</td>\n",
       "      <td>12127441600</td>\n",
       "      <td>(212) 744-1600</td>\n",
       "      <td>2029.144814</td>\n",
       "      <td>$$$</td>\n",
       "    </tr>\n",
       "  </tbody>\n",
       "</table>\n",
       "</div>"
      ],
      "text/plain": [
       "                       id                   alias           name  \\\n",
       "0  33tYNCEBSlDaQOgRq8-L9g       muse-bar-new-york       Muse Bar   \n",
       "1  rVwQcrogYw-O2SsAk51iYA  bemelmans-bar-new-york  Bemelmans Bar   \n",
       "\n",
       "                                           image_url  is_closed  \\\n",
       "0  https://s3-media2.fl.yelpcdn.com/bphoto/JXlRGp...      False   \n",
       "1  https://s3-media2.fl.yelpcdn.com/bphoto/rllg-W...      False   \n",
       "\n",
       "                                                 url  review_count  \\\n",
       "0  https://www.yelp.com/biz/muse-bar-new-york?adj...             6   \n",
       "1  https://www.yelp.com/biz/bemelmans-bar-new-yor...           302   \n",
       "\n",
       "  category alias category title  rating  coordinates   latitude longitude  \\\n",
       "0   cocktailbars  Cocktail Bars     5.0    40.757920 -73.983750       NaN   \n",
       "1           bars           Bars     4.0    40.774379 -73.963308       NaN   \n",
       "\n",
       "          street  apt           area      city   pincode country state  \\\n",
       "0  130 W 46th St  NaN           None  New York  10036.00      US    NY   \n",
       "1   35 E 76th St  NaN  Carlyle Hotel  New York  10021.00      US    NY   \n",
       "\n",
       "                              address1   address2        phone  \\\n",
       "0               130 W 46th St-New York   NY 10036  12124852999   \n",
       "1  35 E 76th St-Carlyle Hotel-New York   NY 10021  12127441600   \n",
       "\n",
       "    display_phone     distance price  \n",
       "0  (212) 485-2999  520.1101292        \n",
       "1  (212) 744-1600  2029.144814   $$$  "
      ]
     },
     "execution_count": 158,
     "metadata": {},
     "output_type": "execute_result"
    }
   ],
   "source": [
    "yelp.head(2)"
   ]
  },
  {
   "cell_type": "code",
   "execution_count": 159,
   "metadata": {},
   "outputs": [],
   "source": [
    "# Taking only the required columns"
   ]
  },
  {
   "cell_type": "code",
   "execution_count": 160,
   "metadata": {},
   "outputs": [],
   "source": [
    "yelp=yelp[['id','name','is_closed','review_count','category alias','category title','rating','coordinates',\n",
    "          'latitude','pincode','address2','distance','price']]"
   ]
  },
  {
   "cell_type": "code",
   "execution_count": 161,
   "metadata": {},
   "outputs": [
    {
     "data": {
      "text/html": [
       "<div>\n",
       "<style scoped>\n",
       "    .dataframe tbody tr th:only-of-type {\n",
       "        vertical-align: middle;\n",
       "    }\n",
       "\n",
       "    .dataframe tbody tr th {\n",
       "        vertical-align: top;\n",
       "    }\n",
       "\n",
       "    .dataframe thead th {\n",
       "        text-align: right;\n",
       "    }\n",
       "</style>\n",
       "<table border=\"1\" class=\"dataframe\">\n",
       "  <thead>\n",
       "    <tr style=\"text-align: right;\">\n",
       "      <th></th>\n",
       "      <th>id</th>\n",
       "      <th>name</th>\n",
       "      <th>is_closed</th>\n",
       "      <th>review_count</th>\n",
       "      <th>category alias</th>\n",
       "      <th>category title</th>\n",
       "      <th>rating</th>\n",
       "      <th>coordinates</th>\n",
       "      <th>latitude</th>\n",
       "      <th>pincode</th>\n",
       "      <th>address2</th>\n",
       "      <th>distance</th>\n",
       "      <th>price</th>\n",
       "    </tr>\n",
       "  </thead>\n",
       "  <tbody>\n",
       "    <tr>\n",
       "      <th>0</th>\n",
       "      <td>33tYNCEBSlDaQOgRq8-L9g</td>\n",
       "      <td>Muse Bar</td>\n",
       "      <td>False</td>\n",
       "      <td>6</td>\n",
       "      <td>cocktailbars</td>\n",
       "      <td>Cocktail Bars</td>\n",
       "      <td>5.0</td>\n",
       "      <td>40.75792</td>\n",
       "      <td>-73.98375</td>\n",
       "      <td>10036.00</td>\n",
       "      <td>NY 10036</td>\n",
       "      <td>520.1101292</td>\n",
       "      <td></td>\n",
       "    </tr>\n",
       "  </tbody>\n",
       "</table>\n",
       "</div>"
      ],
      "text/plain": [
       "                       id      name  is_closed  review_count category alias  \\\n",
       "0  33tYNCEBSlDaQOgRq8-L9g  Muse Bar      False             6   cocktailbars   \n",
       "\n",
       "  category title  rating  coordinates  latitude   pincode   address2  \\\n",
       "0  Cocktail Bars     5.0     40.75792 -73.98375  10036.00   NY 10036   \n",
       "\n",
       "      distance price  \n",
       "0  520.1101292        "
      ]
     },
     "execution_count": 161,
     "metadata": {},
     "output_type": "execute_result"
    }
   ],
   "source": [
    "yelp.head(1)"
   ]
  },
  {
   "cell_type": "code",
   "execution_count": 162,
   "metadata": {},
   "outputs": [
    {
     "data": {
      "text/plain": [
       "id                0\n",
       "name              0\n",
       "is_closed         0\n",
       "review_count      0\n",
       "category alias    0\n",
       "category title    0\n",
       "rating            0\n",
       "coordinates       0\n",
       "latitude          0\n",
       "pincode           4\n",
       "address2          0\n",
       "distance          0\n",
       "price             1\n",
       "dtype: int64"
      ]
     },
     "execution_count": 162,
     "metadata": {},
     "output_type": "execute_result"
    }
   ],
   "source": [
    "yelp.isnull().sum()"
   ]
  },
  {
   "cell_type": "code",
   "execution_count": 163,
   "metadata": {},
   "outputs": [],
   "source": [
    "yelp.dropna(subset=['pincode','price'],inplace=True)"
   ]
  },
  {
   "cell_type": "code",
   "execution_count": 164,
   "metadata": {},
   "outputs": [
    {
     "data": {
      "text/plain": [
       "id                0\n",
       "name              0\n",
       "is_closed         0\n",
       "review_count      0\n",
       "category alias    0\n",
       "category title    0\n",
       "rating            0\n",
       "coordinates       0\n",
       "latitude          0\n",
       "pincode           0\n",
       "address2          0\n",
       "distance          0\n",
       "price             0\n",
       "dtype: int64"
      ]
     },
     "execution_count": 164,
     "metadata": {},
     "output_type": "execute_result"
    }
   ],
   "source": [
    "yelp.isnull().sum()"
   ]
  },
  {
   "cell_type": "code",
   "execution_count": 165,
   "metadata": {},
   "outputs": [],
   "source": [
    "#yelp['pincode'] = yelp['pincode'].astype(int)"
   ]
  },
  {
   "cell_type": "code",
   "execution_count": 166,
   "metadata": {},
   "outputs": [],
   "source": [
    "yelp['zipcode']=yelp['address2'].str.split(' ').str[2]"
   ]
  },
  {
   "cell_type": "code",
   "execution_count": 167,
   "metadata": {},
   "outputs": [
    {
     "data": {
      "text/html": [
       "<div>\n",
       "<style scoped>\n",
       "    .dataframe tbody tr th:only-of-type {\n",
       "        vertical-align: middle;\n",
       "    }\n",
       "\n",
       "    .dataframe tbody tr th {\n",
       "        vertical-align: top;\n",
       "    }\n",
       "\n",
       "    .dataframe thead th {\n",
       "        text-align: right;\n",
       "    }\n",
       "</style>\n",
       "<table border=\"1\" class=\"dataframe\">\n",
       "  <thead>\n",
       "    <tr style=\"text-align: right;\">\n",
       "      <th></th>\n",
       "      <th>id</th>\n",
       "      <th>name</th>\n",
       "      <th>is_closed</th>\n",
       "      <th>review_count</th>\n",
       "      <th>category alias</th>\n",
       "      <th>category title</th>\n",
       "      <th>rating</th>\n",
       "      <th>coordinates</th>\n",
       "      <th>latitude</th>\n",
       "      <th>pincode</th>\n",
       "      <th>address2</th>\n",
       "      <th>distance</th>\n",
       "      <th>price</th>\n",
       "      <th>zipcode</th>\n",
       "    </tr>\n",
       "  </thead>\n",
       "  <tbody>\n",
       "    <tr>\n",
       "      <th>0</th>\n",
       "      <td>33tYNCEBSlDaQOgRq8-L9g</td>\n",
       "      <td>Muse Bar</td>\n",
       "      <td>False</td>\n",
       "      <td>6</td>\n",
       "      <td>cocktailbars</td>\n",
       "      <td>Cocktail Bars</td>\n",
       "      <td>5.0</td>\n",
       "      <td>40.75792</td>\n",
       "      <td>-73.98375</td>\n",
       "      <td>10036.00</td>\n",
       "      <td>NY 10036</td>\n",
       "      <td>520.1101292</td>\n",
       "      <td></td>\n",
       "      <td>10036</td>\n",
       "    </tr>\n",
       "  </tbody>\n",
       "</table>\n",
       "</div>"
      ],
      "text/plain": [
       "                       id      name  is_closed  review_count category alias  \\\n",
       "0  33tYNCEBSlDaQOgRq8-L9g  Muse Bar      False             6   cocktailbars   \n",
       "\n",
       "  category title  rating  coordinates  latitude   pincode   address2  \\\n",
       "0  Cocktail Bars     5.0     40.75792 -73.98375  10036.00   NY 10036   \n",
       "\n",
       "      distance price zipcode  \n",
       "0  520.1101292         10036  "
      ]
     },
     "execution_count": 167,
     "metadata": {},
     "output_type": "execute_result"
    }
   ],
   "source": [
    "yelp.head(1)"
   ]
  },
  {
   "cell_type": "code",
   "execution_count": 168,
   "metadata": {},
   "outputs": [
    {
     "data": {
      "text/plain": [
       "id                 object\n",
       "name               object\n",
       "is_closed            bool\n",
       "review_count        int64\n",
       "category alias     object\n",
       "category title     object\n",
       "rating            float64\n",
       "coordinates       float64\n",
       "latitude          float64\n",
       "pincode            object\n",
       "address2           object\n",
       "distance           object\n",
       "price              object\n",
       "zipcode            object\n",
       "dtype: object"
      ]
     },
     "execution_count": 168,
     "metadata": {},
     "output_type": "execute_result"
    }
   ],
   "source": [
    "yelp.dtypes"
   ]
  },
  {
   "cell_type": "code",
   "execution_count": 169,
   "metadata": {},
   "outputs": [],
   "source": [
    "yelp['zipcode'] = yelp['zipcode'].astype(int)"
   ]
  },
  {
   "cell_type": "code",
   "execution_count": 170,
   "metadata": {},
   "outputs": [],
   "source": [
    "yelp.rename(columns = {'coordinates':'latitude', 'latitude':'longitude'}, inplace = True) "
   ]
  },
  {
   "cell_type": "code",
   "execution_count": 171,
   "metadata": {},
   "outputs": [],
   "source": [
    "yelp.drop(['pincode','address2'],axis=1,inplace=True)"
   ]
  },
  {
   "cell_type": "code",
   "execution_count": 172,
   "metadata": {},
   "outputs": [
    {
     "data": {
      "text/html": [
       "<div>\n",
       "<style scoped>\n",
       "    .dataframe tbody tr th:only-of-type {\n",
       "        vertical-align: middle;\n",
       "    }\n",
       "\n",
       "    .dataframe tbody tr th {\n",
       "        vertical-align: top;\n",
       "    }\n",
       "\n",
       "    .dataframe thead th {\n",
       "        text-align: right;\n",
       "    }\n",
       "</style>\n",
       "<table border=\"1\" class=\"dataframe\">\n",
       "  <thead>\n",
       "    <tr style=\"text-align: right;\">\n",
       "      <th></th>\n",
       "      <th>id</th>\n",
       "      <th>name</th>\n",
       "      <th>is_closed</th>\n",
       "      <th>review_count</th>\n",
       "      <th>category alias</th>\n",
       "      <th>category title</th>\n",
       "      <th>rating</th>\n",
       "      <th>latitude</th>\n",
       "      <th>longitude</th>\n",
       "      <th>distance</th>\n",
       "      <th>price</th>\n",
       "      <th>zipcode</th>\n",
       "    </tr>\n",
       "  </thead>\n",
       "  <tbody>\n",
       "    <tr>\n",
       "      <th>0</th>\n",
       "      <td>33tYNCEBSlDaQOgRq8-L9g</td>\n",
       "      <td>Muse Bar</td>\n",
       "      <td>False</td>\n",
       "      <td>6</td>\n",
       "      <td>cocktailbars</td>\n",
       "      <td>Cocktail Bars</td>\n",
       "      <td>5.0</td>\n",
       "      <td>40.757920</td>\n",
       "      <td>-73.983750</td>\n",
       "      <td>520.1101292</td>\n",
       "      <td></td>\n",
       "      <td>10036</td>\n",
       "    </tr>\n",
       "    <tr>\n",
       "      <th>1</th>\n",
       "      <td>rVwQcrogYw-O2SsAk51iYA</td>\n",
       "      <td>Bemelmans Bar</td>\n",
       "      <td>False</td>\n",
       "      <td>302</td>\n",
       "      <td>bars</td>\n",
       "      <td>Bars</td>\n",
       "      <td>4.0</td>\n",
       "      <td>40.774379</td>\n",
       "      <td>-73.963308</td>\n",
       "      <td>2029.144814</td>\n",
       "      <td>$$$</td>\n",
       "      <td>10021</td>\n",
       "    </tr>\n",
       "  </tbody>\n",
       "</table>\n",
       "</div>"
      ],
      "text/plain": [
       "                       id           name  is_closed  review_count  \\\n",
       "0  33tYNCEBSlDaQOgRq8-L9g       Muse Bar      False             6   \n",
       "1  rVwQcrogYw-O2SsAk51iYA  Bemelmans Bar      False           302   \n",
       "\n",
       "  category alias category title  rating   latitude  longitude     distance  \\\n",
       "0   cocktailbars  Cocktail Bars     5.0  40.757920 -73.983750  520.1101292   \n",
       "1           bars           Bars     4.0  40.774379 -73.963308  2029.144814   \n",
       "\n",
       "  price  zipcode  \n",
       "0          10036  \n",
       "1   $$$    10021  "
      ]
     },
     "execution_count": 172,
     "metadata": {},
     "output_type": "execute_result"
    }
   ],
   "source": [
    "yelp.head(2)"
   ]
  },
  {
   "cell_type": "code",
   "execution_count": 173,
   "metadata": {},
   "outputs": [
    {
     "data": {
      "text/plain": [
       "(8457, 12)"
      ]
     },
     "execution_count": 173,
     "metadata": {},
     "output_type": "execute_result"
    }
   ],
   "source": [
    "yelp.shape"
   ]
  },
  {
   "cell_type": "code",
   "execution_count": 174,
   "metadata": {},
   "outputs": [],
   "source": [
    "# Recode price as int\n",
    "yelp['price'] = yelp['price'].map({'$':1, \"$$\":2, '$$$':3, '$$$$':4})"
   ]
  },
  {
   "cell_type": "code",
   "execution_count": 175,
   "metadata": {},
   "outputs": [
    {
     "data": {
      "text/html": [
       "<div>\n",
       "<style scoped>\n",
       "    .dataframe tbody tr th:only-of-type {\n",
       "        vertical-align: middle;\n",
       "    }\n",
       "\n",
       "    .dataframe tbody tr th {\n",
       "        vertical-align: top;\n",
       "    }\n",
       "\n",
       "    .dataframe thead th {\n",
       "        text-align: right;\n",
       "    }\n",
       "</style>\n",
       "<table border=\"1\" class=\"dataframe\">\n",
       "  <thead>\n",
       "    <tr style=\"text-align: right;\">\n",
       "      <th></th>\n",
       "      <th>id</th>\n",
       "      <th>name</th>\n",
       "      <th>is_closed</th>\n",
       "      <th>review_count</th>\n",
       "      <th>category alias</th>\n",
       "      <th>category title</th>\n",
       "      <th>rating</th>\n",
       "      <th>latitude</th>\n",
       "      <th>longitude</th>\n",
       "      <th>distance</th>\n",
       "      <th>price</th>\n",
       "      <th>zipcode</th>\n",
       "    </tr>\n",
       "  </thead>\n",
       "  <tbody>\n",
       "    <tr>\n",
       "      <th>0</th>\n",
       "      <td>33tYNCEBSlDaQOgRq8-L9g</td>\n",
       "      <td>Muse Bar</td>\n",
       "      <td>False</td>\n",
       "      <td>6</td>\n",
       "      <td>cocktailbars</td>\n",
       "      <td>Cocktail Bars</td>\n",
       "      <td>5.0</td>\n",
       "      <td>40.757920</td>\n",
       "      <td>-73.983750</td>\n",
       "      <td>520.1101292</td>\n",
       "      <td>NaN</td>\n",
       "      <td>10036</td>\n",
       "    </tr>\n",
       "    <tr>\n",
       "      <th>1</th>\n",
       "      <td>rVwQcrogYw-O2SsAk51iYA</td>\n",
       "      <td>Bemelmans Bar</td>\n",
       "      <td>False</td>\n",
       "      <td>302</td>\n",
       "      <td>bars</td>\n",
       "      <td>Bars</td>\n",
       "      <td>4.0</td>\n",
       "      <td>40.774379</td>\n",
       "      <td>-73.963308</td>\n",
       "      <td>2029.144814</td>\n",
       "      <td>3.0</td>\n",
       "      <td>10021</td>\n",
       "    </tr>\n",
       "  </tbody>\n",
       "</table>\n",
       "</div>"
      ],
      "text/plain": [
       "                       id           name  is_closed  review_count  \\\n",
       "0  33tYNCEBSlDaQOgRq8-L9g       Muse Bar      False             6   \n",
       "1  rVwQcrogYw-O2SsAk51iYA  Bemelmans Bar      False           302   \n",
       "\n",
       "  category alias category title  rating   latitude  longitude     distance  \\\n",
       "0   cocktailbars  Cocktail Bars     5.0  40.757920 -73.983750  520.1101292   \n",
       "1           bars           Bars     4.0  40.774379 -73.963308  2029.144814   \n",
       "\n",
       "   price  zipcode  \n",
       "0    NaN    10036  \n",
       "1    3.0    10021  "
      ]
     },
     "execution_count": 175,
     "metadata": {},
     "output_type": "execute_result"
    }
   ],
   "source": [
    "yelp.head(2)"
   ]
  },
  {
   "cell_type": "code",
   "execution_count": 176,
   "metadata": {},
   "outputs": [],
   "source": [
    "# Build borough column\n",
    "zip_to_bor = pd.read_csv('neighborhood-NYC.csv')\n",
    "borough_dict = dict(zip(zip_to_bor['zipcode'], zip_to_bor['borough']))\n",
    "yelp['borough'] = yelp['zipcode'].map(borough_dict)"
   ]
  },
  {
   "cell_type": "code",
   "execution_count": 177,
   "metadata": {},
   "outputs": [
    {
     "data": {
      "text/plain": [
       "Manhattan        2767\n",
       "Brooklyn         2025\n",
       "Queens           1471\n",
       "Bronx             766\n",
       "Staten Island     509\n",
       "New Jersey        367\n",
       "Name: borough, dtype: int64"
      ]
     },
     "execution_count": 177,
     "metadata": {},
     "output_type": "execute_result"
    }
   ],
   "source": [
    "yelp.borough.value_counts()"
   ]
  },
  {
   "cell_type": "code",
   "execution_count": 178,
   "metadata": {
    "scrolled": true
   },
   "outputs": [
    {
     "data": {
      "text/plain": [
       "id                   0\n",
       "name                 0\n",
       "is_closed            0\n",
       "review_count         0\n",
       "category alias       0\n",
       "category title       0\n",
       "rating               0\n",
       "latitude             0\n",
       "longitude            0\n",
       "distance             0\n",
       "price             1534\n",
       "zipcode              0\n",
       "borough            552\n",
       "dtype: int64"
      ]
     },
     "execution_count": 178,
     "metadata": {},
     "output_type": "execute_result"
    }
   ],
   "source": [
    "yelp.isnull().sum()"
   ]
  },
  {
   "cell_type": "code",
   "execution_count": 179,
   "metadata": {},
   "outputs": [],
   "source": [
    "# yelp[yelp['borough'].isnull() & (yelp['neighborhood'].isnull())]['zipcode'].value_counts()\n",
    "# yelp[yelp['borough'].isnull()].index.tolist()\n",
    "# On inspecting, I found out that these zipcodes were either from NJ or some random, \n",
    "# some restaurants other than NYC were fecthed while calling the API "
   ]
  },
  {
   "cell_type": "code",
   "execution_count": 180,
   "metadata": {},
   "outputs": [],
   "source": [
    "yelp.dropna(subset=['borough',],inplace=True)"
   ]
  },
  {
   "cell_type": "code",
   "execution_count": 181,
   "metadata": {},
   "outputs": [],
   "source": [
    "# Building neighborhood column based on neighborhood group of Airbnb"
   ]
  },
  {
   "cell_type": "code",
   "execution_count": 182,
   "metadata": {},
   "outputs": [],
   "source": [
    "borough_dict1 = dict(zip(zip_to_bor['zipcode'], zip_to_bor['neighborhood']))\n",
    "yelp['neighborhood'] = yelp['zipcode'].map(borough_dict1)"
   ]
  },
  {
   "cell_type": "code",
   "execution_count": 183,
   "metadata": {},
   "outputs": [
    {
     "data": {
      "text/html": [
       "<div>\n",
       "<style scoped>\n",
       "    .dataframe tbody tr th:only-of-type {\n",
       "        vertical-align: middle;\n",
       "    }\n",
       "\n",
       "    .dataframe tbody tr th {\n",
       "        vertical-align: top;\n",
       "    }\n",
       "\n",
       "    .dataframe thead th {\n",
       "        text-align: right;\n",
       "    }\n",
       "</style>\n",
       "<table border=\"1\" class=\"dataframe\">\n",
       "  <thead>\n",
       "    <tr style=\"text-align: right;\">\n",
       "      <th></th>\n",
       "      <th>id</th>\n",
       "      <th>name</th>\n",
       "      <th>is_closed</th>\n",
       "      <th>review_count</th>\n",
       "      <th>category alias</th>\n",
       "      <th>category title</th>\n",
       "      <th>rating</th>\n",
       "      <th>latitude</th>\n",
       "      <th>longitude</th>\n",
       "      <th>distance</th>\n",
       "      <th>price</th>\n",
       "      <th>zipcode</th>\n",
       "      <th>borough</th>\n",
       "      <th>neighborhood</th>\n",
       "    </tr>\n",
       "  </thead>\n",
       "  <tbody>\n",
       "    <tr>\n",
       "      <th>0</th>\n",
       "      <td>33tYNCEBSlDaQOgRq8-L9g</td>\n",
       "      <td>Muse Bar</td>\n",
       "      <td>False</td>\n",
       "      <td>6</td>\n",
       "      <td>cocktailbars</td>\n",
       "      <td>Cocktail Bars</td>\n",
       "      <td>5.0</td>\n",
       "      <td>40.757920</td>\n",
       "      <td>-73.983750</td>\n",
       "      <td>520.1101292</td>\n",
       "      <td>NaN</td>\n",
       "      <td>10036</td>\n",
       "      <td>Manhattan</td>\n",
       "      <td>Chelsea and Clinton</td>\n",
       "    </tr>\n",
       "    <tr>\n",
       "      <th>1</th>\n",
       "      <td>rVwQcrogYw-O2SsAk51iYA</td>\n",
       "      <td>Bemelmans Bar</td>\n",
       "      <td>False</td>\n",
       "      <td>302</td>\n",
       "      <td>bars</td>\n",
       "      <td>Bars</td>\n",
       "      <td>4.0</td>\n",
       "      <td>40.774379</td>\n",
       "      <td>-73.963308</td>\n",
       "      <td>2029.144814</td>\n",
       "      <td>3.0</td>\n",
       "      <td>10021</td>\n",
       "      <td>Manhattan</td>\n",
       "      <td>Upper East Side</td>\n",
       "    </tr>\n",
       "  </tbody>\n",
       "</table>\n",
       "</div>"
      ],
      "text/plain": [
       "                       id           name  is_closed  review_count  \\\n",
       "0  33tYNCEBSlDaQOgRq8-L9g       Muse Bar      False             6   \n",
       "1  rVwQcrogYw-O2SsAk51iYA  Bemelmans Bar      False           302   \n",
       "\n",
       "  category alias category title  rating   latitude  longitude     distance  \\\n",
       "0   cocktailbars  Cocktail Bars     5.0  40.757920 -73.983750  520.1101292   \n",
       "1           bars           Bars     4.0  40.774379 -73.963308  2029.144814   \n",
       "\n",
       "   price  zipcode    borough         neighborhood  \n",
       "0    NaN    10036  Manhattan  Chelsea and Clinton  \n",
       "1    3.0    10021  Manhattan      Upper East Side  "
      ]
     },
     "execution_count": 183,
     "metadata": {},
     "output_type": "execute_result"
    }
   ],
   "source": [
    "yelp.head(2)"
   ]
  },
  {
   "cell_type": "code",
   "execution_count": 192,
   "metadata": {},
   "outputs": [
    {
     "data": {
      "text/plain": [
       "id                0\n",
       "name              0\n",
       "is_closed         0\n",
       "review_count      0\n",
       "category alias    0\n",
       "category title    0\n",
       "rating            0\n",
       "latitude          0\n",
       "longitude         0\n",
       "distance          0\n",
       "price             0\n",
       "zipcode           0\n",
       "borough           0\n",
       "neighborhood      0\n",
       "dtype: int64"
      ]
     },
     "execution_count": 192,
     "metadata": {},
     "output_type": "execute_result"
    }
   ],
   "source": [
    "yelp.isnull().sum()"
   ]
  },
  {
   "cell_type": "code",
   "execution_count": 186,
   "metadata": {},
   "outputs": [
    {
     "data": {
      "text/plain": [
       "2.0"
      ]
     },
     "execution_count": 186,
     "metadata": {},
     "output_type": "execute_result"
    }
   ],
   "source": [
    "yelp['price'].median()"
   ]
  },
  {
   "cell_type": "code",
   "execution_count": 187,
   "metadata": {},
   "outputs": [],
   "source": [
    "# replacing Price with median"
   ]
  },
  {
   "cell_type": "code",
   "execution_count": 190,
   "metadata": {},
   "outputs": [],
   "source": [
    "yelp=yelp.fillna(yelp.median())"
   ]
  },
  {
   "cell_type": "code",
   "execution_count": 193,
   "metadata": {},
   "outputs": [],
   "source": [
    "yelp.to_csv('yelp_cleaned.csv')"
   ]
  },
  {
   "cell_type": "code",
   "execution_count": null,
   "metadata": {},
   "outputs": [],
   "source": []
  }
 ],
 "metadata": {
  "kernelspec": {
   "display_name": "Python 3",
   "language": "python",
   "name": "python3"
  },
  "language_info": {
   "codemirror_mode": {
    "name": "ipython",
    "version": 3
   },
   "file_extension": ".py",
   "mimetype": "text/x-python",
   "name": "python",
   "nbconvert_exporter": "python",
   "pygments_lexer": "ipython3",
   "version": "3.7.0"
  }
 },
 "nbformat": 4,
 "nbformat_minor": 2
}
